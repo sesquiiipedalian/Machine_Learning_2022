{
  "cells": [
    {
      "cell_type": "markdown",
      "metadata": {
        "id": "G64TptyJhLuo"
      },
      "source": [
        "### О задании\n",
        "\n",
        "Задание состоит из двух разделов, посвященных работе с табличными данными с помощью библиотеки pandas и визуализации с помощью matplotlib. В первом разделе вам предстоит выполнить базовые задания с помощью вышеуказанных библиотек, а во втором распределить студентов по курсам. Баллы даются за выполнение отдельных пунктов. Задачи в рамках одного раздела рекомендуется решать в том порядке, в котором они даны в задании.\n",
        "\n",
        "Задание направлено на освоение jupyter notebook (будет использоваться в дальнейших заданиях), библиотек pandas и matplotlib.\n",
        "\n",
        "### Оценивание и штрафы\n",
        "Каждая из задач имеет определенную «стоимость» (указана в скобках около задачи). Максимально допустимая оценка за работу — 10 баллов.\n",
        "\n",
        "Сдавать задание после жёсткого дедлайна нельзя. При выставлении неполного балла за задание в связи с наличием ошибок на усмотрение проверяющего предусмотрена возможность исправить работу на указанных в ответном письме условиях.\n",
        "\n",
        "Задание выполняется самостоятельно. «Похожие» решения считаются плагиатом и все задействованные студенты (в том числе те, у кого списали) не могут получить за него больше 0 баллов (подробнее о плагиате см. на странице курса). Если вы нашли решение какого-то из заданий (или его часть) в открытом источнике, необходимо указать ссылку на этот источник (скорее всего вы будете не единственным, кто это нашел, поэтому чтобы исключить подозрение в плагиате, необходима ссылка на источник).\n",
        "\n",
        "### Формат сдачи\n",
        "Задания сдаются через систему Anytask. Инвайт можно получить у семинариста или ассистента. Присылать необходимо ноутбук с выполненным заданием. Сам ноутбук называйте в формате homework-practice-01-pandas-Username.ipynb, где Username — ваша фамилия.\n",
        "\n",
        "Для удобства проверки самостоятельно посчитайте свою максимальную оценку (исходя из набора решенных задач) и укажите ниже.\n",
        "\n",
        "Оценка: xx."
      ]
    },
    {
      "cell_type": "markdown",
      "metadata": {
        "id": "BaXlfHE_hLup"
      },
      "source": [
        "## 0. Введение"
      ]
    },
    {
      "cell_type": "markdown",
      "metadata": {
        "id": "wirAvJNxhLup"
      },
      "source": [
        "Сейчас мы находимся в jupyter-ноутбуке (или ipython-ноутбуке). Это удобная среда для написания кода, проведения экспериментов, изучения данных, построения визуализаций и других нужд, не связанных с написанием production-кода. \n",
        "\n",
        "Ноутбук состоит из ячеек, каждая из которых может быть либо ячейкой с кодом, либо ячейкой с текстом размеченным и неразмеченным. Текст поддерживает markdown-разметку и формулы в Latex.\n",
        "\n",
        "Для работы с содержимым ячейки используется *режим редактирования* (*Edit mode*, включается нажатием клавиши **Enter** после выбора ячейки), а для навигации между ячейками искользуется *командный режим* (*Command mode*, включается нажатием клавиши **Esc**). Тип ячейки можно задать в командном режиме либо с помощью горячих клавиш (**y** to code, **m** to markdown, **r** to edit raw text), либо в меню *Cell -> Cell type*. \n",
        "\n",
        "После заполнения ячейки нужно нажать *Shift + Enter*, эта команда обработает содержимое ячейки: проинтерпретирует код или сверстает размеченный текст."
      ]
    },
    {
      "cell_type": "code",
      "execution_count": 655,
      "metadata": {
        "colab": {
          "base_uri": "https://localhost:8080/"
        },
        "id": "aQ2_j3nkhLuq",
        "outputId": "a938cd53-b7da-470b-ea0e-9c5fd0ab68e9"
      },
      "outputs": [
        {
          "output_type": "execute_result",
          "data": {
            "text/plain": [
              "4"
            ]
          },
          "metadata": {},
          "execution_count": 655
        }
      ],
      "source": [
        "# ячейка с кодом, при выполнении которой появится output\n",
        "2 + 2"
      ]
    },
    {
      "cell_type": "markdown",
      "metadata": {
        "id": "HcF9My_FhLuk"
      },
      "source": [
        "## Машинное обучение 1, ПМИ ФКН ВШЭ\n",
        "\n",
        "## Практическое домашнее задание 1\n",
        "\n",
        "### Общая информация\n",
        "\n",
        "Дата выдачи: 09.09.2022\n",
        "\n",
        "Мягкий дедлайн: 23:59MSK 22.09.2022\n",
        "\n",
        "Жесткий дедлайн: 23:59MSK 29.09.2022"
      ]
    },
    {
      "cell_type": "markdown",
      "metadata": {
        "id": "ZlulCwVKhLur"
      },
      "source": [
        "Ячейка с неразмеченыным текстом."
      ]
    },
    {
      "cell_type": "markdown",
      "metadata": {
        "id": "A4wkVlIehLur"
      },
      "source": [
        "Попробуйте создать свои ячейки, написать какой-нибудь код и текст какой-нибудь формулой."
      ]
    },
    {
      "cell_type": "markdown",
      "metadata": {
        "id": "iWs6ljrIhLus"
      },
      "source": [
        "[Здесь](https://athena.brynmawr.edu/jupyter/hub/dblank/public/Jupyter%20Notebook%20Users%20Manual.ipynb) находится <s>не</s>большая заметка о используемом языке разметки Markdown. Он позволяет:\n",
        "\n",
        "0. Составлять упорядоченные списки\n",
        "1. Выделять *текст* <s>при</s> **необходимости**\n",
        "2. Добавлять [ссылки](http://imgs.xkcd.com/comics/the_universal_label.png)\n",
        "\n",
        "\n",
        "* Составлять неупорядоченные списки\n",
        "\n",
        "Делать вставки с помощью LaTex:\n",
        "    \n",
        "$\n",
        "\\left\\{\n",
        "\\begin{array}{ll}\n",
        "x = 16 \\sin^3 (t) \\\\ \n",
        "y = 13 \\cos (t) - 5 \\cos (2t) - 2 \\cos (3t) - \\cos (4t) \\\\\n",
        "t \\in [0, 2 \\pi]\n",
        "\\end{array}\n",
        "\\right.$"
      ]
    },
    {
      "cell_type": "markdown",
      "metadata": {
        "id": "6fmTGcXOhLus"
      },
      "source": [
        "А ещё можно вставлять картинки, или гифки, или что захотите:\n",
        "\n",
        "<img src=\"https://media1.tenor.com/images/9b8fbe9214504bcf6c60fe4e4f7e114e/tenor.gif?itemid=5416416\" style=\"width: 400px\">"
      ]
    },
    {
      "cell_type": "markdown",
      "metadata": {
        "id": "J_toGw7DhLut"
      },
      "source": [
        "### Google Colab"
      ]
    },
    {
      "cell_type": "markdown",
      "metadata": {
        "id": "jpkbCVjGhLut"
      },
      "source": [
        "Что за колаб? \n",
        "\n",
        "**Google Colab (Colaboratory)** это **Jupyter Notebook + Cloud + Google Drive.**\n",
        "\n",
        "Компания Google предоставляет возможность бесплатно запускать ноутбуки (предварительно загрузив их на свой гугл-диск) прямо в облаке. При этом вам не требуется установка никаких пакетов на свою машину, а работать можно прямиком из браузера. Вот ссылка:"
      ]
    },
    {
      "cell_type": "markdown",
      "metadata": {
        "id": "06MQog3yhLut"
      },
      "source": [
        "https://colab.research.google.com"
      ]
    },
    {
      "cell_type": "markdown",
      "metadata": {
        "id": "5_hfWXKPhLut"
      },
      "source": [
        "При использовании вы увидете много сходств с jupyter ноутбуком. Одним из преимуществ является доступность GPU, соответствующую опцию можно активировать в настройках сервиса. При желании вы сможете найти в интернете много туториалов по использованию или разобраться самостоятельно =)"
      ]
    },
    {
      "cell_type": "markdown",
      "metadata": {
        "id": "sUe2vnFGhLuu"
      },
      "source": [
        "## 1. Табличные данные и Pandas"
      ]
    },
    {
      "cell_type": "markdown",
      "metadata": {
        "id": "DJQzjjqJhLuu"
      },
      "source": [
        "Pandas — удобная библиотека для работы с табличными данными в Python, если данных не слишком много и они помещаются в оперативную память вашего компьютера. Несмотря на неэффективность реализации и некоторые проблемы, библиотека стала стандартом в анализе данных.\n",
        "\n",
        "Основной объект в pandas — это DataFrame, представляющий собой таблицу с именованными колонками различных типов, индексом (может быть многоуровневым). DataFrame можно создавать, считывая таблицу из файла или задавая вручную из других объектов.\n",
        "\n",
        "В этой части потребуется выполнить несколько небольших заданий. Можно пойти двумя путями: сначала изучить материалы, а потом приступить к заданиям, или же разбираться \"по ходу\". Выбирайте сами.\n",
        "\n",
        "Материалы:\n",
        "1. [Pandas за 10 минут из официального руководства](http://pandas.pydata.org/pandas-docs/stable/10min.html)\n",
        "2. [Документация](http://pandas.pydata.org/pandas-docs/stable/index.html) (стоит обращаться, если не понятно, как вызывать конкретный метод)\n",
        "3. [Примеры использования функционала](http://nbviewer.jupyter.org/github/justmarkham/pandas-videos/blob/master/pandas.ipynb)\n",
        "\n",
        "Многие из заданий можно выполнить несколькими способами. Не существуют единственно верного, но попробуйте максимально задействовать арсенал pandas и ориентируйтесь на простоту и понятность вашего кода. Мы не будем подсказывать, что нужно использовать для решения конкретной задачи, попробуйте находить необходимый функционал сами (название метода чаще всего очевидно). В помощь вам документация, поиск и stackoverflow."
      ]
    },
    {
      "cell_type": "code",
      "execution_count": 656,
      "metadata": {
        "colab": {
          "base_uri": "https://localhost:8080/"
        },
        "id": "26zbFY25hLuv",
        "outputId": "cd37cf77-1145-4399-ebf1-ff054b3ca3da"
      },
      "outputs": [
        {
          "output_type": "stream",
          "name": "stdout",
          "text": [
            "Populating the interactive namespace from numpy and matplotlib\n"
          ]
        }
      ],
      "source": [
        "%pylab inline\n",
        "import pandas as pd"
      ]
    },
    {
      "cell_type": "markdown",
      "metadata": {
        "id": "WHB6KepNu-lg"
      },
      "source": [
        "<span style=\"color:red\">Перед выполнением задания необходимо ознакомиться с первым семинаром (seminars/sem01-pandas.ipynb) </span>.\n",
        "\n",
        "Это поможет вам получить общее понимание происходяшего и успешнее справиться с заданием.\n",
        "\n",
        "Также успешному выполнению способствует внимательное чтение текста задания от начала до конца.\n",
        "\n",
        "Удачи!"
      ]
    },
    {
      "cell_type": "markdown",
      "metadata": {
        "id": "dneJl9TyhLuv"
      },
      "source": [
        "Скачаем подготовленные на семинаре данные:"
      ]
    },
    {
      "cell_type": "code",
      "execution_count": 657,
      "metadata": {
        "id": "rj_I0RslhLuw"
      },
      "outputs": [],
      "source": [
        "!wget  -O 'end_seminar.xlsx' -q 'https://www.dropbox.com/s/f4rm8sjc3v99p0m/_end_seminar.xlsx?dl=0'"
      ]
    },
    {
      "cell_type": "markdown",
      "metadata": {
        "id": "5hp7bn_ThLuw"
      },
      "source": [
        "Для пользователей Windows: скачайте файл самостоятельно и поместите его в папку с тетрадкой. Или попробуйте один из следующих вариантов:"
      ]
    },
    {
      "cell_type": "code",
      "execution_count": 657,
      "metadata": {
        "id": "NZJwOqtAvO__"
      },
      "outputs": [],
      "source": []
    },
    {
      "cell_type": "code",
      "execution_count": 658,
      "metadata": {
        "id": "4h4_BaX8hLuw"
      },
      "outputs": [],
      "source": [
        "# !powershell iwr -outf somefile https://somesite/somefile"
      ]
    },
    {
      "cell_type": "code",
      "execution_count": 659,
      "metadata": {
        "id": "7bHroLGChLuw"
      },
      "outputs": [],
      "source": [
        "# !pip install wget\n",
        "# import wget \n",
        "# wget.download('https://dropbox.com/s/f4rm8sjc3v99p0m/_end_seminar.xlsx?dl=1', 'end_seminar.xlsx')"
      ]
    },
    {
      "cell_type": "markdown",
      "metadata": {
        "id": "VFs_6IythLux"
      },
      "source": [
        "##### В первой части задания (до раздела \"Распределение студентов по курсам\") использование циклов запрещается и повлечет за собой снижение оценки. Использование <code>vectorize</code> и  <code>apply</code>, <code>apply_along_axis</code> крайне нежелательно."
      ]
    },
    {
      "cell_type": "markdown",
      "metadata": {
        "id": "shFkfJkohLux"
      },
      "source": [
        "Для каждой задачи из этого раздела вы должны написать код для получения ответа, а также дать текстовый ответ, если он предполагается.\n",
        "\n",
        "На некоторые вопросы вы можете получить путём пристального взгляда на таблицу, но это не будет засчитываться. Вы в любом случае должны получить ответ с помощью кода."
      ]
    },
    {
      "cell_type": "code",
      "execution_count": 659,
      "metadata": {
        "id": "BF4Gb22Tlaa6"
      },
      "outputs": [],
      "source": []
    },
    {
      "cell_type": "markdown",
      "metadata": {
        "id": "gDD85M7bhLux"
      },
      "source": [
        "#### 1. [0 баллов] Откройте файл с таблицей (не забудьте про её формат). Выведите последние 10 строк.\n",
        "\n",
        "Посмотрите на данные и скажите, что они из себя представляют, сколько в таблице строк, какие столбцы? (на это не надо отвечать, просто подумайте об этом)"
      ]
    },
    {
      "cell_type": "code",
      "execution_count": 660,
      "metadata": {
        "id": "PKulur3LhLuy"
      },
      "outputs": [],
      "source": [
        "data1 = pd.read_excel('end_seminar.xlsx')"
      ]
    },
    {
      "cell_type": "code",
      "execution_count": 661,
      "metadata": {
        "colab": {
          "base_uri": "https://localhost:8080/",
          "height": 370
        },
        "id": "xWUp549kw13U",
        "outputId": "b63cf661-8ada-4563-dff2-4891056ff118"
      },
      "outputs": [
        {
          "output_type": "execute_result",
          "data": {
            "text/plain": [
              "                timestamp                                id  rating  18_group  \\\n",
              "0 2020-05-15 01:12:50.543  93ff79a51cd602f1dd3028ba2c129503     698     181.0   \n",
              "1 2020-05-15 02:46:48.066  26b01b1c4cd5656bab18d24c548834fb     647     181.0   \n",
              "2 2020-05-15 03:12:41.480  30f3653fc176d54e89ac3179c455c6dd     624     185.0   \n",
              "3 2020-05-15 04:43:08.994  1528f0eaa027580820ccf0d92a53ad68     579     182.0   \n",
              "4 2020-05-15 07:47:17.197  496ea4f0d4abe264b1bb1b80eb3830c5     572     183.0   \n",
              "\n",
              "   is_mi                             fall_1  \\\n",
              "0    NaN                           Язык SQL   \n",
              "1    NaN  Высокопроизводительные вычисления   \n",
              "2    NaN   Безопасность компьютерных систем   \n",
              "3    NaN        Statistical Learning Theory   \n",
              "4    NaN  Высокопроизводительные вычисления   \n",
              "\n",
              "                              fall_2                         fall_3  \\\n",
              "0  Высокопроизводительные вычисления           Матричные вычисления   \n",
              "1   Безопасность компьютерных систем                       Язык SQL   \n",
              "2               Матричные вычисления  Моделирование временных рядов   \n",
              "3  Высокопроизводительные вычисления           Матричные вычисления   \n",
              "4   Безопасность компьютерных систем              Теория баз данных   \n",
              "\n",
              "                 spring_1                spring_2             spring_3  \\\n",
              "0  Дискретная оптимизация        Численные методы  Машинное обучение 2   \n",
              "1  Дискретная оптимизация        Численные методы  Машинное обучение 2   \n",
              "2  Дискретная оптимизация     Машинное обучение 2     Численные методы   \n",
              "3  Дискретная оптимизация        Численные методы  Машинное обучение 2   \n",
              "4       Компьютерные сети  Дискретная оптимизация     Численные методы   \n",
              "\n",
              "  is_first_time  percentile  17_group blended  is_ml_student  \n",
              "0            Да    0.183857       NaN     NaN            NaN  \n",
              "1           Нет    0.426009       NaN     NaN            NaN  \n",
              "2            Да    0.538117       NaN     NaN            NaN  \n",
              "3            Да    0.744395       NaN     NaN            NaN  \n",
              "4            Да    0.780269       NaN     NaN            NaN  "
            ],
            "text/html": [
              "\n",
              "  <div id=\"df-a0029027-9e5d-481e-b52f-19b8468a31f5\">\n",
              "    <div class=\"colab-df-container\">\n",
              "      <div>\n",
              "<style scoped>\n",
              "    .dataframe tbody tr th:only-of-type {\n",
              "        vertical-align: middle;\n",
              "    }\n",
              "\n",
              "    .dataframe tbody tr th {\n",
              "        vertical-align: top;\n",
              "    }\n",
              "\n",
              "    .dataframe thead th {\n",
              "        text-align: right;\n",
              "    }\n",
              "</style>\n",
              "<table border=\"1\" class=\"dataframe\">\n",
              "  <thead>\n",
              "    <tr style=\"text-align: right;\">\n",
              "      <th></th>\n",
              "      <th>timestamp</th>\n",
              "      <th>id</th>\n",
              "      <th>rating</th>\n",
              "      <th>18_group</th>\n",
              "      <th>is_mi</th>\n",
              "      <th>fall_1</th>\n",
              "      <th>fall_2</th>\n",
              "      <th>fall_3</th>\n",
              "      <th>spring_1</th>\n",
              "      <th>spring_2</th>\n",
              "      <th>spring_3</th>\n",
              "      <th>is_first_time</th>\n",
              "      <th>percentile</th>\n",
              "      <th>17_group</th>\n",
              "      <th>blended</th>\n",
              "      <th>is_ml_student</th>\n",
              "    </tr>\n",
              "  </thead>\n",
              "  <tbody>\n",
              "    <tr>\n",
              "      <th>0</th>\n",
              "      <td>2020-05-15 01:12:50.543</td>\n",
              "      <td>93ff79a51cd602f1dd3028ba2c129503</td>\n",
              "      <td>698</td>\n",
              "      <td>181.0</td>\n",
              "      <td>NaN</td>\n",
              "      <td>Язык SQL</td>\n",
              "      <td>Высокопроизводительные вычисления</td>\n",
              "      <td>Матричные вычисления</td>\n",
              "      <td>Дискретная оптимизация</td>\n",
              "      <td>Численные методы</td>\n",
              "      <td>Машинное обучение 2</td>\n",
              "      <td>Да</td>\n",
              "      <td>0.183857</td>\n",
              "      <td>NaN</td>\n",
              "      <td>NaN</td>\n",
              "      <td>NaN</td>\n",
              "    </tr>\n",
              "    <tr>\n",
              "      <th>1</th>\n",
              "      <td>2020-05-15 02:46:48.066</td>\n",
              "      <td>26b01b1c4cd5656bab18d24c548834fb</td>\n",
              "      <td>647</td>\n",
              "      <td>181.0</td>\n",
              "      <td>NaN</td>\n",
              "      <td>Высокопроизводительные вычисления</td>\n",
              "      <td>Безопасность компьютерных систем</td>\n",
              "      <td>Язык SQL</td>\n",
              "      <td>Дискретная оптимизация</td>\n",
              "      <td>Численные методы</td>\n",
              "      <td>Машинное обучение 2</td>\n",
              "      <td>Нет</td>\n",
              "      <td>0.426009</td>\n",
              "      <td>NaN</td>\n",
              "      <td>NaN</td>\n",
              "      <td>NaN</td>\n",
              "    </tr>\n",
              "    <tr>\n",
              "      <th>2</th>\n",
              "      <td>2020-05-15 03:12:41.480</td>\n",
              "      <td>30f3653fc176d54e89ac3179c455c6dd</td>\n",
              "      <td>624</td>\n",
              "      <td>185.0</td>\n",
              "      <td>NaN</td>\n",
              "      <td>Безопасность компьютерных систем</td>\n",
              "      <td>Матричные вычисления</td>\n",
              "      <td>Моделирование временных рядов</td>\n",
              "      <td>Дискретная оптимизация</td>\n",
              "      <td>Машинное обучение 2</td>\n",
              "      <td>Численные методы</td>\n",
              "      <td>Да</td>\n",
              "      <td>0.538117</td>\n",
              "      <td>NaN</td>\n",
              "      <td>NaN</td>\n",
              "      <td>NaN</td>\n",
              "    </tr>\n",
              "    <tr>\n",
              "      <th>3</th>\n",
              "      <td>2020-05-15 04:43:08.994</td>\n",
              "      <td>1528f0eaa027580820ccf0d92a53ad68</td>\n",
              "      <td>579</td>\n",
              "      <td>182.0</td>\n",
              "      <td>NaN</td>\n",
              "      <td>Statistical Learning Theory</td>\n",
              "      <td>Высокопроизводительные вычисления</td>\n",
              "      <td>Матричные вычисления</td>\n",
              "      <td>Дискретная оптимизация</td>\n",
              "      <td>Численные методы</td>\n",
              "      <td>Машинное обучение 2</td>\n",
              "      <td>Да</td>\n",
              "      <td>0.744395</td>\n",
              "      <td>NaN</td>\n",
              "      <td>NaN</td>\n",
              "      <td>NaN</td>\n",
              "    </tr>\n",
              "    <tr>\n",
              "      <th>4</th>\n",
              "      <td>2020-05-15 07:47:17.197</td>\n",
              "      <td>496ea4f0d4abe264b1bb1b80eb3830c5</td>\n",
              "      <td>572</td>\n",
              "      <td>183.0</td>\n",
              "      <td>NaN</td>\n",
              "      <td>Высокопроизводительные вычисления</td>\n",
              "      <td>Безопасность компьютерных систем</td>\n",
              "      <td>Теория баз данных</td>\n",
              "      <td>Компьютерные сети</td>\n",
              "      <td>Дискретная оптимизация</td>\n",
              "      <td>Численные методы</td>\n",
              "      <td>Да</td>\n",
              "      <td>0.780269</td>\n",
              "      <td>NaN</td>\n",
              "      <td>NaN</td>\n",
              "      <td>NaN</td>\n",
              "    </tr>\n",
              "  </tbody>\n",
              "</table>\n",
              "</div>\n",
              "      <button class=\"colab-df-convert\" onclick=\"convertToInteractive('df-a0029027-9e5d-481e-b52f-19b8468a31f5')\"\n",
              "              title=\"Convert this dataframe to an interactive table.\"\n",
              "              style=\"display:none;\">\n",
              "        \n",
              "  <svg xmlns=\"http://www.w3.org/2000/svg\" height=\"24px\"viewBox=\"0 0 24 24\"\n",
              "       width=\"24px\">\n",
              "    <path d=\"M0 0h24v24H0V0z\" fill=\"none\"/>\n",
              "    <path d=\"M18.56 5.44l.94 2.06.94-2.06 2.06-.94-2.06-.94-.94-2.06-.94 2.06-2.06.94zm-11 1L8.5 8.5l.94-2.06 2.06-.94-2.06-.94L8.5 2.5l-.94 2.06-2.06.94zm10 10l.94 2.06.94-2.06 2.06-.94-2.06-.94-.94-2.06-.94 2.06-2.06.94z\"/><path d=\"M17.41 7.96l-1.37-1.37c-.4-.4-.92-.59-1.43-.59-.52 0-1.04.2-1.43.59L10.3 9.45l-7.72 7.72c-.78.78-.78 2.05 0 2.83L4 21.41c.39.39.9.59 1.41.59.51 0 1.02-.2 1.41-.59l7.78-7.78 2.81-2.81c.8-.78.8-2.07 0-2.86zM5.41 20L4 18.59l7.72-7.72 1.47 1.35L5.41 20z\"/>\n",
              "  </svg>\n",
              "      </button>\n",
              "      \n",
              "  <style>\n",
              "    .colab-df-container {\n",
              "      display:flex;\n",
              "      flex-wrap:wrap;\n",
              "      gap: 12px;\n",
              "    }\n",
              "\n",
              "    .colab-df-convert {\n",
              "      background-color: #E8F0FE;\n",
              "      border: none;\n",
              "      border-radius: 50%;\n",
              "      cursor: pointer;\n",
              "      display: none;\n",
              "      fill: #1967D2;\n",
              "      height: 32px;\n",
              "      padding: 0 0 0 0;\n",
              "      width: 32px;\n",
              "    }\n",
              "\n",
              "    .colab-df-convert:hover {\n",
              "      background-color: #E2EBFA;\n",
              "      box-shadow: 0px 1px 2px rgba(60, 64, 67, 0.3), 0px 1px 3px 1px rgba(60, 64, 67, 0.15);\n",
              "      fill: #174EA6;\n",
              "    }\n",
              "\n",
              "    [theme=dark] .colab-df-convert {\n",
              "      background-color: #3B4455;\n",
              "      fill: #D2E3FC;\n",
              "    }\n",
              "\n",
              "    [theme=dark] .colab-df-convert:hover {\n",
              "      background-color: #434B5C;\n",
              "      box-shadow: 0px 1px 3px 1px rgba(0, 0, 0, 0.15);\n",
              "      filter: drop-shadow(0px 1px 2px rgba(0, 0, 0, 0.3));\n",
              "      fill: #FFFFFF;\n",
              "    }\n",
              "  </style>\n",
              "\n",
              "      <script>\n",
              "        const buttonEl =\n",
              "          document.querySelector('#df-a0029027-9e5d-481e-b52f-19b8468a31f5 button.colab-df-convert');\n",
              "        buttonEl.style.display =\n",
              "          google.colab.kernel.accessAllowed ? 'block' : 'none';\n",
              "\n",
              "        async function convertToInteractive(key) {\n",
              "          const element = document.querySelector('#df-a0029027-9e5d-481e-b52f-19b8468a31f5');\n",
              "          const dataTable =\n",
              "            await google.colab.kernel.invokeFunction('convertToInteractive',\n",
              "                                                     [key], {});\n",
              "          if (!dataTable) return;\n",
              "\n",
              "          const docLinkHtml = 'Like what you see? Visit the ' +\n",
              "            '<a target=\"_blank\" href=https://colab.research.google.com/notebooks/data_table.ipynb>data table notebook</a>'\n",
              "            + ' to learn more about interactive tables.';\n",
              "          element.innerHTML = '';\n",
              "          dataTable['output_type'] = 'display_data';\n",
              "          await google.colab.output.renderOutput(dataTable, element);\n",
              "          const docLink = document.createElement('div');\n",
              "          docLink.innerHTML = docLinkHtml;\n",
              "          element.appendChild(docLink);\n",
              "        }\n",
              "      </script>\n",
              "    </div>\n",
              "  </div>\n",
              "  "
            ]
          },
          "metadata": {},
          "execution_count": 661
        }
      ],
      "source": [
        "data1.head(5)"
      ]
    },
    {
      "cell_type": "markdown",
      "metadata": {
        "id": "jPiMwyqHhLuy"
      },
      "source": [
        "#### 2. [0.5 балла] Есть ли в данных пропуски? В каких колонках? Сколько их в каждой из этих колонок?"
      ]
    },
    {
      "cell_type": "code",
      "execution_count": 662,
      "metadata": {
        "colab": {
          "base_uri": "https://localhost:8080/"
        },
        "id": "edY1RrSOhLuy",
        "outputId": "a9a653a3-ec38-4cb5-97ba-24ab9144625c"
      },
      "outputs": [
        {
          "output_type": "execute_result",
          "data": {
            "text/plain": [
              "timestamp          0\n",
              "id                 0\n",
              "rating             0\n",
              "18_group         138\n",
              "is_mi            343\n",
              "fall_1             0\n",
              "fall_2             0\n",
              "fall_3             0\n",
              "spring_1           0\n",
              "spring_2           0\n",
              "spring_3           0\n",
              "is_first_time      2\n",
              "percentile         0\n",
              "17_group         223\n",
              "blended          223\n",
              "is_ml_student    304\n",
              "dtype: int64"
            ]
          },
          "metadata": {},
          "execution_count": 662
        }
      ],
      "source": [
        "data1.isna().sum()"
      ]
    },
    {
      "cell_type": "markdown",
      "metadata": {
        "id": "B5ORhP2uhLuz"
      },
      "source": [
        "Заполните пропуски пустой строкой для строковых колонок и нулём для числовых (постарайтесь избежать перечисления названий всех столбцов)."
      ]
    },
    {
      "cell_type": "code",
      "execution_count": 663,
      "metadata": {
        "colab": {
          "base_uri": "https://localhost:8080/",
          "height": 517
        },
        "id": "TlF_JJ2ghLuz",
        "outputId": "68b58352-33f0-4494-a4b3-8c5530fc5ad9"
      },
      "outputs": [
        {
          "output_type": "execute_result",
          "data": {
            "text/plain": [
              "     18_group  is_mi is_first_time  17_group                         blended  \\\n",
              "0       181.0    NaN            Да       NaN                             NaN   \n",
              "1       181.0    NaN           Нет       NaN                             NaN   \n",
              "2       185.0    NaN            Да       NaN                             NaN   \n",
              "3       182.0    NaN            Да       NaN                             NaN   \n",
              "4       183.0    NaN            Да       NaN                             NaN   \n",
              "..        ...    ...           ...       ...                             ...   \n",
              "356       NaN    NaN            Да     174.0                          DevOps   \n",
              "357       NaN    NaN            Да     174.0                          DevOps   \n",
              "358       NaN    NaN            Да     173.0  Соревновательный анализ данных   \n",
              "359       NaN    NaN            Да     172.0                          DevOps   \n",
              "360       NaN    NaN           NaN     176.0  Соревновательный анализ данных   \n",
              "\n",
              "     is_ml_student  \n",
              "0              NaN  \n",
              "1              NaN  \n",
              "2              NaN  \n",
              "3              NaN  \n",
              "4              NaN  \n",
              "..             ...  \n",
              "356            NaN  \n",
              "357            NaN  \n",
              "358            NaN  \n",
              "359            NaN  \n",
              "360            NaN  \n",
              "\n",
              "[361 rows x 6 columns]"
            ],
            "text/html": [
              "\n",
              "  <div id=\"df-15eecc28-4892-4125-95f2-06cddce370f2\">\n",
              "    <div class=\"colab-df-container\">\n",
              "      <div>\n",
              "<style scoped>\n",
              "    .dataframe tbody tr th:only-of-type {\n",
              "        vertical-align: middle;\n",
              "    }\n",
              "\n",
              "    .dataframe tbody tr th {\n",
              "        vertical-align: top;\n",
              "    }\n",
              "\n",
              "    .dataframe thead th {\n",
              "        text-align: right;\n",
              "    }\n",
              "</style>\n",
              "<table border=\"1\" class=\"dataframe\">\n",
              "  <thead>\n",
              "    <tr style=\"text-align: right;\">\n",
              "      <th></th>\n",
              "      <th>18_group</th>\n",
              "      <th>is_mi</th>\n",
              "      <th>is_first_time</th>\n",
              "      <th>17_group</th>\n",
              "      <th>blended</th>\n",
              "      <th>is_ml_student</th>\n",
              "    </tr>\n",
              "  </thead>\n",
              "  <tbody>\n",
              "    <tr>\n",
              "      <th>0</th>\n",
              "      <td>181.0</td>\n",
              "      <td>NaN</td>\n",
              "      <td>Да</td>\n",
              "      <td>NaN</td>\n",
              "      <td>NaN</td>\n",
              "      <td>NaN</td>\n",
              "    </tr>\n",
              "    <tr>\n",
              "      <th>1</th>\n",
              "      <td>181.0</td>\n",
              "      <td>NaN</td>\n",
              "      <td>Нет</td>\n",
              "      <td>NaN</td>\n",
              "      <td>NaN</td>\n",
              "      <td>NaN</td>\n",
              "    </tr>\n",
              "    <tr>\n",
              "      <th>2</th>\n",
              "      <td>185.0</td>\n",
              "      <td>NaN</td>\n",
              "      <td>Да</td>\n",
              "      <td>NaN</td>\n",
              "      <td>NaN</td>\n",
              "      <td>NaN</td>\n",
              "    </tr>\n",
              "    <tr>\n",
              "      <th>3</th>\n",
              "      <td>182.0</td>\n",
              "      <td>NaN</td>\n",
              "      <td>Да</td>\n",
              "      <td>NaN</td>\n",
              "      <td>NaN</td>\n",
              "      <td>NaN</td>\n",
              "    </tr>\n",
              "    <tr>\n",
              "      <th>4</th>\n",
              "      <td>183.0</td>\n",
              "      <td>NaN</td>\n",
              "      <td>Да</td>\n",
              "      <td>NaN</td>\n",
              "      <td>NaN</td>\n",
              "      <td>NaN</td>\n",
              "    </tr>\n",
              "    <tr>\n",
              "      <th>...</th>\n",
              "      <td>...</td>\n",
              "      <td>...</td>\n",
              "      <td>...</td>\n",
              "      <td>...</td>\n",
              "      <td>...</td>\n",
              "      <td>...</td>\n",
              "    </tr>\n",
              "    <tr>\n",
              "      <th>356</th>\n",
              "      <td>NaN</td>\n",
              "      <td>NaN</td>\n",
              "      <td>Да</td>\n",
              "      <td>174.0</td>\n",
              "      <td>DevOps</td>\n",
              "      <td>NaN</td>\n",
              "    </tr>\n",
              "    <tr>\n",
              "      <th>357</th>\n",
              "      <td>NaN</td>\n",
              "      <td>NaN</td>\n",
              "      <td>Да</td>\n",
              "      <td>174.0</td>\n",
              "      <td>DevOps</td>\n",
              "      <td>NaN</td>\n",
              "    </tr>\n",
              "    <tr>\n",
              "      <th>358</th>\n",
              "      <td>NaN</td>\n",
              "      <td>NaN</td>\n",
              "      <td>Да</td>\n",
              "      <td>173.0</td>\n",
              "      <td>Соревновательный анализ данных</td>\n",
              "      <td>NaN</td>\n",
              "    </tr>\n",
              "    <tr>\n",
              "      <th>359</th>\n",
              "      <td>NaN</td>\n",
              "      <td>NaN</td>\n",
              "      <td>Да</td>\n",
              "      <td>172.0</td>\n",
              "      <td>DevOps</td>\n",
              "      <td>NaN</td>\n",
              "    </tr>\n",
              "    <tr>\n",
              "      <th>360</th>\n",
              "      <td>NaN</td>\n",
              "      <td>NaN</td>\n",
              "      <td>NaN</td>\n",
              "      <td>176.0</td>\n",
              "      <td>Соревновательный анализ данных</td>\n",
              "      <td>NaN</td>\n",
              "    </tr>\n",
              "  </tbody>\n",
              "</table>\n",
              "<p>361 rows × 6 columns</p>\n",
              "</div>\n",
              "      <button class=\"colab-df-convert\" onclick=\"convertToInteractive('df-15eecc28-4892-4125-95f2-06cddce370f2')\"\n",
              "              title=\"Convert this dataframe to an interactive table.\"\n",
              "              style=\"display:none;\">\n",
              "        \n",
              "  <svg xmlns=\"http://www.w3.org/2000/svg\" height=\"24px\"viewBox=\"0 0 24 24\"\n",
              "       width=\"24px\">\n",
              "    <path d=\"M0 0h24v24H0V0z\" fill=\"none\"/>\n",
              "    <path d=\"M18.56 5.44l.94 2.06.94-2.06 2.06-.94-2.06-.94-.94-2.06-.94 2.06-2.06.94zm-11 1L8.5 8.5l.94-2.06 2.06-.94-2.06-.94L8.5 2.5l-.94 2.06-2.06.94zm10 10l.94 2.06.94-2.06 2.06-.94-2.06-.94-.94-2.06-.94 2.06-2.06.94z\"/><path d=\"M17.41 7.96l-1.37-1.37c-.4-.4-.92-.59-1.43-.59-.52 0-1.04.2-1.43.59L10.3 9.45l-7.72 7.72c-.78.78-.78 2.05 0 2.83L4 21.41c.39.39.9.59 1.41.59.51 0 1.02-.2 1.41-.59l7.78-7.78 2.81-2.81c.8-.78.8-2.07 0-2.86zM5.41 20L4 18.59l7.72-7.72 1.47 1.35L5.41 20z\"/>\n",
              "  </svg>\n",
              "      </button>\n",
              "      \n",
              "  <style>\n",
              "    .colab-df-container {\n",
              "      display:flex;\n",
              "      flex-wrap:wrap;\n",
              "      gap: 12px;\n",
              "    }\n",
              "\n",
              "    .colab-df-convert {\n",
              "      background-color: #E8F0FE;\n",
              "      border: none;\n",
              "      border-radius: 50%;\n",
              "      cursor: pointer;\n",
              "      display: none;\n",
              "      fill: #1967D2;\n",
              "      height: 32px;\n",
              "      padding: 0 0 0 0;\n",
              "      width: 32px;\n",
              "    }\n",
              "\n",
              "    .colab-df-convert:hover {\n",
              "      background-color: #E2EBFA;\n",
              "      box-shadow: 0px 1px 2px rgba(60, 64, 67, 0.3), 0px 1px 3px 1px rgba(60, 64, 67, 0.15);\n",
              "      fill: #174EA6;\n",
              "    }\n",
              "\n",
              "    [theme=dark] .colab-df-convert {\n",
              "      background-color: #3B4455;\n",
              "      fill: #D2E3FC;\n",
              "    }\n",
              "\n",
              "    [theme=dark] .colab-df-convert:hover {\n",
              "      background-color: #434B5C;\n",
              "      box-shadow: 0px 1px 3px 1px rgba(0, 0, 0, 0.15);\n",
              "      filter: drop-shadow(0px 1px 2px rgba(0, 0, 0, 0.3));\n",
              "      fill: #FFFFFF;\n",
              "    }\n",
              "  </style>\n",
              "\n",
              "      <script>\n",
              "        const buttonEl =\n",
              "          document.querySelector('#df-15eecc28-4892-4125-95f2-06cddce370f2 button.colab-df-convert');\n",
              "        buttonEl.style.display =\n",
              "          google.colab.kernel.accessAllowed ? 'block' : 'none';\n",
              "\n",
              "        async function convertToInteractive(key) {\n",
              "          const element = document.querySelector('#df-15eecc28-4892-4125-95f2-06cddce370f2');\n",
              "          const dataTable =\n",
              "            await google.colab.kernel.invokeFunction('convertToInteractive',\n",
              "                                                     [key], {});\n",
              "          if (!dataTable) return;\n",
              "\n",
              "          const docLinkHtml = 'Like what you see? Visit the ' +\n",
              "            '<a target=\"_blank\" href=https://colab.research.google.com/notebooks/data_table.ipynb>data table notebook</a>'\n",
              "            + ' to learn more about interactive tables.';\n",
              "          element.innerHTML = '';\n",
              "          dataTable['output_type'] = 'display_data';\n",
              "          await google.colab.output.renderOutput(dataTable, element);\n",
              "          const docLink = document.createElement('div');\n",
              "          docLink.innerHTML = docLinkHtml;\n",
              "          element.appendChild(docLink);\n",
              "        }\n",
              "      </script>\n",
              "    </div>\n",
              "  </div>\n",
              "  "
            ]
          },
          "metadata": {},
          "execution_count": 663
        }
      ],
      "source": [
        "data1[['18_group', 'is_mi', 'is_first_time', '17_group', 'blended', 'is_ml_student']]"
      ]
    },
    {
      "cell_type": "code",
      "execution_count": 664,
      "metadata": {
        "colab": {
          "base_uri": "https://localhost:8080/"
        },
        "id": "pgMsvr90o1Lu",
        "outputId": "f5c39850-4518-46ea-9c40-2406a01becb4"
      },
      "outputs": [
        {
          "output_type": "execute_result",
          "data": {
            "text/plain": [
              "timestamp        datetime64[ns]\n",
              "id                       object\n",
              "rating                    int64\n",
              "18_group                float64\n",
              "is_mi                   float64\n",
              "fall_1                   object\n",
              "fall_2                   object\n",
              "fall_3                   object\n",
              "spring_1                 object\n",
              "spring_2                 object\n",
              "spring_3                 object\n",
              "is_first_time            object\n",
              "percentile              float64\n",
              "17_group                float64\n",
              "blended                  object\n",
              "is_ml_student           float64\n",
              "dtype: object"
            ]
          },
          "metadata": {},
          "execution_count": 664
        }
      ],
      "source": [
        "data1.dtypes"
      ]
    },
    {
      "cell_type": "code",
      "execution_count": 665,
      "metadata": {
        "id": "oxDgx9qqo61q"
      },
      "outputs": [],
      "source": [
        "names_1 = ['18_group', 'is_mi', '17_group', 'is_ml_student']\n",
        "data1[['18_group', 'is_mi', '17_group', 'is_ml_student']] = data1[['18_group', 'is_mi', '17_group', 'is_ml_student']].fillna(0)\n",
        "# data1 = data1[['is_first_time', 'blended']].fillna(' ')"
      ]
    },
    {
      "cell_type": "code",
      "execution_count": 666,
      "metadata": {
        "id": "4qljMfb1rniB"
      },
      "outputs": [],
      "source": [
        "data1[['is_first_time', 'blended']] = data1[['is_first_time', 'blended']].fillna(' ')"
      ]
    },
    {
      "cell_type": "code",
      "execution_count": 667,
      "metadata": {
        "colab": {
          "base_uri": "https://localhost:8080/",
          "height": 789
        },
        "id": "-9FZuyp-sIGy",
        "outputId": "d3015d64-f652-4ef0-8217-de423fc3077f"
      },
      "outputs": [
        {
          "output_type": "execute_result",
          "data": {
            "text/plain": [
              "                  timestamp                                id  rating  \\\n",
              "0   2020-05-15 01:12:50.543  93ff79a51cd602f1dd3028ba2c129503     698   \n",
              "1   2020-05-15 02:46:48.066  26b01b1c4cd5656bab18d24c548834fb     647   \n",
              "2   2020-05-15 03:12:41.480  30f3653fc176d54e89ac3179c455c6dd     624   \n",
              "3   2020-05-15 04:43:08.994  1528f0eaa027580820ccf0d92a53ad68     579   \n",
              "4   2020-05-15 07:47:17.197  496ea4f0d4abe264b1bb1b80eb3830c5     572   \n",
              "..                      ...                               ...     ...   \n",
              "356 2020-05-19 19:04:17.873  c5870b37ee3f672e4259dfb2fc02ed8f    1029   \n",
              "357 2020-05-19 20:19:25.815  f44aea1095f9f5b8e2f5f0ed2b17891b    1060   \n",
              "358 2020-05-20 11:54:38.318  d7118b44c7e8fdbbaaca226d2da6fef1    1111   \n",
              "359 2020-05-23 21:16:40.916  79d14db48e4737af731960ae212d5134     966   \n",
              "360 2020-05-23 21:16:40.916  f2d210ace25a841e1e58036b257d5d47    1195   \n",
              "\n",
              "     18_group  is_mi                                           fall_1  \\\n",
              "0       181.0    0.0                                         Язык SQL   \n",
              "1       181.0    0.0                Высокопроизводительные вычисления   \n",
              "2       185.0    0.0                 Безопасность компьютерных систем   \n",
              "3       182.0    0.0                      Statistical Learning Theory   \n",
              "4       183.0    0.0                Высокопроизводительные вычисления   \n",
              "..        ...    ...                                              ...   \n",
              "356       0.0    0.0                      Statistical Learning Theory   \n",
              "357       0.0    0.0                Анализ неструктурированных данных   \n",
              "358       0.0    0.0  Сбор и обработка данных с помощью краудсорсинга   \n",
              "359       0.0    0.0                 Безопасность компьютерных систем   \n",
              "360       0.0    0.0                Анализ неструктурированных данных   \n",
              "\n",
              "                                                fall_2  \\\n",
              "0                    Высокопроизводительные вычисления   \n",
              "1                     Безопасность компьютерных систем   \n",
              "2                                 Матричные вычисления   \n",
              "3                    Высокопроизводительные вычисления   \n",
              "4                     Безопасность компьютерных систем   \n",
              "..                                                 ...   \n",
              "356                  Анализ неструктурированных данных   \n",
              "357                  Высокопроизводительные вычисления   \n",
              "358                        Statistical Learning Theory   \n",
              "359  Принятие решений в условиях риска и неопределё...   \n",
              "360                      Моделирование временных рядов   \n",
              "\n",
              "                                              fall_3  \\\n",
              "0                               Матричные вычисления   \n",
              "1                                           Язык SQL   \n",
              "2                      Моделирование временных рядов   \n",
              "3                               Матричные вычисления   \n",
              "4                                  Теория баз данных   \n",
              "..                                               ...   \n",
              "356  Сбор и обработка данных с помощью краудсорсинга   \n",
              "357                    Моделирование временных рядов   \n",
              "358                Анализ неструктурированных данных   \n",
              "359                Анализ неструктурированных данных   \n",
              "360                Высокопроизводительные вычисления   \n",
              "\n",
              "                                              spring_1  \\\n",
              "0                               Дискретная оптимизация   \n",
              "1                               Дискретная оптимизация   \n",
              "2                               Дискретная оптимизация   \n",
              "3                               Дискретная оптимизация   \n",
              "4                                    Компьютерные сети   \n",
              "..                                                 ...   \n",
              "356                           Обучение с подкреплением   \n",
              "357                             Конфликты и кооперация   \n",
              "358  Проектирование и разработка высоконагруженных ...   \n",
              "359  Проектирование и разработка высоконагруженных ...   \n",
              "360                           Обучение с подкреплением   \n",
              "\n",
              "                                 spring_2  \\\n",
              "0                        Численные методы   \n",
              "1                        Численные методы   \n",
              "2                     Машинное обучение 2   \n",
              "3                        Численные методы   \n",
              "4                  Дискретная оптимизация   \n",
              "..                                    ...   \n",
              "356                Конфликты и кооперация   \n",
              "357              Обучение с подкреплением   \n",
              "358  Методы сжатия и передачи медиаданных   \n",
              "359  Методы сжатия и передачи медиаданных   \n",
              "360                   Компьютерное зрение   \n",
              "\n",
              "                                 spring_3 is_first_time  percentile  17_group  \\\n",
              "0                     Машинное обучение 2            Да    0.183857       0.0   \n",
              "1                     Машинное обучение 2           Нет    0.426009       0.0   \n",
              "2                        Численные методы            Да    0.538117       0.0   \n",
              "3                     Машинное обучение 2            Да    0.744395       0.0   \n",
              "4                        Численные методы            Да    0.780269       0.0   \n",
              "..                                    ...           ...         ...       ...   \n",
              "356                   Компьютерное зрение            Да    0.920290     174.0   \n",
              "357                      Численные методы            Да    0.840580     174.0   \n",
              "358                      Численные методы            Да    0.652174     173.0   \n",
              "359                   Компьютерное зрение            Да    0.985507     172.0   \n",
              "360  Методы сжатия и передачи медиаданных                  0.369565     176.0   \n",
              "\n",
              "                            blended  is_ml_student  \n",
              "0                                              0.0  \n",
              "1                                              0.0  \n",
              "2                                              0.0  \n",
              "3                                              0.0  \n",
              "4                                              0.0  \n",
              "..                              ...            ...  \n",
              "356                          DevOps            0.0  \n",
              "357                          DevOps            0.0  \n",
              "358  Соревновательный анализ данных            0.0  \n",
              "359                          DevOps            0.0  \n",
              "360  Соревновательный анализ данных            0.0  \n",
              "\n",
              "[361 rows x 16 columns]"
            ],
            "text/html": [
              "\n",
              "  <div id=\"df-1a158f76-dd13-449f-a20f-04b029a88779\">\n",
              "    <div class=\"colab-df-container\">\n",
              "      <div>\n",
              "<style scoped>\n",
              "    .dataframe tbody tr th:only-of-type {\n",
              "        vertical-align: middle;\n",
              "    }\n",
              "\n",
              "    .dataframe tbody tr th {\n",
              "        vertical-align: top;\n",
              "    }\n",
              "\n",
              "    .dataframe thead th {\n",
              "        text-align: right;\n",
              "    }\n",
              "</style>\n",
              "<table border=\"1\" class=\"dataframe\">\n",
              "  <thead>\n",
              "    <tr style=\"text-align: right;\">\n",
              "      <th></th>\n",
              "      <th>timestamp</th>\n",
              "      <th>id</th>\n",
              "      <th>rating</th>\n",
              "      <th>18_group</th>\n",
              "      <th>is_mi</th>\n",
              "      <th>fall_1</th>\n",
              "      <th>fall_2</th>\n",
              "      <th>fall_3</th>\n",
              "      <th>spring_1</th>\n",
              "      <th>spring_2</th>\n",
              "      <th>spring_3</th>\n",
              "      <th>is_first_time</th>\n",
              "      <th>percentile</th>\n",
              "      <th>17_group</th>\n",
              "      <th>blended</th>\n",
              "      <th>is_ml_student</th>\n",
              "    </tr>\n",
              "  </thead>\n",
              "  <tbody>\n",
              "    <tr>\n",
              "      <th>0</th>\n",
              "      <td>2020-05-15 01:12:50.543</td>\n",
              "      <td>93ff79a51cd602f1dd3028ba2c129503</td>\n",
              "      <td>698</td>\n",
              "      <td>181.0</td>\n",
              "      <td>0.0</td>\n",
              "      <td>Язык SQL</td>\n",
              "      <td>Высокопроизводительные вычисления</td>\n",
              "      <td>Матричные вычисления</td>\n",
              "      <td>Дискретная оптимизация</td>\n",
              "      <td>Численные методы</td>\n",
              "      <td>Машинное обучение 2</td>\n",
              "      <td>Да</td>\n",
              "      <td>0.183857</td>\n",
              "      <td>0.0</td>\n",
              "      <td></td>\n",
              "      <td>0.0</td>\n",
              "    </tr>\n",
              "    <tr>\n",
              "      <th>1</th>\n",
              "      <td>2020-05-15 02:46:48.066</td>\n",
              "      <td>26b01b1c4cd5656bab18d24c548834fb</td>\n",
              "      <td>647</td>\n",
              "      <td>181.0</td>\n",
              "      <td>0.0</td>\n",
              "      <td>Высокопроизводительные вычисления</td>\n",
              "      <td>Безопасность компьютерных систем</td>\n",
              "      <td>Язык SQL</td>\n",
              "      <td>Дискретная оптимизация</td>\n",
              "      <td>Численные методы</td>\n",
              "      <td>Машинное обучение 2</td>\n",
              "      <td>Нет</td>\n",
              "      <td>0.426009</td>\n",
              "      <td>0.0</td>\n",
              "      <td></td>\n",
              "      <td>0.0</td>\n",
              "    </tr>\n",
              "    <tr>\n",
              "      <th>2</th>\n",
              "      <td>2020-05-15 03:12:41.480</td>\n",
              "      <td>30f3653fc176d54e89ac3179c455c6dd</td>\n",
              "      <td>624</td>\n",
              "      <td>185.0</td>\n",
              "      <td>0.0</td>\n",
              "      <td>Безопасность компьютерных систем</td>\n",
              "      <td>Матричные вычисления</td>\n",
              "      <td>Моделирование временных рядов</td>\n",
              "      <td>Дискретная оптимизация</td>\n",
              "      <td>Машинное обучение 2</td>\n",
              "      <td>Численные методы</td>\n",
              "      <td>Да</td>\n",
              "      <td>0.538117</td>\n",
              "      <td>0.0</td>\n",
              "      <td></td>\n",
              "      <td>0.0</td>\n",
              "    </tr>\n",
              "    <tr>\n",
              "      <th>3</th>\n",
              "      <td>2020-05-15 04:43:08.994</td>\n",
              "      <td>1528f0eaa027580820ccf0d92a53ad68</td>\n",
              "      <td>579</td>\n",
              "      <td>182.0</td>\n",
              "      <td>0.0</td>\n",
              "      <td>Statistical Learning Theory</td>\n",
              "      <td>Высокопроизводительные вычисления</td>\n",
              "      <td>Матричные вычисления</td>\n",
              "      <td>Дискретная оптимизация</td>\n",
              "      <td>Численные методы</td>\n",
              "      <td>Машинное обучение 2</td>\n",
              "      <td>Да</td>\n",
              "      <td>0.744395</td>\n",
              "      <td>0.0</td>\n",
              "      <td></td>\n",
              "      <td>0.0</td>\n",
              "    </tr>\n",
              "    <tr>\n",
              "      <th>4</th>\n",
              "      <td>2020-05-15 07:47:17.197</td>\n",
              "      <td>496ea4f0d4abe264b1bb1b80eb3830c5</td>\n",
              "      <td>572</td>\n",
              "      <td>183.0</td>\n",
              "      <td>0.0</td>\n",
              "      <td>Высокопроизводительные вычисления</td>\n",
              "      <td>Безопасность компьютерных систем</td>\n",
              "      <td>Теория баз данных</td>\n",
              "      <td>Компьютерные сети</td>\n",
              "      <td>Дискретная оптимизация</td>\n",
              "      <td>Численные методы</td>\n",
              "      <td>Да</td>\n",
              "      <td>0.780269</td>\n",
              "      <td>0.0</td>\n",
              "      <td></td>\n",
              "      <td>0.0</td>\n",
              "    </tr>\n",
              "    <tr>\n",
              "      <th>...</th>\n",
              "      <td>...</td>\n",
              "      <td>...</td>\n",
              "      <td>...</td>\n",
              "      <td>...</td>\n",
              "      <td>...</td>\n",
              "      <td>...</td>\n",
              "      <td>...</td>\n",
              "      <td>...</td>\n",
              "      <td>...</td>\n",
              "      <td>...</td>\n",
              "      <td>...</td>\n",
              "      <td>...</td>\n",
              "      <td>...</td>\n",
              "      <td>...</td>\n",
              "      <td>...</td>\n",
              "      <td>...</td>\n",
              "    </tr>\n",
              "    <tr>\n",
              "      <th>356</th>\n",
              "      <td>2020-05-19 19:04:17.873</td>\n",
              "      <td>c5870b37ee3f672e4259dfb2fc02ed8f</td>\n",
              "      <td>1029</td>\n",
              "      <td>0.0</td>\n",
              "      <td>0.0</td>\n",
              "      <td>Statistical Learning Theory</td>\n",
              "      <td>Анализ неструктурированных данных</td>\n",
              "      <td>Сбор и обработка данных с помощью краудсорсинга</td>\n",
              "      <td>Обучение с подкреплением</td>\n",
              "      <td>Конфликты и кооперация</td>\n",
              "      <td>Компьютерное зрение</td>\n",
              "      <td>Да</td>\n",
              "      <td>0.920290</td>\n",
              "      <td>174.0</td>\n",
              "      <td>DevOps</td>\n",
              "      <td>0.0</td>\n",
              "    </tr>\n",
              "    <tr>\n",
              "      <th>357</th>\n",
              "      <td>2020-05-19 20:19:25.815</td>\n",
              "      <td>f44aea1095f9f5b8e2f5f0ed2b17891b</td>\n",
              "      <td>1060</td>\n",
              "      <td>0.0</td>\n",
              "      <td>0.0</td>\n",
              "      <td>Анализ неструктурированных данных</td>\n",
              "      <td>Высокопроизводительные вычисления</td>\n",
              "      <td>Моделирование временных рядов</td>\n",
              "      <td>Конфликты и кооперация</td>\n",
              "      <td>Обучение с подкреплением</td>\n",
              "      <td>Численные методы</td>\n",
              "      <td>Да</td>\n",
              "      <td>0.840580</td>\n",
              "      <td>174.0</td>\n",
              "      <td>DevOps</td>\n",
              "      <td>0.0</td>\n",
              "    </tr>\n",
              "    <tr>\n",
              "      <th>358</th>\n",
              "      <td>2020-05-20 11:54:38.318</td>\n",
              "      <td>d7118b44c7e8fdbbaaca226d2da6fef1</td>\n",
              "      <td>1111</td>\n",
              "      <td>0.0</td>\n",
              "      <td>0.0</td>\n",
              "      <td>Сбор и обработка данных с помощью краудсорсинга</td>\n",
              "      <td>Statistical Learning Theory</td>\n",
              "      <td>Анализ неструктурированных данных</td>\n",
              "      <td>Проектирование и разработка высоконагруженных ...</td>\n",
              "      <td>Методы сжатия и передачи медиаданных</td>\n",
              "      <td>Численные методы</td>\n",
              "      <td>Да</td>\n",
              "      <td>0.652174</td>\n",
              "      <td>173.0</td>\n",
              "      <td>Соревновательный анализ данных</td>\n",
              "      <td>0.0</td>\n",
              "    </tr>\n",
              "    <tr>\n",
              "      <th>359</th>\n",
              "      <td>2020-05-23 21:16:40.916</td>\n",
              "      <td>79d14db48e4737af731960ae212d5134</td>\n",
              "      <td>966</td>\n",
              "      <td>0.0</td>\n",
              "      <td>0.0</td>\n",
              "      <td>Безопасность компьютерных систем</td>\n",
              "      <td>Принятие решений в условиях риска и неопределё...</td>\n",
              "      <td>Анализ неструктурированных данных</td>\n",
              "      <td>Проектирование и разработка высоконагруженных ...</td>\n",
              "      <td>Методы сжатия и передачи медиаданных</td>\n",
              "      <td>Компьютерное зрение</td>\n",
              "      <td>Да</td>\n",
              "      <td>0.985507</td>\n",
              "      <td>172.0</td>\n",
              "      <td>DevOps</td>\n",
              "      <td>0.0</td>\n",
              "    </tr>\n",
              "    <tr>\n",
              "      <th>360</th>\n",
              "      <td>2020-05-23 21:16:40.916</td>\n",
              "      <td>f2d210ace25a841e1e58036b257d5d47</td>\n",
              "      <td>1195</td>\n",
              "      <td>0.0</td>\n",
              "      <td>0.0</td>\n",
              "      <td>Анализ неструктурированных данных</td>\n",
              "      <td>Моделирование временных рядов</td>\n",
              "      <td>Высокопроизводительные вычисления</td>\n",
              "      <td>Обучение с подкреплением</td>\n",
              "      <td>Компьютерное зрение</td>\n",
              "      <td>Методы сжатия и передачи медиаданных</td>\n",
              "      <td></td>\n",
              "      <td>0.369565</td>\n",
              "      <td>176.0</td>\n",
              "      <td>Соревновательный анализ данных</td>\n",
              "      <td>0.0</td>\n",
              "    </tr>\n",
              "  </tbody>\n",
              "</table>\n",
              "<p>361 rows × 16 columns</p>\n",
              "</div>\n",
              "      <button class=\"colab-df-convert\" onclick=\"convertToInteractive('df-1a158f76-dd13-449f-a20f-04b029a88779')\"\n",
              "              title=\"Convert this dataframe to an interactive table.\"\n",
              "              style=\"display:none;\">\n",
              "        \n",
              "  <svg xmlns=\"http://www.w3.org/2000/svg\" height=\"24px\"viewBox=\"0 0 24 24\"\n",
              "       width=\"24px\">\n",
              "    <path d=\"M0 0h24v24H0V0z\" fill=\"none\"/>\n",
              "    <path d=\"M18.56 5.44l.94 2.06.94-2.06 2.06-.94-2.06-.94-.94-2.06-.94 2.06-2.06.94zm-11 1L8.5 8.5l.94-2.06 2.06-.94-2.06-.94L8.5 2.5l-.94 2.06-2.06.94zm10 10l.94 2.06.94-2.06 2.06-.94-2.06-.94-.94-2.06-.94 2.06-2.06.94z\"/><path d=\"M17.41 7.96l-1.37-1.37c-.4-.4-.92-.59-1.43-.59-.52 0-1.04.2-1.43.59L10.3 9.45l-7.72 7.72c-.78.78-.78 2.05 0 2.83L4 21.41c.39.39.9.59 1.41.59.51 0 1.02-.2 1.41-.59l7.78-7.78 2.81-2.81c.8-.78.8-2.07 0-2.86zM5.41 20L4 18.59l7.72-7.72 1.47 1.35L5.41 20z\"/>\n",
              "  </svg>\n",
              "      </button>\n",
              "      \n",
              "  <style>\n",
              "    .colab-df-container {\n",
              "      display:flex;\n",
              "      flex-wrap:wrap;\n",
              "      gap: 12px;\n",
              "    }\n",
              "\n",
              "    .colab-df-convert {\n",
              "      background-color: #E8F0FE;\n",
              "      border: none;\n",
              "      border-radius: 50%;\n",
              "      cursor: pointer;\n",
              "      display: none;\n",
              "      fill: #1967D2;\n",
              "      height: 32px;\n",
              "      padding: 0 0 0 0;\n",
              "      width: 32px;\n",
              "    }\n",
              "\n",
              "    .colab-df-convert:hover {\n",
              "      background-color: #E2EBFA;\n",
              "      box-shadow: 0px 1px 2px rgba(60, 64, 67, 0.3), 0px 1px 3px 1px rgba(60, 64, 67, 0.15);\n",
              "      fill: #174EA6;\n",
              "    }\n",
              "\n",
              "    [theme=dark] .colab-df-convert {\n",
              "      background-color: #3B4455;\n",
              "      fill: #D2E3FC;\n",
              "    }\n",
              "\n",
              "    [theme=dark] .colab-df-convert:hover {\n",
              "      background-color: #434B5C;\n",
              "      box-shadow: 0px 1px 3px 1px rgba(0, 0, 0, 0.15);\n",
              "      filter: drop-shadow(0px 1px 2px rgba(0, 0, 0, 0.3));\n",
              "      fill: #FFFFFF;\n",
              "    }\n",
              "  </style>\n",
              "\n",
              "      <script>\n",
              "        const buttonEl =\n",
              "          document.querySelector('#df-1a158f76-dd13-449f-a20f-04b029a88779 button.colab-df-convert');\n",
              "        buttonEl.style.display =\n",
              "          google.colab.kernel.accessAllowed ? 'block' : 'none';\n",
              "\n",
              "        async function convertToInteractive(key) {\n",
              "          const element = document.querySelector('#df-1a158f76-dd13-449f-a20f-04b029a88779');\n",
              "          const dataTable =\n",
              "            await google.colab.kernel.invokeFunction('convertToInteractive',\n",
              "                                                     [key], {});\n",
              "          if (!dataTable) return;\n",
              "\n",
              "          const docLinkHtml = 'Like what you see? Visit the ' +\n",
              "            '<a target=\"_blank\" href=https://colab.research.google.com/notebooks/data_table.ipynb>data table notebook</a>'\n",
              "            + ' to learn more about interactive tables.';\n",
              "          element.innerHTML = '';\n",
              "          dataTable['output_type'] = 'display_data';\n",
              "          await google.colab.output.renderOutput(dataTable, element);\n",
              "          const docLink = document.createElement('div');\n",
              "          docLink.innerHTML = docLinkHtml;\n",
              "          element.appendChild(docLink);\n",
              "        }\n",
              "      </script>\n",
              "    </div>\n",
              "  </div>\n",
              "  "
            ]
          },
          "metadata": {},
          "execution_count": 667
        }
      ],
      "source": [
        "data1"
      ]
    },
    {
      "cell_type": "markdown",
      "metadata": {
        "id": "w5ELhkT1hLuz"
      },
      "source": [
        "#### 3. [0.5 балла] Посмотрите повнимательнее на колонку 'is_first_time'. \n",
        "\n",
        "Есть ли в ней ответы \"Нет\"? Сколько их?\n",
        "\n",
        "Если вы найдете повторные обращения студентов, оставьте только самую позднюю версию. В дальнейших заданиях используйте версию данных без повторов.\n",
        "\n",
        "<i>Обращения со значением \"Нет\" в 'is_first_time' могут быть как повторными, так и первичными, поскольку поле заполняли сами студенты.</i>"
      ]
    },
    {
      "cell_type": "code",
      "execution_count": 668,
      "metadata": {
        "colab": {
          "base_uri": "https://localhost:8080/",
          "height": 142
        },
        "id": "aL3TvcoAw0EV",
        "outputId": "69642e96-260c-4703-8278-af24b77a70bc"
      },
      "outputs": [
        {
          "output_type": "execute_result",
          "data": {
            "text/plain": [
              "  is_first_time  count\n",
              "0                    2\n",
              "1            Да    308\n",
              "2           Нет     51"
            ],
            "text/html": [
              "\n",
              "  <div id=\"df-5e93a22d-bae6-4c87-b0f9-2082b3cc0e01\">\n",
              "    <div class=\"colab-df-container\">\n",
              "      <div>\n",
              "<style scoped>\n",
              "    .dataframe tbody tr th:only-of-type {\n",
              "        vertical-align: middle;\n",
              "    }\n",
              "\n",
              "    .dataframe tbody tr th {\n",
              "        vertical-align: top;\n",
              "    }\n",
              "\n",
              "    .dataframe thead th {\n",
              "        text-align: right;\n",
              "    }\n",
              "</style>\n",
              "<table border=\"1\" class=\"dataframe\">\n",
              "  <thead>\n",
              "    <tr style=\"text-align: right;\">\n",
              "      <th></th>\n",
              "      <th>is_first_time</th>\n",
              "      <th>count</th>\n",
              "    </tr>\n",
              "  </thead>\n",
              "  <tbody>\n",
              "    <tr>\n",
              "      <th>0</th>\n",
              "      <td></td>\n",
              "      <td>2</td>\n",
              "    </tr>\n",
              "    <tr>\n",
              "      <th>1</th>\n",
              "      <td>Да</td>\n",
              "      <td>308</td>\n",
              "    </tr>\n",
              "    <tr>\n",
              "      <th>2</th>\n",
              "      <td>Нет</td>\n",
              "      <td>51</td>\n",
              "    </tr>\n",
              "  </tbody>\n",
              "</table>\n",
              "</div>\n",
              "      <button class=\"colab-df-convert\" onclick=\"convertToInteractive('df-5e93a22d-bae6-4c87-b0f9-2082b3cc0e01')\"\n",
              "              title=\"Convert this dataframe to an interactive table.\"\n",
              "              style=\"display:none;\">\n",
              "        \n",
              "  <svg xmlns=\"http://www.w3.org/2000/svg\" height=\"24px\"viewBox=\"0 0 24 24\"\n",
              "       width=\"24px\">\n",
              "    <path d=\"M0 0h24v24H0V0z\" fill=\"none\"/>\n",
              "    <path d=\"M18.56 5.44l.94 2.06.94-2.06 2.06-.94-2.06-.94-.94-2.06-.94 2.06-2.06.94zm-11 1L8.5 8.5l.94-2.06 2.06-.94-2.06-.94L8.5 2.5l-.94 2.06-2.06.94zm10 10l.94 2.06.94-2.06 2.06-.94-2.06-.94-.94-2.06-.94 2.06-2.06.94z\"/><path d=\"M17.41 7.96l-1.37-1.37c-.4-.4-.92-.59-1.43-.59-.52 0-1.04.2-1.43.59L10.3 9.45l-7.72 7.72c-.78.78-.78 2.05 0 2.83L4 21.41c.39.39.9.59 1.41.59.51 0 1.02-.2 1.41-.59l7.78-7.78 2.81-2.81c.8-.78.8-2.07 0-2.86zM5.41 20L4 18.59l7.72-7.72 1.47 1.35L5.41 20z\"/>\n",
              "  </svg>\n",
              "      </button>\n",
              "      \n",
              "  <style>\n",
              "    .colab-df-container {\n",
              "      display:flex;\n",
              "      flex-wrap:wrap;\n",
              "      gap: 12px;\n",
              "    }\n",
              "\n",
              "    .colab-df-convert {\n",
              "      background-color: #E8F0FE;\n",
              "      border: none;\n",
              "      border-radius: 50%;\n",
              "      cursor: pointer;\n",
              "      display: none;\n",
              "      fill: #1967D2;\n",
              "      height: 32px;\n",
              "      padding: 0 0 0 0;\n",
              "      width: 32px;\n",
              "    }\n",
              "\n",
              "    .colab-df-convert:hover {\n",
              "      background-color: #E2EBFA;\n",
              "      box-shadow: 0px 1px 2px rgba(60, 64, 67, 0.3), 0px 1px 3px 1px rgba(60, 64, 67, 0.15);\n",
              "      fill: #174EA6;\n",
              "    }\n",
              "\n",
              "    [theme=dark] .colab-df-convert {\n",
              "      background-color: #3B4455;\n",
              "      fill: #D2E3FC;\n",
              "    }\n",
              "\n",
              "    [theme=dark] .colab-df-convert:hover {\n",
              "      background-color: #434B5C;\n",
              "      box-shadow: 0px 1px 3px 1px rgba(0, 0, 0, 0.15);\n",
              "      filter: drop-shadow(0px 1px 2px rgba(0, 0, 0, 0.3));\n",
              "      fill: #FFFFFF;\n",
              "    }\n",
              "  </style>\n",
              "\n",
              "      <script>\n",
              "        const buttonEl =\n",
              "          document.querySelector('#df-5e93a22d-bae6-4c87-b0f9-2082b3cc0e01 button.colab-df-convert');\n",
              "        buttonEl.style.display =\n",
              "          google.colab.kernel.accessAllowed ? 'block' : 'none';\n",
              "\n",
              "        async function convertToInteractive(key) {\n",
              "          const element = document.querySelector('#df-5e93a22d-bae6-4c87-b0f9-2082b3cc0e01');\n",
              "          const dataTable =\n",
              "            await google.colab.kernel.invokeFunction('convertToInteractive',\n",
              "                                                     [key], {});\n",
              "          if (!dataTable) return;\n",
              "\n",
              "          const docLinkHtml = 'Like what you see? Visit the ' +\n",
              "            '<a target=\"_blank\" href=https://colab.research.google.com/notebooks/data_table.ipynb>data table notebook</a>'\n",
              "            + ' to learn more about interactive tables.';\n",
              "          element.innerHTML = '';\n",
              "          dataTable['output_type'] = 'display_data';\n",
              "          await google.colab.output.renderOutput(dataTable, element);\n",
              "          const docLink = document.createElement('div');\n",
              "          docLink.innerHTML = docLinkHtml;\n",
              "          element.appendChild(docLink);\n",
              "        }\n",
              "      </script>\n",
              "    </div>\n",
              "  </div>\n",
              "  "
            ]
          },
          "metadata": {},
          "execution_count": 668
        }
      ],
      "source": [
        "data1.groupby(['is_first_time']).size().reset_index(name='count')"
      ]
    },
    {
      "cell_type": "code",
      "execution_count": 669,
      "metadata": {
        "colab": {
          "base_uri": "https://localhost:8080/"
        },
        "id": "uu3Cm0zWtYoa",
        "outputId": "70a75764-6c5c-4647-ebc6-e57e4ec5dbf7"
      },
      "outputs": [
        {
          "output_type": "execute_result",
          "data": {
            "text/plain": [
              "timestamp        0\n",
              "id               0\n",
              "rating           0\n",
              "18_group         0\n",
              "is_mi            0\n",
              "fall_1           0\n",
              "fall_2           0\n",
              "fall_3           0\n",
              "spring_1         0\n",
              "spring_2         0\n",
              "spring_3         0\n",
              "is_first_time    0\n",
              "percentile       0\n",
              "17_group         0\n",
              "blended          0\n",
              "is_ml_student    0\n",
              "dtype: int64"
            ]
          },
          "metadata": {},
          "execution_count": 669
        }
      ],
      "source": [
        "data1.isna().sum()"
      ]
    },
    {
      "cell_type": "markdown",
      "metadata": {
        "id": "U7br2h429abB"
      },
      "source": [
        "Посмотрим, которые из id дублируются"
      ]
    },
    {
      "cell_type": "code",
      "execution_count": 670,
      "metadata": {
        "colab": {
          "base_uri": "https://localhost:8080/",
          "height": 342
        },
        "id": "iccfQbpJ1M3o",
        "outputId": "64bd2fe6-0d7b-4172-cae7-b6d8f3207336"
      },
      "outputs": [
        {
          "output_type": "execute_result",
          "data": {
            "text/plain": [
              "                  timestamp                                id  rating  \\\n",
              "98  2020-05-18 18:53:41.094  5ee2ad618729a6dc3bdb7f2858826ef0     628   \n",
              "150 2020-05-18 21:49:22.233  f8fab519d78047712c06798c8b7fe38f     561   \n",
              "325 2020-05-18 22:40:28.531  d9c068e5578253c2b0721558dd0813e1    1075   \n",
              "\n",
              "     18_group  is_mi                             fall_1  \\\n",
              "98      185.0    0.0   Безопасность компьютерных систем   \n",
              "150     185.0    1.0      Моделирование временных рядов   \n",
              "325       0.0    0.0  Анализ неструктурированных данных   \n",
              "\n",
              "                          fall_2  \\\n",
              "98                      Язык SQL   \n",
              "150            Теория баз данных   \n",
              "325  Statistical Learning Theory   \n",
              "\n",
              "                                                fall_3  \\\n",
              "98                                   Теория баз данных   \n",
              "150                                           Язык SQL   \n",
              "325  Принятие решений в условиях риска и неопределё...   \n",
              "\n",
              "                                        spring_1  \\\n",
              "98                             Компьютерные сети   \n",
              "150  Промышленное программирование на языке Java   \n",
              "325                       Конфликты и кооперация   \n",
              "\n",
              "                                        spring_2                spring_3  \\\n",
              "98   Промышленное программирование на языке Java  Дискретная оптимизация   \n",
              "150                          Машинное обучение 2       Компьютерные сети   \n",
              "325                     Обучение с подкреплением   Символьные вычисления   \n",
              "\n",
              "    is_first_time  percentile  17_group blended  is_ml_student  \n",
              "98            Нет    0.513453       0.0                    0.0  \n",
              "150           Нет    0.822870       0.0                    0.0  \n",
              "325           Нет    0.807971     174.0  DevOps            0.0  "
            ],
            "text/html": [
              "\n",
              "  <div id=\"df-adffe5e0-3440-468c-8934-84c3dc90a16a\">\n",
              "    <div class=\"colab-df-container\">\n",
              "      <div>\n",
              "<style scoped>\n",
              "    .dataframe tbody tr th:only-of-type {\n",
              "        vertical-align: middle;\n",
              "    }\n",
              "\n",
              "    .dataframe tbody tr th {\n",
              "        vertical-align: top;\n",
              "    }\n",
              "\n",
              "    .dataframe thead th {\n",
              "        text-align: right;\n",
              "    }\n",
              "</style>\n",
              "<table border=\"1\" class=\"dataframe\">\n",
              "  <thead>\n",
              "    <tr style=\"text-align: right;\">\n",
              "      <th></th>\n",
              "      <th>timestamp</th>\n",
              "      <th>id</th>\n",
              "      <th>rating</th>\n",
              "      <th>18_group</th>\n",
              "      <th>is_mi</th>\n",
              "      <th>fall_1</th>\n",
              "      <th>fall_2</th>\n",
              "      <th>fall_3</th>\n",
              "      <th>spring_1</th>\n",
              "      <th>spring_2</th>\n",
              "      <th>spring_3</th>\n",
              "      <th>is_first_time</th>\n",
              "      <th>percentile</th>\n",
              "      <th>17_group</th>\n",
              "      <th>blended</th>\n",
              "      <th>is_ml_student</th>\n",
              "    </tr>\n",
              "  </thead>\n",
              "  <tbody>\n",
              "    <tr>\n",
              "      <th>98</th>\n",
              "      <td>2020-05-18 18:53:41.094</td>\n",
              "      <td>5ee2ad618729a6dc3bdb7f2858826ef0</td>\n",
              "      <td>628</td>\n",
              "      <td>185.0</td>\n",
              "      <td>0.0</td>\n",
              "      <td>Безопасность компьютерных систем</td>\n",
              "      <td>Язык SQL</td>\n",
              "      <td>Теория баз данных</td>\n",
              "      <td>Компьютерные сети</td>\n",
              "      <td>Промышленное программирование на языке Java</td>\n",
              "      <td>Дискретная оптимизация</td>\n",
              "      <td>Нет</td>\n",
              "      <td>0.513453</td>\n",
              "      <td>0.0</td>\n",
              "      <td></td>\n",
              "      <td>0.0</td>\n",
              "    </tr>\n",
              "    <tr>\n",
              "      <th>150</th>\n",
              "      <td>2020-05-18 21:49:22.233</td>\n",
              "      <td>f8fab519d78047712c06798c8b7fe38f</td>\n",
              "      <td>561</td>\n",
              "      <td>185.0</td>\n",
              "      <td>1.0</td>\n",
              "      <td>Моделирование временных рядов</td>\n",
              "      <td>Теория баз данных</td>\n",
              "      <td>Язык SQL</td>\n",
              "      <td>Промышленное программирование на языке Java</td>\n",
              "      <td>Машинное обучение 2</td>\n",
              "      <td>Компьютерные сети</td>\n",
              "      <td>Нет</td>\n",
              "      <td>0.822870</td>\n",
              "      <td>0.0</td>\n",
              "      <td></td>\n",
              "      <td>0.0</td>\n",
              "    </tr>\n",
              "    <tr>\n",
              "      <th>325</th>\n",
              "      <td>2020-05-18 22:40:28.531</td>\n",
              "      <td>d9c068e5578253c2b0721558dd0813e1</td>\n",
              "      <td>1075</td>\n",
              "      <td>0.0</td>\n",
              "      <td>0.0</td>\n",
              "      <td>Анализ неструктурированных данных</td>\n",
              "      <td>Statistical Learning Theory</td>\n",
              "      <td>Принятие решений в условиях риска и неопределё...</td>\n",
              "      <td>Конфликты и кооперация</td>\n",
              "      <td>Обучение с подкреплением</td>\n",
              "      <td>Символьные вычисления</td>\n",
              "      <td>Нет</td>\n",
              "      <td>0.807971</td>\n",
              "      <td>174.0</td>\n",
              "      <td>DevOps</td>\n",
              "      <td>0.0</td>\n",
              "    </tr>\n",
              "  </tbody>\n",
              "</table>\n",
              "</div>\n",
              "      <button class=\"colab-df-convert\" onclick=\"convertToInteractive('df-adffe5e0-3440-468c-8934-84c3dc90a16a')\"\n",
              "              title=\"Convert this dataframe to an interactive table.\"\n",
              "              style=\"display:none;\">\n",
              "        \n",
              "  <svg xmlns=\"http://www.w3.org/2000/svg\" height=\"24px\"viewBox=\"0 0 24 24\"\n",
              "       width=\"24px\">\n",
              "    <path d=\"M0 0h24v24H0V0z\" fill=\"none\"/>\n",
              "    <path d=\"M18.56 5.44l.94 2.06.94-2.06 2.06-.94-2.06-.94-.94-2.06-.94 2.06-2.06.94zm-11 1L8.5 8.5l.94-2.06 2.06-.94-2.06-.94L8.5 2.5l-.94 2.06-2.06.94zm10 10l.94 2.06.94-2.06 2.06-.94-2.06-.94-.94-2.06-.94 2.06-2.06.94z\"/><path d=\"M17.41 7.96l-1.37-1.37c-.4-.4-.92-.59-1.43-.59-.52 0-1.04.2-1.43.59L10.3 9.45l-7.72 7.72c-.78.78-.78 2.05 0 2.83L4 21.41c.39.39.9.59 1.41.59.51 0 1.02-.2 1.41-.59l7.78-7.78 2.81-2.81c.8-.78.8-2.07 0-2.86zM5.41 20L4 18.59l7.72-7.72 1.47 1.35L5.41 20z\"/>\n",
              "  </svg>\n",
              "      </button>\n",
              "      \n",
              "  <style>\n",
              "    .colab-df-container {\n",
              "      display:flex;\n",
              "      flex-wrap:wrap;\n",
              "      gap: 12px;\n",
              "    }\n",
              "\n",
              "    .colab-df-convert {\n",
              "      background-color: #E8F0FE;\n",
              "      border: none;\n",
              "      border-radius: 50%;\n",
              "      cursor: pointer;\n",
              "      display: none;\n",
              "      fill: #1967D2;\n",
              "      height: 32px;\n",
              "      padding: 0 0 0 0;\n",
              "      width: 32px;\n",
              "    }\n",
              "\n",
              "    .colab-df-convert:hover {\n",
              "      background-color: #E2EBFA;\n",
              "      box-shadow: 0px 1px 2px rgba(60, 64, 67, 0.3), 0px 1px 3px 1px rgba(60, 64, 67, 0.15);\n",
              "      fill: #174EA6;\n",
              "    }\n",
              "\n",
              "    [theme=dark] .colab-df-convert {\n",
              "      background-color: #3B4455;\n",
              "      fill: #D2E3FC;\n",
              "    }\n",
              "\n",
              "    [theme=dark] .colab-df-convert:hover {\n",
              "      background-color: #434B5C;\n",
              "      box-shadow: 0px 1px 3px 1px rgba(0, 0, 0, 0.15);\n",
              "      filter: drop-shadow(0px 1px 2px rgba(0, 0, 0, 0.3));\n",
              "      fill: #FFFFFF;\n",
              "    }\n",
              "  </style>\n",
              "\n",
              "      <script>\n",
              "        const buttonEl =\n",
              "          document.querySelector('#df-adffe5e0-3440-468c-8934-84c3dc90a16a button.colab-df-convert');\n",
              "        buttonEl.style.display =\n",
              "          google.colab.kernel.accessAllowed ? 'block' : 'none';\n",
              "\n",
              "        async function convertToInteractive(key) {\n",
              "          const element = document.querySelector('#df-adffe5e0-3440-468c-8934-84c3dc90a16a');\n",
              "          const dataTable =\n",
              "            await google.colab.kernel.invokeFunction('convertToInteractive',\n",
              "                                                     [key], {});\n",
              "          if (!dataTable) return;\n",
              "\n",
              "          const docLinkHtml = 'Like what you see? Visit the ' +\n",
              "            '<a target=\"_blank\" href=https://colab.research.google.com/notebooks/data_table.ipynb>data table notebook</a>'\n",
              "            + ' to learn more about interactive tables.';\n",
              "          element.innerHTML = '';\n",
              "          dataTable['output_type'] = 'display_data';\n",
              "          await google.colab.output.renderOutput(dataTable, element);\n",
              "          const docLink = document.createElement('div');\n",
              "          docLink.innerHTML = docLinkHtml;\n",
              "          element.appendChild(docLink);\n",
              "        }\n",
              "      </script>\n",
              "    </div>\n",
              "  </div>\n",
              "  "
            ]
          },
          "metadata": {},
          "execution_count": 670
        }
      ],
      "source": [
        "data1[data1['id'].duplicated() == True].sample(3)"
      ]
    },
    {
      "cell_type": "code",
      "execution_count": 671,
      "metadata": {
        "id": "9hlRnOxx85UW"
      },
      "outputs": [],
      "source": [
        "data1 = data1.drop_duplicates(['id'], keep='last')"
      ]
    },
    {
      "cell_type": "code",
      "execution_count": 672,
      "metadata": {
        "colab": {
          "base_uri": "https://localhost:8080/"
        },
        "id": "iMML-NMhw85_",
        "outputId": "567f98f7-0db3-48dc-f701-f815275c2f8b"
      },
      "outputs": [
        {
          "output_type": "execute_result",
          "data": {
            "text/plain": [
              "347"
            ]
          },
          "metadata": {},
          "execution_count": 672
        }
      ],
      "source": [
        "data1.shape[0]"
      ]
    },
    {
      "cell_type": "markdown",
      "metadata": {
        "id": "Jhk3tVpVhLuy"
      },
      "source": [
        "#### 4. [0.5 балла] Ответьте на вопросы:\n",
        "1. Сколько было заявок из групп 18-го года набора, а сколько из групп 17-го года?\n",
        "2. Есть ли студенты с равными перцентилями (среди объединенных данных, ведь конкурс на каждый курс общий)?"
      ]
    },
    {
      "cell_type": "code",
      "execution_count": 673,
      "metadata": {
        "colab": {
          "base_uri": "https://localhost:8080/"
        },
        "id": "bsn4vn8RhLuy",
        "outputId": "f6801342-3bde-480f-a7cf-e40fe9d6967b"
      },
      "outputs": [
        {
          "output_type": "stream",
          "name": "stdout",
          "text": [
            "18-й год: 213\n",
            "17-й год: 134\n"
          ]
        }
      ],
      "source": [
        "print('18-й год:', data1.shape[0] - data1['18_group'].value_counts(dropna = True)[0])   \n",
        "print('17-й год:', data1.shape[0] - data1['17_group'].value_counts(dropna = False)[0])\n"
      ]
    },
    {
      "cell_type": "code",
      "execution_count": 674,
      "metadata": {
        "colab": {
          "base_uri": "https://localhost:8080/"
        },
        "id": "7EOauWNnrC7W",
        "outputId": "e1c828a3-4e5d-4781-bd56-d408d69761b1"
      },
      "outputs": [
        {
          "output_type": "stream",
          "name": "stdout",
          "text": [
            "Количество субъектов с одинаковым перцентилем: 2\n"
          ]
        }
      ],
      "source": [
        "# equal_perc = data1.loc[data1.duplicated(['percentile'], keep = False)]\n",
        "prom_data1 = data1.groupby(['percentile']).size().reset_index(name='count')\n",
        "# len(equal_perc.index)\n",
        "print('Количество субъектов с одинаковым перцентилем:', prom_data1.loc[prom_data1['count'] > 1].shape[1])"
      ]
    },
    {
      "cell_type": "markdown",
      "metadata": {
        "id": "IlzHp3HVhLuz"
      },
      "source": [
        "#### 5. [0.5 балла] Какие  blended-курсы для четверокурсников существуют? На какой blended-курс записалось наибольшее количество студентов? На каком из blended-курсов собрались студенты с самым высоким средним рейтингом (выведите этот курс и количество студентов на нем)? "
      ]
    },
    {
      "cell_type": "code",
      "execution_count": 675,
      "metadata": {
        "colab": {
          "base_uri": "https://localhost:8080/",
          "height": 173
        },
        "id": "j_BRWerHhLu0",
        "outputId": "f9829186-312c-4fbb-c9fe-aab0cbeeaaad"
      },
      "outputs": [
        {
          "output_type": "execute_result",
          "data": {
            "text/plain": [
              "                                 blended  count\n",
              "0                                           213\n",
              "1                                 DevOps     87\n",
              "2  Введение в дифференциальную геометрию     15\n",
              "3         Соревновательный анализ данных     32"
            ],
            "text/html": [
              "\n",
              "  <div id=\"df-421febad-c4c8-4449-b9bd-373c31c760a8\">\n",
              "    <div class=\"colab-df-container\">\n",
              "      <div>\n",
              "<style scoped>\n",
              "    .dataframe tbody tr th:only-of-type {\n",
              "        vertical-align: middle;\n",
              "    }\n",
              "\n",
              "    .dataframe tbody tr th {\n",
              "        vertical-align: top;\n",
              "    }\n",
              "\n",
              "    .dataframe thead th {\n",
              "        text-align: right;\n",
              "    }\n",
              "</style>\n",
              "<table border=\"1\" class=\"dataframe\">\n",
              "  <thead>\n",
              "    <tr style=\"text-align: right;\">\n",
              "      <th></th>\n",
              "      <th>blended</th>\n",
              "      <th>count</th>\n",
              "    </tr>\n",
              "  </thead>\n",
              "  <tbody>\n",
              "    <tr>\n",
              "      <th>0</th>\n",
              "      <td></td>\n",
              "      <td>213</td>\n",
              "    </tr>\n",
              "    <tr>\n",
              "      <th>1</th>\n",
              "      <td>DevOps</td>\n",
              "      <td>87</td>\n",
              "    </tr>\n",
              "    <tr>\n",
              "      <th>2</th>\n",
              "      <td>Введение в дифференциальную геометрию</td>\n",
              "      <td>15</td>\n",
              "    </tr>\n",
              "    <tr>\n",
              "      <th>3</th>\n",
              "      <td>Соревновательный анализ данных</td>\n",
              "      <td>32</td>\n",
              "    </tr>\n",
              "  </tbody>\n",
              "</table>\n",
              "</div>\n",
              "      <button class=\"colab-df-convert\" onclick=\"convertToInteractive('df-421febad-c4c8-4449-b9bd-373c31c760a8')\"\n",
              "              title=\"Convert this dataframe to an interactive table.\"\n",
              "              style=\"display:none;\">\n",
              "        \n",
              "  <svg xmlns=\"http://www.w3.org/2000/svg\" height=\"24px\"viewBox=\"0 0 24 24\"\n",
              "       width=\"24px\">\n",
              "    <path d=\"M0 0h24v24H0V0z\" fill=\"none\"/>\n",
              "    <path d=\"M18.56 5.44l.94 2.06.94-2.06 2.06-.94-2.06-.94-.94-2.06-.94 2.06-2.06.94zm-11 1L8.5 8.5l.94-2.06 2.06-.94-2.06-.94L8.5 2.5l-.94 2.06-2.06.94zm10 10l.94 2.06.94-2.06 2.06-.94-2.06-.94-.94-2.06-.94 2.06-2.06.94z\"/><path d=\"M17.41 7.96l-1.37-1.37c-.4-.4-.92-.59-1.43-.59-.52 0-1.04.2-1.43.59L10.3 9.45l-7.72 7.72c-.78.78-.78 2.05 0 2.83L4 21.41c.39.39.9.59 1.41.59.51 0 1.02-.2 1.41-.59l7.78-7.78 2.81-2.81c.8-.78.8-2.07 0-2.86zM5.41 20L4 18.59l7.72-7.72 1.47 1.35L5.41 20z\"/>\n",
              "  </svg>\n",
              "      </button>\n",
              "      \n",
              "  <style>\n",
              "    .colab-df-container {\n",
              "      display:flex;\n",
              "      flex-wrap:wrap;\n",
              "      gap: 12px;\n",
              "    }\n",
              "\n",
              "    .colab-df-convert {\n",
              "      background-color: #E8F0FE;\n",
              "      border: none;\n",
              "      border-radius: 50%;\n",
              "      cursor: pointer;\n",
              "      display: none;\n",
              "      fill: #1967D2;\n",
              "      height: 32px;\n",
              "      padding: 0 0 0 0;\n",
              "      width: 32px;\n",
              "    }\n",
              "\n",
              "    .colab-df-convert:hover {\n",
              "      background-color: #E2EBFA;\n",
              "      box-shadow: 0px 1px 2px rgba(60, 64, 67, 0.3), 0px 1px 3px 1px rgba(60, 64, 67, 0.15);\n",
              "      fill: #174EA6;\n",
              "    }\n",
              "\n",
              "    [theme=dark] .colab-df-convert {\n",
              "      background-color: #3B4455;\n",
              "      fill: #D2E3FC;\n",
              "    }\n",
              "\n",
              "    [theme=dark] .colab-df-convert:hover {\n",
              "      background-color: #434B5C;\n",
              "      box-shadow: 0px 1px 3px 1px rgba(0, 0, 0, 0.15);\n",
              "      filter: drop-shadow(0px 1px 2px rgba(0, 0, 0, 0.3));\n",
              "      fill: #FFFFFF;\n",
              "    }\n",
              "  </style>\n",
              "\n",
              "      <script>\n",
              "        const buttonEl =\n",
              "          document.querySelector('#df-421febad-c4c8-4449-b9bd-373c31c760a8 button.colab-df-convert');\n",
              "        buttonEl.style.display =\n",
              "          google.colab.kernel.accessAllowed ? 'block' : 'none';\n",
              "\n",
              "        async function convertToInteractive(key) {\n",
              "          const element = document.querySelector('#df-421febad-c4c8-4449-b9bd-373c31c760a8');\n",
              "          const dataTable =\n",
              "            await google.colab.kernel.invokeFunction('convertToInteractive',\n",
              "                                                     [key], {});\n",
              "          if (!dataTable) return;\n",
              "\n",
              "          const docLinkHtml = 'Like what you see? Visit the ' +\n",
              "            '<a target=\"_blank\" href=https://colab.research.google.com/notebooks/data_table.ipynb>data table notebook</a>'\n",
              "            + ' to learn more about interactive tables.';\n",
              "          element.innerHTML = '';\n",
              "          dataTable['output_type'] = 'display_data';\n",
              "          await google.colab.output.renderOutput(dataTable, element);\n",
              "          const docLink = document.createElement('div');\n",
              "          docLink.innerHTML = docLinkHtml;\n",
              "          element.appendChild(docLink);\n",
              "        }\n",
              "      </script>\n",
              "    </div>\n",
              "  </div>\n",
              "  "
            ]
          },
          "metadata": {},
          "execution_count": 675
        }
      ],
      "source": [
        "prom_blended = data1.groupby(['blended']).size().reset_index(name='count')\n",
        "prom_blended.head(4)\n"
      ]
    },
    {
      "cell_type": "code",
      "source": [
        "print(prom_blended['blended'])"
      ],
      "metadata": {
        "colab": {
          "base_uri": "https://localhost:8080/"
        },
        "id": "aCS25vPRvSIA",
        "outputId": "9089f29d-9df7-47ef-92b4-e29611593bc4"
      },
      "execution_count": 676,
      "outputs": [
        {
          "output_type": "stream",
          "name": "stdout",
          "text": [
            "0                                         \n",
            "1                                   DevOps\n",
            "2    Введение в дифференциальную геометрию\n",
            "3           Соревновательный анализ данных\n",
            "Name: blended, dtype: object\n"
          ]
        }
      ]
    },
    {
      "cell_type": "code",
      "execution_count": 677,
      "metadata": {
        "colab": {
          "base_uri": "https://localhost:8080/"
        },
        "id": "Q3TVGhOIXxOn",
        "outputId": "54e8a080-e8d6-4f2b-915c-8dc457110938"
      },
      "outputs": [
        {
          "output_type": "stream",
          "name": "stdout",
          "text": [
            "Больше всего записались на DevOps\n"
          ]
        }
      ],
      "source": [
        "a = prom_blended.sort_values(['count'])\n",
        "list_of_a = a['blended'].to_list()\n",
        "print('Больше всего записались на', list_of_a[-2])"
      ]
    },
    {
      "cell_type": "code",
      "execution_count": 678,
      "metadata": {
        "colab": {
          "base_uri": "https://localhost:8080/"
        },
        "id": "VZjOErCVZH6q",
        "outputId": "71e931e8-8df5-4d26-96aa-d6b1cbbc3ef9"
      },
      "outputs": [
        {
          "output_type": "stream",
          "name": "stdout",
          "text": [
            "87\n",
            "  blended  count\n",
            "1  DevOps     87\n"
          ]
        }
      ],
      "source": [
        "# Хочу замапить людей по ключу blended курса и посчитать среднее. Типа 3 массива, в каждом строки по этим челикам.\n",
        "\n",
        "b_cources = data1[['blended', 'percentile']]\n",
        "\n",
        "DevOps_blended = b_cources['blended'].isin(['DevOps'])\n",
        "Geom_blended = b_cources['blended'].isin(['Введение в дифференциальную геометрию'])\n",
        "Anal_blended = b_cources['blended'].isin(['Соревновательный анализ данных'])\n",
        "\n",
        "print(max(len(b_cources[DevOps_blended]), (len(b_cources[Geom_blended])),len(b_cources[Anal_blended])))\n",
        "print(prom_blended[prom_blended['count'] == 87])"
      ]
    },
    {
      "cell_type": "code",
      "execution_count": 679,
      "metadata": {
        "colab": {
          "base_uri": "https://localhost:8080/",
          "height": 304
        },
        "id": "unJBJHkYeW6c",
        "outputId": "e8f4ef92-b0ec-4be1-eaaf-eb6e3320d308"
      },
      "outputs": [
        {
          "output_type": "stream",
          "name": "stdout",
          "text": [
            "percentile    0.502\n",
            "dtype: float64\n",
            "percentile    0.344\n",
            "dtype: float64\n",
            "percentile    0.538\n",
            "dtype: float64\n"
          ]
        },
        {
          "output_type": "stream",
          "name": "stderr",
          "text": [
            "/usr/local/lib/python3.7/dist-packages/ipykernel_launcher.py:1: FutureWarning: Dropping of nuisance columns in DataFrame reductions (with 'numeric_only=None') is deprecated; in a future version this will raise TypeError.  Select only valid columns before calling the reduction.\n",
            "  \"\"\"Entry point for launching an IPython kernel.\n",
            "/usr/local/lib/python3.7/dist-packages/ipykernel_launcher.py:2: FutureWarning: Dropping of nuisance columns in DataFrame reductions (with 'numeric_only=None') is deprecated; in a future version this will raise TypeError.  Select only valid columns before calling the reduction.\n",
            "  \n",
            "/usr/local/lib/python3.7/dist-packages/ipykernel_launcher.py:3: FutureWarning: Dropping of nuisance columns in DataFrame reductions (with 'numeric_only=None') is deprecated; in a future version this will raise TypeError.  Select only valid columns before calling the reduction.\n",
            "  This is separate from the ipykernel package so we can avoid doing imports until\n"
          ]
        },
        {
          "output_type": "execute_result",
          "data": {
            "text/plain": [
              "     num                                   name\n",
              "1  0.043  Введение в дифференциальную геометрию"
            ],
            "text/html": [
              "\n",
              "  <div id=\"df-d63b2c80-5d0b-46e9-9956-e9d69f727b62\">\n",
              "    <div class=\"colab-df-container\">\n",
              "      <div>\n",
              "<style scoped>\n",
              "    .dataframe tbody tr th:only-of-type {\n",
              "        vertical-align: middle;\n",
              "    }\n",
              "\n",
              "    .dataframe tbody tr th {\n",
              "        vertical-align: top;\n",
              "    }\n",
              "\n",
              "    .dataframe thead th {\n",
              "        text-align: right;\n",
              "    }\n",
              "</style>\n",
              "<table border=\"1\" class=\"dataframe\">\n",
              "  <thead>\n",
              "    <tr style=\"text-align: right;\">\n",
              "      <th></th>\n",
              "      <th>num</th>\n",
              "      <th>name</th>\n",
              "    </tr>\n",
              "  </thead>\n",
              "  <tbody>\n",
              "    <tr>\n",
              "      <th>1</th>\n",
              "      <td>0.043</td>\n",
              "      <td>Введение в дифференциальную геометрию</td>\n",
              "    </tr>\n",
              "  </tbody>\n",
              "</table>\n",
              "</div>\n",
              "      <button class=\"colab-df-convert\" onclick=\"convertToInteractive('df-d63b2c80-5d0b-46e9-9956-e9d69f727b62')\"\n",
              "              title=\"Convert this dataframe to an interactive table.\"\n",
              "              style=\"display:none;\">\n",
              "        \n",
              "  <svg xmlns=\"http://www.w3.org/2000/svg\" height=\"24px\"viewBox=\"0 0 24 24\"\n",
              "       width=\"24px\">\n",
              "    <path d=\"M0 0h24v24H0V0z\" fill=\"none\"/>\n",
              "    <path d=\"M18.56 5.44l.94 2.06.94-2.06 2.06-.94-2.06-.94-.94-2.06-.94 2.06-2.06.94zm-11 1L8.5 8.5l.94-2.06 2.06-.94-2.06-.94L8.5 2.5l-.94 2.06-2.06.94zm10 10l.94 2.06.94-2.06 2.06-.94-2.06-.94-.94-2.06-.94 2.06-2.06.94z\"/><path d=\"M17.41 7.96l-1.37-1.37c-.4-.4-.92-.59-1.43-.59-.52 0-1.04.2-1.43.59L10.3 9.45l-7.72 7.72c-.78.78-.78 2.05 0 2.83L4 21.41c.39.39.9.59 1.41.59.51 0 1.02-.2 1.41-.59l7.78-7.78 2.81-2.81c.8-.78.8-2.07 0-2.86zM5.41 20L4 18.59l7.72-7.72 1.47 1.35L5.41 20z\"/>\n",
              "  </svg>\n",
              "      </button>\n",
              "      \n",
              "  <style>\n",
              "    .colab-df-container {\n",
              "      display:flex;\n",
              "      flex-wrap:wrap;\n",
              "      gap: 12px;\n",
              "    }\n",
              "\n",
              "    .colab-df-convert {\n",
              "      background-color: #E8F0FE;\n",
              "      border: none;\n",
              "      border-radius: 50%;\n",
              "      cursor: pointer;\n",
              "      display: none;\n",
              "      fill: #1967D2;\n",
              "      height: 32px;\n",
              "      padding: 0 0 0 0;\n",
              "      width: 32px;\n",
              "    }\n",
              "\n",
              "    .colab-df-convert:hover {\n",
              "      background-color: #E2EBFA;\n",
              "      box-shadow: 0px 1px 2px rgba(60, 64, 67, 0.3), 0px 1px 3px 1px rgba(60, 64, 67, 0.15);\n",
              "      fill: #174EA6;\n",
              "    }\n",
              "\n",
              "    [theme=dark] .colab-df-convert {\n",
              "      background-color: #3B4455;\n",
              "      fill: #D2E3FC;\n",
              "    }\n",
              "\n",
              "    [theme=dark] .colab-df-convert:hover {\n",
              "      background-color: #434B5C;\n",
              "      box-shadow: 0px 1px 3px 1px rgba(0, 0, 0, 0.15);\n",
              "      filter: drop-shadow(0px 1px 2px rgba(0, 0, 0, 0.3));\n",
              "      fill: #FFFFFF;\n",
              "    }\n",
              "  </style>\n",
              "\n",
              "      <script>\n",
              "        const buttonEl =\n",
              "          document.querySelector('#df-d63b2c80-5d0b-46e9-9956-e9d69f727b62 button.colab-df-convert');\n",
              "        buttonEl.style.display =\n",
              "          google.colab.kernel.accessAllowed ? 'block' : 'none';\n",
              "\n",
              "        async function convertToInteractive(key) {\n",
              "          const element = document.querySelector('#df-d63b2c80-5d0b-46e9-9956-e9d69f727b62');\n",
              "          const dataTable =\n",
              "            await google.colab.kernel.invokeFunction('convertToInteractive',\n",
              "                                                     [key], {});\n",
              "          if (!dataTable) return;\n",
              "\n",
              "          const docLinkHtml = 'Like what you see? Visit the ' +\n",
              "            '<a target=\"_blank\" href=https://colab.research.google.com/notebooks/data_table.ipynb>data table notebook</a>'\n",
              "            + ' to learn more about interactive tables.';\n",
              "          element.innerHTML = '';\n",
              "          dataTable['output_type'] = 'display_data';\n",
              "          await google.colab.output.renderOutput(dataTable, element);\n",
              "          const docLink = document.createElement('div');\n",
              "          docLink.innerHTML = docLinkHtml;\n",
              "          element.appendChild(docLink);\n",
              "        }\n",
              "      </script>\n",
              "    </div>\n",
              "  </div>\n",
              "  "
            ]
          },
          "metadata": {},
          "execution_count": 679
        }
      ],
      "source": [
        "print(b_cources[DevOps_blended].mean().round(3))\n",
        "print(b_cources[Geom_blended].mean().round(3))\n",
        "print(b_cources[Anal_blended].mean().round(3))\n",
        "\n",
        "arr_of_mean = [[DevOps_blended.mean().round(3), 'DevOps'],\n",
        "               [Geom_blended.mean().round(3), 'Введение в дифференциальную геометрию'],\n",
        "               [Anal_blended.mean().round(3), 'Соревновательный анализ данных']]\n",
        "\n",
        "df_mean = pd.DataFrame(arr_of_mean, columns = ['num', 'name'])\n",
        "\n",
        "prom_mean = df_mean['num'].min()\n",
        "df_mean[df_mean['num'] == prom_mean]"
      ]
    },
    {
      "cell_type": "markdown",
      "metadata": {
        "id": "IU_FLt8HhLu0"
      },
      "source": [
        "#### 6. [1 балл] Выясните, есть ли студенты с абсолютно одинаковыми предпочтениями по всем курсам.\n",
        "\n",
        "Для этого сформируйте таблицу, где для каждого возможного набора курсов посчитано количество студентов, выбравших такой набор, и оставьте только строки где это количество больше 1.\n",
        "\n",
        "В данном случае набор курсов задается упорядоченным множеством ('fall_1', 'fall_2', 'fall_3', 'spring_1', 'spring_2', 'spring_3', 'blended'). Элемент blended будет нулевым для 3-го курса."
      ]
    },
    {
      "cell_type": "markdown",
      "source": [
        "https://pandas.pydata.org/docs/reference/api/pandas.DataFrame.duplicated.html"
      ],
      "metadata": {
        "id": "FLgckMrS5JpO"
      }
    },
    {
      "cell_type": "code",
      "execution_count": 680,
      "metadata": {
        "colab": {
          "base_uri": "https://localhost:8080/"
        },
        "id": "BBDlR1mFhLu0",
        "outputId": "d153f440-5dd1-4160-f5e5-e86f204f00ac"
      },
      "outputs": [
        {
          "output_type": "execute_result",
          "data": {
            "text/plain": [
              "32"
            ]
          },
          "metadata": {},
          "execution_count": 680
        }
      ],
      "source": [
        "data1.duplicated(subset = ['fall_1', 'fall_2', 'fall_3', 'spring_1', 'spring_2', 'spring_3', 'blended'], keep = False).sum()"
      ]
    },
    {
      "cell_type": "code",
      "source": [
        "names_of_rows = ['fall_1', 'fall_2', 'fall_3', 'spring_1', 'spring_2', 'spring_3', 'blended']\n",
        "rows_wt_duples = data1.duplicated(names_of_rows, keep = False)\n",
        "pd.DataFrame(data1[rows_wt_duples].groupby(names_of_rows)['id'].count())\n"
      ],
      "metadata": {
        "id": "Z5Y9Ihgl8389",
        "colab": {
          "base_uri": "https://localhost:8080/",
          "height": 1000
        },
        "outputId": "e4a969c6-bafd-4a57-f9f7-8f94f09c91d2"
      },
      "execution_count": 681,
      "outputs": [
        {
          "output_type": "execute_result",
          "data": {
            "text/plain": [
              "                                                                                                                                                                                                                                                                                                    id\n",
              "fall_1                                          fall_2                                          fall_3                                          spring_1                                           spring_2                                    spring_3                                    blended    \n",
              "Statistical Learning Theory                     Анализ неструктурированных данных               Сбор и обработка данных с помощью краудсорсинга Обучение с подкреплением                           Конфликты и кооперация                      Компьютерное зрение                         DevOps    2\n",
              "Байесовские методы машинного обучения           Анализ неструктурированных данных               Глубинное обучение в обработке звука            Обучение с подкреплением                           Генеративные модели в машинном обучении     Компьютерное зрение                         DevOps    2\n",
              "                                                                                                Сбор и обработка данных с помощью краудсорсинга Обучение с подкреплением                           Компьютерное зрение                         Генеративные модели в машинном обучении     DevOps    2\n",
              "Безопасность компьютерных систем                Statistical Learning Theory                     Матричные вычисления                            Дискретная оптимизация                             Промышленное программирование на языке Java Дополнительные главы прикладной статистики            3\n",
              "                                                Высокопроизводительные вычисления               Анализ неструктурированных данных               Проектирование и разработка высоконагруженных с... Методы сжатия и передачи медиаданных        Конфликты и кооперация                      DevOps    2\n",
              "                                                                                                Язык SQL                                        Компьютерные сети                                  Промышленное программирование на языке Java Дискретная оптимизация                                3\n",
              "                                                                                                                                                Промышленное программирование на языке Java        Компьютерные сети                           Системы баз данных                                    2\n",
              "                                                Матричные вычисления                            Моделирование временных рядов                   Промышленное программирование на языке Java        Компьютерные сети                           Дискретная оптимизация                                2\n",
              "                                                Сбор и обработка данных с помощью краудсорсинга Матричные вычисления                            Компьютерные сети                                  Промышленное программирование на языке Java Анализ данных в бизнесе                               2\n",
              "                                                Теория баз данных                               Язык SQL                                        Машинное обучение 2                                Компьютерные сети                           Промышленное программирование на языке Java           2\n",
              "Высокопроизводительные вычисления               Безопасность компьютерных систем                Сбор и обработка данных с помощью краудсорсинга Проектирование и разработка высоконагруженных с... Методы сжатия и передачи медиаданных        Компьютерное зрение                         DevOps    2\n",
              "                                                Сбор и обработка данных с помощью краудсорсинга Моделирование временных рядов                   Проектирование и разработка высоконагруженных с... Методы сжатия и передачи медиаданных        Методы сжатия и передачи медиаданных        DevOps    2\n",
              "Моделирование временных рядов                   Сбор и обработка данных с помощью краудсорсинга Безопасность компьютерных систем                Компьютерные сети                                  Дополнительные главы прикладной статистики  Системы баз данных                                    2\n",
              "Сбор и обработка данных с помощью краудсорсинга Язык SQL                                        Теория баз данных                               Промышленное программирование на языке Java        Машинное обучение 2                         Компьютерные сети                                     2\n",
              "Язык SQL                                        Высокопроизводительные вычисления               Теория баз данных                               Компьютерные сети                                  Промышленное программирование на языке Java Дискретная оптимизация                                2"
            ],
            "text/html": [
              "\n",
              "  <div id=\"df-e73f2c1b-6c20-4aba-848f-9d31bc7ecdc7\">\n",
              "    <div class=\"colab-df-container\">\n",
              "      <div>\n",
              "<style scoped>\n",
              "    .dataframe tbody tr th:only-of-type {\n",
              "        vertical-align: middle;\n",
              "    }\n",
              "\n",
              "    .dataframe tbody tr th {\n",
              "        vertical-align: top;\n",
              "    }\n",
              "\n",
              "    .dataframe thead th {\n",
              "        text-align: right;\n",
              "    }\n",
              "</style>\n",
              "<table border=\"1\" class=\"dataframe\">\n",
              "  <thead>\n",
              "    <tr style=\"text-align: right;\">\n",
              "      <th></th>\n",
              "      <th></th>\n",
              "      <th></th>\n",
              "      <th></th>\n",
              "      <th></th>\n",
              "      <th></th>\n",
              "      <th></th>\n",
              "      <th>id</th>\n",
              "    </tr>\n",
              "    <tr>\n",
              "      <th>fall_1</th>\n",
              "      <th>fall_2</th>\n",
              "      <th>fall_3</th>\n",
              "      <th>spring_1</th>\n",
              "      <th>spring_2</th>\n",
              "      <th>spring_3</th>\n",
              "      <th>blended</th>\n",
              "      <th></th>\n",
              "    </tr>\n",
              "  </thead>\n",
              "  <tbody>\n",
              "    <tr>\n",
              "      <th>Statistical Learning Theory</th>\n",
              "      <th>Анализ неструктурированных данных</th>\n",
              "      <th>Сбор и обработка данных с помощью краудсорсинга</th>\n",
              "      <th>Обучение с подкреплением</th>\n",
              "      <th>Конфликты и кооперация</th>\n",
              "      <th>Компьютерное зрение</th>\n",
              "      <th>DevOps</th>\n",
              "      <td>2</td>\n",
              "    </tr>\n",
              "    <tr>\n",
              "      <th rowspan=\"2\" valign=\"top\">Байесовские методы машинного обучения</th>\n",
              "      <th rowspan=\"2\" valign=\"top\">Анализ неструктурированных данных</th>\n",
              "      <th>Глубинное обучение в обработке звука</th>\n",
              "      <th>Обучение с подкреплением</th>\n",
              "      <th>Генеративные модели в машинном обучении</th>\n",
              "      <th>Компьютерное зрение</th>\n",
              "      <th>DevOps</th>\n",
              "      <td>2</td>\n",
              "    </tr>\n",
              "    <tr>\n",
              "      <th>Сбор и обработка данных с помощью краудсорсинга</th>\n",
              "      <th>Обучение с подкреплением</th>\n",
              "      <th>Компьютерное зрение</th>\n",
              "      <th>Генеративные модели в машинном обучении</th>\n",
              "      <th>DevOps</th>\n",
              "      <td>2</td>\n",
              "    </tr>\n",
              "    <tr>\n",
              "      <th rowspan=\"7\" valign=\"top\">Безопасность компьютерных систем</th>\n",
              "      <th>Statistical Learning Theory</th>\n",
              "      <th>Матричные вычисления</th>\n",
              "      <th>Дискретная оптимизация</th>\n",
              "      <th>Промышленное программирование на языке Java</th>\n",
              "      <th>Дополнительные главы прикладной статистики</th>\n",
              "      <th></th>\n",
              "      <td>3</td>\n",
              "    </tr>\n",
              "    <tr>\n",
              "      <th rowspan=\"3\" valign=\"top\">Высокопроизводительные вычисления</th>\n",
              "      <th>Анализ неструктурированных данных</th>\n",
              "      <th>Проектирование и разработка высоконагруженных сервисов</th>\n",
              "      <th>Методы сжатия и передачи медиаданных</th>\n",
              "      <th>Конфликты и кооперация</th>\n",
              "      <th>DevOps</th>\n",
              "      <td>2</td>\n",
              "    </tr>\n",
              "    <tr>\n",
              "      <th rowspan=\"2\" valign=\"top\">Язык SQL</th>\n",
              "      <th>Компьютерные сети</th>\n",
              "      <th>Промышленное программирование на языке Java</th>\n",
              "      <th>Дискретная оптимизация</th>\n",
              "      <th></th>\n",
              "      <td>3</td>\n",
              "    </tr>\n",
              "    <tr>\n",
              "      <th>Промышленное программирование на языке Java</th>\n",
              "      <th>Компьютерные сети</th>\n",
              "      <th>Системы баз данных</th>\n",
              "      <th></th>\n",
              "      <td>2</td>\n",
              "    </tr>\n",
              "    <tr>\n",
              "      <th>Матричные вычисления</th>\n",
              "      <th>Моделирование временных рядов</th>\n",
              "      <th>Промышленное программирование на языке Java</th>\n",
              "      <th>Компьютерные сети</th>\n",
              "      <th>Дискретная оптимизация</th>\n",
              "      <th></th>\n",
              "      <td>2</td>\n",
              "    </tr>\n",
              "    <tr>\n",
              "      <th>Сбор и обработка данных с помощью краудсорсинга</th>\n",
              "      <th>Матричные вычисления</th>\n",
              "      <th>Компьютерные сети</th>\n",
              "      <th>Промышленное программирование на языке Java</th>\n",
              "      <th>Анализ данных в бизнесе</th>\n",
              "      <th></th>\n",
              "      <td>2</td>\n",
              "    </tr>\n",
              "    <tr>\n",
              "      <th>Теория баз данных</th>\n",
              "      <th>Язык SQL</th>\n",
              "      <th>Машинное обучение 2</th>\n",
              "      <th>Компьютерные сети</th>\n",
              "      <th>Промышленное программирование на языке Java</th>\n",
              "      <th></th>\n",
              "      <td>2</td>\n",
              "    </tr>\n",
              "    <tr>\n",
              "      <th rowspan=\"2\" valign=\"top\">Высокопроизводительные вычисления</th>\n",
              "      <th>Безопасность компьютерных систем</th>\n",
              "      <th>Сбор и обработка данных с помощью краудсорсинга</th>\n",
              "      <th>Проектирование и разработка высоконагруженных сервисов</th>\n",
              "      <th>Методы сжатия и передачи медиаданных</th>\n",
              "      <th>Компьютерное зрение</th>\n",
              "      <th>DevOps</th>\n",
              "      <td>2</td>\n",
              "    </tr>\n",
              "    <tr>\n",
              "      <th>Сбор и обработка данных с помощью краудсорсинга</th>\n",
              "      <th>Моделирование временных рядов</th>\n",
              "      <th>Проектирование и разработка высоконагруженных сервисов</th>\n",
              "      <th>Методы сжатия и передачи медиаданных</th>\n",
              "      <th>Методы сжатия и передачи медиаданных</th>\n",
              "      <th>DevOps</th>\n",
              "      <td>2</td>\n",
              "    </tr>\n",
              "    <tr>\n",
              "      <th>Моделирование временных рядов</th>\n",
              "      <th>Сбор и обработка данных с помощью краудсорсинга</th>\n",
              "      <th>Безопасность компьютерных систем</th>\n",
              "      <th>Компьютерные сети</th>\n",
              "      <th>Дополнительные главы прикладной статистики</th>\n",
              "      <th>Системы баз данных</th>\n",
              "      <th></th>\n",
              "      <td>2</td>\n",
              "    </tr>\n",
              "    <tr>\n",
              "      <th>Сбор и обработка данных с помощью краудсорсинга</th>\n",
              "      <th>Язык SQL</th>\n",
              "      <th>Теория баз данных</th>\n",
              "      <th>Промышленное программирование на языке Java</th>\n",
              "      <th>Машинное обучение 2</th>\n",
              "      <th>Компьютерные сети</th>\n",
              "      <th></th>\n",
              "      <td>2</td>\n",
              "    </tr>\n",
              "    <tr>\n",
              "      <th>Язык SQL</th>\n",
              "      <th>Высокопроизводительные вычисления</th>\n",
              "      <th>Теория баз данных</th>\n",
              "      <th>Компьютерные сети</th>\n",
              "      <th>Промышленное программирование на языке Java</th>\n",
              "      <th>Дискретная оптимизация</th>\n",
              "      <th></th>\n",
              "      <td>2</td>\n",
              "    </tr>\n",
              "  </tbody>\n",
              "</table>\n",
              "</div>\n",
              "      <button class=\"colab-df-convert\" onclick=\"convertToInteractive('df-e73f2c1b-6c20-4aba-848f-9d31bc7ecdc7')\"\n",
              "              title=\"Convert this dataframe to an interactive table.\"\n",
              "              style=\"display:none;\">\n",
              "        \n",
              "  <svg xmlns=\"http://www.w3.org/2000/svg\" height=\"24px\"viewBox=\"0 0 24 24\"\n",
              "       width=\"24px\">\n",
              "    <path d=\"M0 0h24v24H0V0z\" fill=\"none\"/>\n",
              "    <path d=\"M18.56 5.44l.94 2.06.94-2.06 2.06-.94-2.06-.94-.94-2.06-.94 2.06-2.06.94zm-11 1L8.5 8.5l.94-2.06 2.06-.94-2.06-.94L8.5 2.5l-.94 2.06-2.06.94zm10 10l.94 2.06.94-2.06 2.06-.94-2.06-.94-.94-2.06-.94 2.06-2.06.94z\"/><path d=\"M17.41 7.96l-1.37-1.37c-.4-.4-.92-.59-1.43-.59-.52 0-1.04.2-1.43.59L10.3 9.45l-7.72 7.72c-.78.78-.78 2.05 0 2.83L4 21.41c.39.39.9.59 1.41.59.51 0 1.02-.2 1.41-.59l7.78-7.78 2.81-2.81c.8-.78.8-2.07 0-2.86zM5.41 20L4 18.59l7.72-7.72 1.47 1.35L5.41 20z\"/>\n",
              "  </svg>\n",
              "      </button>\n",
              "      \n",
              "  <style>\n",
              "    .colab-df-container {\n",
              "      display:flex;\n",
              "      flex-wrap:wrap;\n",
              "      gap: 12px;\n",
              "    }\n",
              "\n",
              "    .colab-df-convert {\n",
              "      background-color: #E8F0FE;\n",
              "      border: none;\n",
              "      border-radius: 50%;\n",
              "      cursor: pointer;\n",
              "      display: none;\n",
              "      fill: #1967D2;\n",
              "      height: 32px;\n",
              "      padding: 0 0 0 0;\n",
              "      width: 32px;\n",
              "    }\n",
              "\n",
              "    .colab-df-convert:hover {\n",
              "      background-color: #E2EBFA;\n",
              "      box-shadow: 0px 1px 2px rgba(60, 64, 67, 0.3), 0px 1px 3px 1px rgba(60, 64, 67, 0.15);\n",
              "      fill: #174EA6;\n",
              "    }\n",
              "\n",
              "    [theme=dark] .colab-df-convert {\n",
              "      background-color: #3B4455;\n",
              "      fill: #D2E3FC;\n",
              "    }\n",
              "\n",
              "    [theme=dark] .colab-df-convert:hover {\n",
              "      background-color: #434B5C;\n",
              "      box-shadow: 0px 1px 3px 1px rgba(0, 0, 0, 0.15);\n",
              "      filter: drop-shadow(0px 1px 2px rgba(0, 0, 0, 0.3));\n",
              "      fill: #FFFFFF;\n",
              "    }\n",
              "  </style>\n",
              "\n",
              "      <script>\n",
              "        const buttonEl =\n",
              "          document.querySelector('#df-e73f2c1b-6c20-4aba-848f-9d31bc7ecdc7 button.colab-df-convert');\n",
              "        buttonEl.style.display =\n",
              "          google.colab.kernel.accessAllowed ? 'block' : 'none';\n",
              "\n",
              "        async function convertToInteractive(key) {\n",
              "          const element = document.querySelector('#df-e73f2c1b-6c20-4aba-848f-9d31bc7ecdc7');\n",
              "          const dataTable =\n",
              "            await google.colab.kernel.invokeFunction('convertToInteractive',\n",
              "                                                     [key], {});\n",
              "          if (!dataTable) return;\n",
              "\n",
              "          const docLinkHtml = 'Like what you see? Visit the ' +\n",
              "            '<a target=\"_blank\" href=https://colab.research.google.com/notebooks/data_table.ipynb>data table notebook</a>'\n",
              "            + ' to learn more about interactive tables.';\n",
              "          element.innerHTML = '';\n",
              "          dataTable['output_type'] = 'display_data';\n",
              "          await google.colab.output.renderOutput(dataTable, element);\n",
              "          const docLink = document.createElement('div');\n",
              "          docLink.innerHTML = docLinkHtml;\n",
              "          element.appendChild(docLink);\n",
              "        }\n",
              "      </script>\n",
              "    </div>\n",
              "  </div>\n",
              "  "
            ]
          },
          "metadata": {},
          "execution_count": 681
        }
      ]
    },
    {
      "cell_type": "markdown",
      "metadata": {
        "id": "spu3r3vchLu0"
      },
      "source": [
        "#### 7. [0.5 балла] Найдите курсы по выбору, на которые записывались как студенты 18-го года набора, так и студенты 17-го года."
      ]
    },
    {
      "cell_type": "code",
      "source": [
        "data1.shape"
      ],
      "metadata": {
        "colab": {
          "base_uri": "https://localhost:8080/"
        },
        "id": "-RKzDw6m5xoD",
        "outputId": "64b5328e-00b8-4737-d4cf-5310a506fdbb"
      },
      "execution_count": 682,
      "outputs": [
        {
          "output_type": "execute_result",
          "data": {
            "text/plain": [
              "(347, 16)"
            ]
          },
          "metadata": {},
          "execution_count": 682
        }
      ]
    },
    {
      "cell_type": "code",
      "execution_count": 683,
      "metadata": {
        "id": "t21fWi8ShLu0",
        "colab": {
          "base_uri": "https://localhost:8080/"
        },
        "outputId": "732d0373-45ed-4434-94da-bf1edb93ddf8"
      },
      "outputs": [
        {
          "output_type": "stream",
          "name": "stdout",
          "text": [
            "213\n",
            "Общие курсы:\n"
          ]
        },
        {
          "output_type": "execute_result",
          "data": {
            "text/plain": [
              "{'Statistical Learning Theory',\n",
              " 'Безопасность компьютерных систем',\n",
              " 'Высокопроизводительные вычисления',\n",
              " 'Глубинное обучение в обработке звука',\n",
              " 'Моделирование временных рядов',\n",
              " 'Принятие решений в условиях риска и неопределённости',\n",
              " 'Сбор и обработка данных с помощью краудсорсинга'}"
            ]
          },
          "metadata": {},
          "execution_count": 683
        }
      ],
      "source": [
        "abs_equal = data1.groupby(names_of_rows).size().reset_index(name='count')\n",
        "\n",
        "k1 = data1['18_group']\n",
        "k2 = data1['17_group']\n",
        "\n",
        "first_iter = k1[k1 == 0]\n",
        "second_iter = k2[k2 == 0]\n",
        "\n",
        "print(data1.shape[0] - list(k1).count(0))\n",
        "\n",
        "#инфа про 222 - с семинара :D\n",
        "\n",
        "aa = data1['fall_1'][0:222]\n",
        "bb = data1['fall_1'][222:347]\n",
        "\n",
        "print('Общие курсы:')\n",
        "set(aa).intersection(set(bb))"
      ]
    },
    {
      "cell_type": "code",
      "source": [
        "data1.shape[0] - data1['18_group'].loc[data1['18_group'] == 0].count()"
      ],
      "metadata": {
        "colab": {
          "base_uri": "https://localhost:8080/"
        },
        "id": "-EaXCq8G5Vs3",
        "outputId": "c9a6cc0f-7ac2-4513-a734-cda432f914f5"
      },
      "execution_count": 684,
      "outputs": [
        {
          "output_type": "execute_result",
          "data": {
            "text/plain": [
              "213"
            ]
          },
          "metadata": {},
          "execution_count": 684
        }
      ]
    },
    {
      "cell_type": "code",
      "source": [],
      "metadata": {
        "id": "BhCgvbJH-Kkr"
      },
      "execution_count": 684,
      "outputs": []
    },
    {
      "cell_type": "markdown",
      "metadata": {
        "id": "PYfX-Dr5hLu0"
      },
      "source": [
        "Методом исключения найдите курсы, которые предлагались только студентам 18-го года и только студентам 17-го года."
      ]
    },
    {
      "cell_type": "code",
      "source": [
        "aaaa = set(aa).intersection(set(bb))\n",
        "print('Исключительно 18-му году:')\n",
        "set(aa).difference(aaaa)\n"
      ],
      "metadata": {
        "colab": {
          "base_uri": "https://localhost:8080/"
        },
        "id": "IlUeIMtY7z1i",
        "outputId": "10416c06-c6d5-4fc2-8549-e499cd07620c"
      },
      "execution_count": 685,
      "outputs": [
        {
          "output_type": "stream",
          "name": "stdout",
          "text": [
            "Исключительно 18-му году:\n"
          ]
        },
        {
          "output_type": "execute_result",
          "data": {
            "text/plain": [
              "{'Матричные вычисления', 'Теория баз данных', 'Язык SQL'}"
            ]
          },
          "metadata": {},
          "execution_count": 685
        }
      ]
    },
    {
      "cell_type": "code",
      "source": [
        "print('Исключительно 17-му году:')\n",
        "set(bb).difference(aaaa)"
      ],
      "metadata": {
        "colab": {
          "base_uri": "https://localhost:8080/"
        },
        "id": "b4UVdwVd7BfU",
        "outputId": "e97f1b67-7b0d-49cb-eaea-c23c7f1a0a5b"
      },
      "execution_count": 686,
      "outputs": [
        {
          "output_type": "stream",
          "name": "stdout",
          "text": [
            "Исключительно 17-му году:\n"
          ]
        },
        {
          "output_type": "execute_result",
          "data": {
            "text/plain": [
              "{'Анализ неструктурированных данных', 'Байесовские методы машинного обучения'}"
            ]
          },
          "metadata": {},
          "execution_count": 686
        }
      ]
    },
    {
      "cell_type": "markdown",
      "metadata": {
        "id": "uL45Tg5fhLu1"
      },
      "source": [
        "### Визуализации и matplotlib"
      ]
    },
    {
      "cell_type": "markdown",
      "metadata": {
        "id": "MY9lKmP2hLu1"
      },
      "source": [
        "При работе с данными часто неудобно делать какие-то выводы, если смотреть на таблицу и числа в частности, поэтому важно уметь визуализировать данные. Здесь будут описаны ключевые правила оформления графиков для **всех** домашних заданий.\n",
        "\n",
        "У matplotlib, конечно же, есть [документация](https://matplotlib.org/users/index.html) с большим количеством [примеров](https://matplotlib.org/examples/), но для начала достаточно знать про несколько основных типов графиков:\n",
        "- plot — обычный поточечный график, которым можно изображать кривые или отдельные точки;\n",
        "- hist — гистограмма, показывающая распределение некоторой величины;\n",
        "- scatter — график, показывающий взаимосвязь двух величин;\n",
        "- bar — столбцовый график, показывающий взаимосвязь количественной величины от категориальной.\n",
        "\n",
        "В этом задании вы попробуете построить один из них. Не забывайте про базовые принципы построения приличных графиков:\n",
        "- оси должны быть подписаны, причём не слишком мелко;\n",
        "- у графика должно быть название;\n",
        "- если изображено несколько графиков, то необходима поясняющая легенда;\n",
        "- все линии на графиках должны быть чётко видны (нет похожих цветов или цветов, сливающихся с фоном);\n",
        "- если отображена величина, имеющая очевидный диапазон значений (например, проценты могут быть от 0 до 100), то желательно масштабировать ось на весь диапазон значений (исключением является случай, когда вам необходимо показать малое отличие, которое незаметно в таких масштабах);\n",
        "- сетка на графике помогает оценить значения в точках на глаз, это обычно полезно, поэтому лучше ее отрисовывать;\n",
        "- если распределение на гистограмме имеет тяжёлые хвосты, лучше использовать логарифмическую шкалу.\n",
        "\n",
        "Еще одна билиотека для визуализации: [seaborn](https://jakevdp.github.io/PythonDataScienceHandbook/04.14-visualization-with-seaborn.html) (обычно сокращается до sns). Это настройка над matplotlib, иногда удобнее и красивее делать визуализации через неё. \n",
        "\n",
        "**5 пунктов после которых ваши графики не будут прежними:**\n",
        "- для красивой картинки <code>%config InlineBackend.figure_format = 'retina'</code>\n",
        "- задаем размер (почти) всех графиков (можно выбрать другие значения) <code>plt.rcParams['figure.figsize'] = 8, 5</code>\n",
        "- размер шрифта подписей графиков <code>plt.rcParams['font.size'] = 12</code>\n",
        "- формат в котором сохраняется изображение <code>mpl.rcParams['savefig.format'] = 'pdf'</code>\n",
        "- sns – seaborn, добавляет решетку <code>sns.set_style('darkgrid')</code>\n",
        "\n",
        "Добавьте эти функции в ячейку ниже. Каждый график все равно придется настраивать отдельно, но указанные строчки позволят значительно упростить процесс.  "
      ]
    },
    {
      "cell_type": "code",
      "execution_count": 687,
      "metadata": {
        "id": "na9doUOFhLu1"
      },
      "outputs": [],
      "source": [
        "%matplotlib inline\n",
        "import matplotlib.pyplot as plt\n",
        "import seaborn as sns\n",
        "\n",
        "%config InlineBackend.figure_format = 'retina'\n",
        "plt.rcParams['figure.figsize'] = 8, 5\n",
        "plt.rcParams['font.size'] = 12\n",
        "mpl.rcParams['savefig.format'] = 'pdf'\n",
        "sns.set_style('darkgrid')"
      ]
    },
    {
      "cell_type": "markdown",
      "metadata": {
        "id": "kikwLpxfhLu1"
      },
      "source": [
        "#### 8. [0.5 балла] Постройте график средних рейтингов по дням получения ответов (bar plot)."
      ]
    },
    {
      "cell_type": "code",
      "execution_count": 688,
      "metadata": {
        "id": "UTPLVeQvhLu2",
        "colab": {
          "base_uri": "https://localhost:8080/",
          "height": 341
        },
        "outputId": "b47e3953-2106-447a-bef1-e5c98de6320d"
      },
      "outputs": [
        {
          "output_type": "execute_result",
          "data": {
            "text/plain": [
              "<matplotlib.axes._subplots.AxesSubplot at 0x7f3cd3d02890>"
            ]
          },
          "metadata": {},
          "execution_count": 688
        },
        {
          "output_type": "display_data",
          "data": {
            "text/plain": [
              "<Figure size 576x360 with 1 Axes>"
            ],
            "image/png": "[encoded data removed]"
          },
          "metadata": {
            "image/png": {
              "width": 483,
              "height": 307
            }
          }
        }
      ],
      "source": [
        "sns.set_style('darkgrid')\n",
        "data1['rating'].hist(bins = 20)"
      ]
    },
    {
      "cell_type": "code",
      "source": [
        "data1['day format'] = data1.loc[:, ('timestamp')].dt.day\n",
        "data1.groupby('day format').mean()\n",
        "\n",
        "\n",
        "fig, ax = plt.subplots()\n",
        "ax.set_title('Гистограмма 1')\n",
        "x = data1.groupby('day format').mean().index\n",
        "y = data1.groupby('day format').mean()['rating']\n",
        "plt.bar(x, y, tick_label=x)\n",
        "ax.set_ylabel('Рейтинг')\n",
        "ax.set_xlabel('Дата, день')\n",
        "plt.show()"
      ],
      "metadata": {
        "colab": {
          "base_uri": "https://localhost:8080/",
          "height": 457
        },
        "id": "jeVClzuGhi_p",
        "outputId": "af928422-3658-4dfd-9798-513e4627ba99"
      },
      "execution_count": 689,
      "outputs": [
        {
          "output_type": "stream",
          "name": "stderr",
          "text": [
            "/usr/local/lib/python3.7/dist-packages/ipykernel_launcher.py:1: SettingWithCopyWarning: \n",
            "A value is trying to be set on a copy of a slice from a DataFrame.\n",
            "Try using .loc[row_indexer,col_indexer] = value instead\n",
            "\n",
            "See the caveats in the documentation: https://pandas.pydata.org/pandas-docs/stable/user_guide/indexing.html#returning-a-view-versus-a-copy\n",
            "  \"\"\"Entry point for launching an IPython kernel.\n"
          ]
        },
        {
          "output_type": "display_data",
          "data": {
            "text/plain": [
              "<Figure size 576x360 with 1 Axes>"
            ],
            "image/png": "[encoded data removed]"
          },
          "metadata": {
            "image/png": {
              "width": 514,
              "height": 338
            }
          }
        }
      ]
    },
    {
      "cell_type": "markdown",
      "metadata": {
        "id": "AmsQg9_xhLu2"
      },
      "source": [
        "Сохраните график в формате pdf (так он останется векторизованным)."
      ]
    },
    {
      "cell_type": "code",
      "execution_count": 690,
      "metadata": {
        "id": "vKZNSwWghLu2",
        "colab": {
          "base_uri": "https://localhost:8080/",
          "height": 34
        },
        "outputId": "7b79dbbf-167c-4b82-c88e-0c85d49b73d7"
      },
      "outputs": [
        {
          "output_type": "display_data",
          "data": {
            "text/plain": [
              "<Figure size 576x360 with 0 Axes>"
            ]
          },
          "metadata": {}
        }
      ],
      "source": [
        "plt.savefig('Task8.pdf')"
      ]
    },
    {
      "cell_type": "markdown",
      "metadata": {
        "id": "sCgWwjl0hLu2"
      },
      "source": [
        "### 2. Распределение студентов по курсам."
      ]
    },
    {
      "cell_type": "markdown",
      "metadata": {
        "id": "IiUyX3-3u-ls"
      },
      "source": [
        "<span style=\"color:red\">!!!ВНИМАТЕЛЬНО ИЗУЧИТЕ ТЕКСТ НИЖЕ!!!</span>.\n",
        "\n",
        "<span style=\"color:orange\">Если во время выполнения заданий у вас вознинут вопросы -- еще раз перечитайте текст целиком, скорее всего ответы уже содержатся в нем.</span>"
      ]
    },
    {
      "cell_type": "markdown",
      "metadata": {
        "id": "VNqXUpr4hLu3"
      },
      "source": [
        "Теперь вам нужно распределить студентов по осенним курсам по выбору, учитывая их предпочтения."
      ]
    },
    {
      "cell_type": "markdown",
      "metadata": {
        "id": "5cAR2FgphLu3"
      },
      "source": [
        "Алгоритм распределения студентов по курсам:\n",
        "1. По умолчанию на каждой дисциплине по выбору у 3 и 4 курсов может учиться 1 группа (до 30 студентов). Исключения описаны ниже. На blended-дисциплинах для четверокурсников количество мест не ограничено.\n",
        "2. Проводится первая волна отбора. Для каждой дисциплины формируется список тех, кто указал её первым приоритетом (если студент должен выбрать два курса по выбору, то для него дисциплины, которые он указал первым и вторым приоритетом, рассматриваются как дисциплины первого приоритета). Если желающих больше, чем мест, то выбирается топ по перцентилю рейтинга.\n",
        "3. На дисциплинах, где остались места после первой волны, формируются списки тех, кто выбрал их вторым приоритетом, и места заполняются лучшими по перцентили рейтинга студентами. После этого проводится такая же процедура для дисциплин третьего приоритета.\n",
        "4. Если студент не попал на необходимое количество курсов по итогам трёх волн, с ним связывается учебный офис и решает вопрос в индивидуальном порядке."
      ]
    },
    {
      "cell_type": "markdown",
      "metadata": {
        "id": "BiNKVwS6hLu3"
      },
      "source": [
        "Обращаем ваше внимание на следующие детали:\n",
        "- Конкурс на каждый курс общий для 3-го и 4-го курса\n",
        "\n",
        "- По умолчанию студент выбирает один осенний и один весенний курс по выбору, а также четверокурсники выбирают один blended-курс. Студенты групп 17-го года специализаций МОП и ТИ выбирают по 2 осенних и 2 весенних курса по выбору, также студенты групп 18' специализации МИ выбирают 2 осенних курса. <i>Для студентов, которые выбирают 2 курса (например, осенних) первый приоритет — <code>fall_1</code> и <code>fall_2</code>, второй приоритет — <code>fall_3</code>. Такие студенты участвуют только в двух волнах отбора</i>.\n",
        "\n",
        "- Студенты специализации МОП не могут выбрать весенним курсом по выбору Машинное обучение 2. **Если студент специализации МОП выбрал Машинное обучение 2, то его приоритеты сдвигаются.** Из-за совпадений первого и второго курса по выбору двигать приоритеты не надо.\n",
        "\n",
        "- Blended-курсы не трогайте, по ним не надо распределять, на другие курсы они никак не влияют.\n",
        "\n",
        "- Заведомо известно, что в процессе распределения не возникнет ситуации, когда на одно место претендуют студенты с одинаковым перцентилем.\n",
        "\n",
        "- Постарайтесь воздержаться от использования циклов там, где это возможно. <i>Допустимо итерироваться по <b>курсам</b>, на которые проводится отбор, и по <b>волнам</b> отбора. Если вы придумаете, как обойтись и без этих циклов, то на усмотрение проверяющего могут быть добавлены бонусные баллы. <b>Дублирование кода не признается успешным избавлением от циклов</b></i>\n",
        "\n",
        "- На выходе ожидается файл res_fall.csv с результатами распределения на осенние курсы по выбору. Файл должен быть следующего формата:\n",
        "\n",
        "    * Три колонки: ID, course1, course2\n",
        "    \n",
        "    * Если студент не попал на курс, но должен был, то вместо названия курса в ячейке должна быть строка \"???\"\n",
        "    \n",
        "    * Если студент должен выбрать только один курс, то в колонке course2 для него должна стоять строка \"-\"\n",
        "    \n",
        "    * Если студент должен выбрать два курса по выбору, то порядок в колонках course1 и course2 не важен.\n",
        "    \n",
        "    * hint: для сохранения воспользуйтесь df.to_csv('solution.csv', index=None)\n",
        "    \n",
        "\n",
        "Для работы вам могут понадобиться следующие данные:\n",
        "\n",
        "- Результаты опроса (вы уже использовали этот файл в первой части задания, но на всякий случай ссылка: https://www.dropbox.com/s/f4rm8sjc3v99p0m/_end_seminar.xlsx?dl=0)\n",
        "\n",
        "- Соответствие номеров групп специализациям:\n",
        "\n",
        "    * 171, 172 - МОП; 173 - ТИ; 174 — АДИС; 175, 176 — РС; 177 — АПР\n",
        "    \n",
        "    * У студентов 18-го года номера групп соответствуют номерам до распределения по специализациям. Это означает, что по номеру группы 18* нельзя однозначно определить специализацию студента. При этом в рамках распределения важно знать информацию только о двух из них: МОП и МИ. Эти знание можно получить из колонок 'is_ml_student\n",
        "' и 'is_mi' соответственно.\n",
        "\n",
        "- Ограничения по количеству мест на курсах по выбору:\n",
        "\n",
        "    * Осенние: везде 30 мест, кроме Statistical Learning Theory (60 мест), Высокопроизводительных вычислений (60 мест), Анализа неструктурированных данных ($\\infty$ мест)\n",
        "\n",
        "    * Весенние: везде 30 мест, кроме Обучения с подкреплением (60 мест), Анализа данных в бизнесе (60 мест).\n",
        "\n",
        "\n",
        "Кстати, убедитесь, что в данных больше нет пропусков и повторных записей."
      ]
    },
    {
      "cell_type": "markdown",
      "metadata": {
        "id": "o5t55IcQhLu4"
      },
      "source": [
        "#### 0. Проверка\n",
        "\n",
        "Для начала давайте убедимся, что вы успешно выполнили задания первой части и проверим ваши данные на наличие пропусков и повторов:"
      ]
    },
    {
      "cell_type": "code",
      "execution_count": 691,
      "metadata": {
        "id": "P5CfEMbl1MC7",
        "colab": {
          "base_uri": "https://localhost:8080/"
        },
        "outputId": "c4b7f20b-e950-47e9-805e-2dca80529475"
      },
      "outputs": [
        {
          "output_type": "execute_result",
          "data": {
            "text/plain": [
              "timestamp        True\n",
              "id               True\n",
              "rating           True\n",
              "18_group         True\n",
              "is_mi            True\n",
              "fall_1           True\n",
              "fall_2           True\n",
              "fall_3           True\n",
              "spring_1         True\n",
              "spring_2         True\n",
              "spring_3         True\n",
              "is_first_time    True\n",
              "percentile       True\n",
              "17_group         True\n",
              "blended          True\n",
              "is_ml_student    True\n",
              "day format       True\n",
              "dtype: bool"
            ]
          },
          "metadata": {},
          "execution_count": 691
        }
      ],
      "source": [
        "data1.isna().sum() == 0"
      ]
    },
    {
      "cell_type": "code",
      "execution_count": 692,
      "metadata": {
        "id": "34HWEdVdhLu4"
      },
      "outputs": [],
      "source": [
        "assert data1.shape[0] == 347, 'В таблице остались повторы или потеряны данные'\n",
        "\n",
        "assert data1.isna().sum().sum() == 0, 'В таблице остались пропуски'"
      ]
    },
    {
      "cell_type": "markdown",
      "metadata": {
        "id": "_ImUFyG3hLu4"
      },
      "source": [
        "Если вы не получили AssertionError, то можете продолжать."
      ]
    },
    {
      "cell_type": "markdown",
      "metadata": {
        "id": "LTGSwwvAhLu4"
      },
      "source": [
        "#### 1. [1 балл] Создайте новый признак, обозначающий, сколько осенних курсов должен выбрать студент\n",
        "\n",
        "В этом вам может помочь информация о специализации и группе стундента."
      ]
    },
    {
      "cell_type": "code",
      "execution_count": 693,
      "metadata": {
        "id": "ouxo0kHFhLu4"
      },
      "outputs": [],
      "source": [
        "# Сколько осенних курсоа должен выбрать каждый студент?\n",
        "# Посчитаем это следующим образом. Надо создать новый столбик, который будет показывать количество осенних курсов, которые необходимы каждому студенту.\n",
        "# Говорят, что нам помодет информация о специализации и группе студента. Как?\n",
        "# От специализации зависит количество курсов, на которые челики в принципе могут записаться. \n",
        "!wget  -O 'data_for_sign.xlsx' -q 'https://www.dropbox.com/s/f4rm8sjc3v99p0m/_end_seminar.xlsx?dl=0'\n",
        "data2 = pd.read_excel('data_for_sign.xlsx')"
      ]
    },
    {
      "cell_type": "markdown",
      "source": [
        "**По умолчанию студент выбирает один осенний и один весенний курс по выбору, а также четверокурсники выбирают один blended-курс. Студенты групп 17-го года специализаций МОП и ТИ выбирают по 2 осенних и 2 весенних курса по выбору, также студенты групп 18' специализации МИ выбирают 2 осенних курса. Для студентов, которые выбирают 2 курса (например, осенних) первый приоритет — fall_1 и fall_2, второй приоритет — fall_3. Такие студенты участвуют только в двух волнах отбора.:**:"
      ],
      "metadata": {
        "id": "OqFOSDCcgtgw"
      }
    },
    {
      "cell_type": "code",
      "source": [
        "# df3 = pd.DataFrame(\n",
        "#     [True, True, False],\n",
        "#     columns=['a'])\n",
        "\n",
        "# print(df3)\n",
        "# df3.loc[(df3.a == True), ('a')] = 1\n",
        "# df3.loc[(df3.a == False), ('a')] = 2\n",
        "# print(df3)\n"
      ],
      "metadata": {
        "id": "DCA7eWPObsMY"
      },
      "execution_count": 694,
      "outputs": []
    },
    {
      "cell_type": "code",
      "source": [
        "sign_date = data1[['id', '17_group', '18_group', 'is_mi']]\n",
        "\n",
        "# 171, 172, 173 - по 2 осенних курса\n",
        "\n",
        "c_one = sign_date.loc[(sign_date['17_group'] == 171) |\n",
        "                      (sign_date['17_group'] == 172) |\n",
        "                      (sign_date['17_group'] == 173) |\n",
        "                      (sign_date['is_mi'] == 1)]\n",
        "\n",
        "c_one_id = pd.DataFrame(c_one['id'])\n",
        "data_is_bool = data1['id'].isin(c_one_id['id'])\n",
        "\n",
        "data1['Count of autumn courses'] = data_is_bool\n",
        "\n",
        "data1['Count of autumn courses'] = data1['Count of autumn courses'].replace(False, 3)\n",
        "data1['Count of autumn courses'] = data1['Count of autumn courses'].replace(True, 2)\n",
        "data1['Count of autumn courses'] = data1['Count of autumn courses'].replace(3, 1)\n",
        "\n",
        "\n"
      ],
      "metadata": {
        "colab": {
          "base_uri": "https://localhost:8080/"
        },
        "id": "S300YO0VMorL",
        "outputId": "0e1a9d18-9556-4481-98c0-1d7f8f6a20d4"
      },
      "execution_count": 695,
      "outputs": [
        {
          "output_type": "stream",
          "name": "stderr",
          "text": [
            "/usr/local/lib/python3.7/dist-packages/ipykernel_launcher.py:13: SettingWithCopyWarning: \n",
            "A value is trying to be set on a copy of a slice from a DataFrame.\n",
            "Try using .loc[row_indexer,col_indexer] = value instead\n",
            "\n",
            "See the caveats in the documentation: https://pandas.pydata.org/pandas-docs/stable/user_guide/indexing.html#returning-a-view-versus-a-copy\n",
            "  del sys.path[0]\n",
            "/usr/local/lib/python3.7/dist-packages/ipykernel_launcher.py:15: SettingWithCopyWarning: \n",
            "A value is trying to be set on a copy of a slice from a DataFrame.\n",
            "Try using .loc[row_indexer,col_indexer] = value instead\n",
            "\n",
            "See the caveats in the documentation: https://pandas.pydata.org/pandas-docs/stable/user_guide/indexing.html#returning-a-view-versus-a-copy\n",
            "  from ipykernel import kernelapp as app\n",
            "/usr/local/lib/python3.7/dist-packages/ipykernel_launcher.py:16: SettingWithCopyWarning: \n",
            "A value is trying to be set on a copy of a slice from a DataFrame.\n",
            "Try using .loc[row_indexer,col_indexer] = value instead\n",
            "\n",
            "See the caveats in the documentation: https://pandas.pydata.org/pandas-docs/stable/user_guide/indexing.html#returning-a-view-versus-a-copy\n",
            "  app.launch_new_instance()\n",
            "/usr/local/lib/python3.7/dist-packages/ipykernel_launcher.py:17: SettingWithCopyWarning: \n",
            "A value is trying to be set on a copy of a slice from a DataFrame.\n",
            "Try using .loc[row_indexer,col_indexer] = value instead\n",
            "\n",
            "See the caveats in the documentation: https://pandas.pydata.org/pandas-docs/stable/user_guide/indexing.html#returning-a-view-versus-a-copy\n"
          ]
        }
      ]
    },
    {
      "cell_type": "markdown",
      "metadata": {
        "id": "S47aq1sQhLu4"
      },
      "source": [
        "Проверка:"
      ]
    },
    {
      "cell_type": "code",
      "execution_count": 696,
      "metadata": {
        "id": "OlOgzDKDhLu5"
      },
      "outputs": [],
      "source": [
        "col_name = 'Count of autumn courses'\n",
        "\n",
        "assert(data1[data1['id'] == '2662600c2c37e11e62f6ee0b88452f22'][col_name] == 2).all()\n",
        "assert(data1[data1['id'] == 'd555d2805e1d93d4f023e57dc4c8f403'][col_name] == 2).all()\n",
        "assert(data1[data1['id'] == '8fe79f84f36e3a5d2d6745621321302c'][col_name] == 1).all()\n",
        "assert(data1[data1['id'] == 'e4caca755ee0bdd711e18fb8084958b5'][col_name] == 1).all()"
      ]
    },
    {
      "cell_type": "markdown",
      "metadata": {
        "id": "VtQYhwuPhLu5"
      },
      "source": [
        "#### 2. [2 балла] Распределите студентов в соответствии с первым приоритетом"
      ]
    },
    {
      "cell_type": "markdown",
      "source": [
        "По умолчанию на каждой дисциплине по выбору у 3 и 4 курсов может учиться 1 группа (до 30 студентов). Исключения описаны ниже. На blended-дисциплинах для четверокурсников количество мест не ограничено.\n",
        "\n",
        "Проводится первая волна отбора. Для каждой дисциплины формируется список тех, кто указал её первым приоритетом (если студент должен выбрать два курса по выбору, то для него дисциплины, которые он указал первым и вторым приоритетом, рассматриваются как дисциплины первого приоритета). Если желающих больше, чем мест, то выбирается топ по перцентилю рейтинга."
      ],
      "metadata": {
        "id": "kxc9ktHFAaGV"
      }
    },
    {
      "cell_type": "code",
      "source": [
        "set(aa).intersection(set(bb))"
      ],
      "metadata": {
        "colab": {
          "base_uri": "https://localhost:8080/"
        },
        "id": "dH0AWXlVHlF7",
        "outputId": "32305fd1-da1a-4a13-f075-93c374b92239"
      },
      "execution_count": 697,
      "outputs": [
        {
          "output_type": "execute_result",
          "data": {
            "text/plain": [
              "{'Statistical Learning Theory',\n",
              " 'Безопасность компьютерных систем',\n",
              " 'Высокопроизводительные вычисления',\n",
              " 'Глубинное обучение в обработке звука',\n",
              " 'Моделирование временных рядов',\n",
              " 'Принятие решений в условиях риска и неопределённости',\n",
              " 'Сбор и обработка данных с помощью краудсорсинга'}"
            ]
          },
          "metadata": {},
          "execution_count": 697
        }
      ]
    },
    {
      "cell_type": "code",
      "source": [
        "set(aa).difference(aaaa)"
      ],
      "metadata": {
        "colab": {
          "base_uri": "https://localhost:8080/"
        },
        "id": "xuG4VLHvHiYb",
        "outputId": "da50d3e9-a0e1-4191-dc92-96078605fa46"
      },
      "execution_count": 698,
      "outputs": [
        {
          "output_type": "execute_result",
          "data": {
            "text/plain": [
              "{'Матричные вычисления', 'Теория баз данных', 'Язык SQL'}"
            ]
          },
          "metadata": {},
          "execution_count": 698
        }
      ]
    },
    {
      "cell_type": "code",
      "source": [
        "set(bb).difference(aaaa)"
      ],
      "metadata": {
        "colab": {
          "base_uri": "https://localhost:8080/"
        },
        "id": "qRFBC3zGHrEg",
        "outputId": "8c8ca22b-790a-4d0d-b358-cc21f24150e8"
      },
      "execution_count": 699,
      "outputs": [
        {
          "output_type": "execute_result",
          "data": {
            "text/plain": [
              "{'Анализ неструктурированных данных', 'Байесовские методы машинного обучения'}"
            ]
          },
          "metadata": {},
          "execution_count": 699
        }
      ]
    },
    {
      "cell_type": "code",
      "source": [
        "g = data1.groupby('fall_1').count()['id']\n",
        "gg = pd.DataFrame(g, columns=['id'])\n",
        "ss = gg[gg['id'] < 31]\n",
        "zz = gg[gg['id'] > 31]\n",
        "# zz.iloc[0:4, :0]\n",
        "g"
      ],
      "metadata": {
        "colab": {
          "base_uri": "https://localhost:8080/"
        },
        "id": "vF_JN9HQIvPO",
        "outputId": "d25307bb-20e2-4a3e-fbb6-17590a78ec22"
      },
      "execution_count": 700,
      "outputs": [
        {
          "output_type": "execute_result",
          "data": {
            "text/plain": [
              "fall_1\n",
              "Statistical Learning Theory                              25\n",
              "Анализ неструктурированных данных                        32\n",
              "Байесовские методы машинного обучения                    16\n",
              "Безопасность компьютерных систем                        110\n",
              "Высокопроизводительные вычисления                        41\n",
              "Глубинное обучение в обработке звука                     10\n",
              "Матричные вычисления                                     14\n",
              "Моделирование временных рядов                            22\n",
              "Принятие решений в условиях риска и неопределённости      5\n",
              "Сбор и обработка данных с помощью краудсорсинга          34\n",
              "Теория баз данных                                        11\n",
              "Язык SQL                                                 27\n",
              "Name: id, dtype: int64"
            ]
          },
          "metadata": {},
          "execution_count": 700
        }
      ]
    },
    {
      "cell_type": "code",
      "source": [
        "data1[data1['fall_1'] == data1['fall_2']] "
      ],
      "metadata": {
        "colab": {
          "base_uri": "https://localhost:8080/",
          "height": 475
        },
        "id": "4Usd3SHza98C",
        "outputId": "367b799a-8e3f-4b37-db60-52fbcd4c6a88"
      },
      "execution_count": 701,
      "outputs": [
        {
          "output_type": "execute_result",
          "data": {
            "text/plain": [
              "                  timestamp                                id  rating  \\\n",
              "19  2020-05-15 21:34:32.550  86d929f6fd741e56e93cee5900298849     761   \n",
              "239 2020-05-14 23:33:21.310  e0fceae1e285f737630bb6123a1bd85d    1203   \n",
              "283 2020-05-18 14:55:38.053  0d85933f07516e8871e9415c1d95ddbe    1202   \n",
              "295 2020-05-18 18:27:32.822  7fcf56aae6836855a689000a50e80360    1145   \n",
              "\n",
              "     18_group  is_mi                                           fall_1  \\\n",
              "19      181.0    0.0  Сбор и обработка данных с помощью краудсорсинга   \n",
              "239       0.0    0.0                Высокопроизводительные вычисления   \n",
              "283       0.0    0.0                Высокопроизводительные вычисления   \n",
              "295       0.0    0.0                 Безопасность компьютерных систем   \n",
              "\n",
              "                                              fall_2  \\\n",
              "19   Сбор и обработка данных с помощью краудсорсинга   \n",
              "239                Высокопроизводительные вычисления   \n",
              "283                Высокопроизводительные вычисления   \n",
              "295                 Безопасность компьютерных систем   \n",
              "\n",
              "                                              fall_3  \\\n",
              "19   Сбор и обработка данных с помощью краудсорсинга   \n",
              "239                Высокопроизводительные вычисления   \n",
              "283                Высокопроизводительные вычисления   \n",
              "295                 Безопасность компьютерных систем   \n",
              "\n",
              "                                              spring_1  \\\n",
              "19          Дополнительные главы прикладной статистики   \n",
              "239  Проектирование и разработка высоконагруженных ...   \n",
              "283               Методы сжатия и передачи медиаданных   \n",
              "295                              Символьные вычисления   \n",
              "\n",
              "                                              spring_2  \\\n",
              "19          Дополнительные главы прикладной статистики   \n",
              "239  Проектирование и разработка высоконагруженных ...   \n",
              "283  Проектирование и разработка высоконагруженных ...   \n",
              "295                              Символьные вычисления   \n",
              "\n",
              "                                       spring_3 is_first_time  percentile  \\\n",
              "19   Дополнительные главы прикладной статистики            Да    0.008969   \n",
              "239                       Символьные вычисления            Да    0.311594   \n",
              "283        Методы сжатия и передачи медиаданных            Да    0.318841   \n",
              "295                       Символьные вычисления            Да    0.536232   \n",
              "\n",
              "     17_group                                blended  is_ml_student  \\\n",
              "19        0.0                                                   0.0   \n",
              "239     173.0                                 DevOps            0.0   \n",
              "283     175.0                                 DevOps            0.0   \n",
              "295     173.0  Введение в дифференциальную геометрию            0.0   \n",
              "\n",
              "     day format  Count of autumn courses  \n",
              "19           15                        1  \n",
              "239          14                        2  \n",
              "283          18                        1  \n",
              "295          18                        2  "
            ],
            "text/html": [
              "\n",
              "  <div id=\"df-b3e22af1-ef40-4465-82a8-551d92b81d94\">\n",
              "    <div class=\"colab-df-container\">\n",
              "      <div>\n",
              "<style scoped>\n",
              "    .dataframe tbody tr th:only-of-type {\n",
              "        vertical-align: middle;\n",
              "    }\n",
              "\n",
              "    .dataframe tbody tr th {\n",
              "        vertical-align: top;\n",
              "    }\n",
              "\n",
              "    .dataframe thead th {\n",
              "        text-align: right;\n",
              "    }\n",
              "</style>\n",
              "<table border=\"1\" class=\"dataframe\">\n",
              "  <thead>\n",
              "    <tr style=\"text-align: right;\">\n",
              "      <th></th>\n",
              "      <th>timestamp</th>\n",
              "      <th>id</th>\n",
              "      <th>rating</th>\n",
              "      <th>18_group</th>\n",
              "      <th>is_mi</th>\n",
              "      <th>fall_1</th>\n",
              "      <th>fall_2</th>\n",
              "      <th>fall_3</th>\n",
              "      <th>spring_1</th>\n",
              "      <th>spring_2</th>\n",
              "      <th>spring_3</th>\n",
              "      <th>is_first_time</th>\n",
              "      <th>percentile</th>\n",
              "      <th>17_group</th>\n",
              "      <th>blended</th>\n",
              "      <th>is_ml_student</th>\n",
              "      <th>day format</th>\n",
              "      <th>Count of autumn courses</th>\n",
              "    </tr>\n",
              "  </thead>\n",
              "  <tbody>\n",
              "    <tr>\n",
              "      <th>19</th>\n",
              "      <td>2020-05-15 21:34:32.550</td>\n",
              "      <td>86d929f6fd741e56e93cee5900298849</td>\n",
              "      <td>761</td>\n",
              "      <td>181.0</td>\n",
              "      <td>0.0</td>\n",
              "      <td>Сбор и обработка данных с помощью краудсорсинга</td>\n",
              "      <td>Сбор и обработка данных с помощью краудсорсинга</td>\n",
              "      <td>Сбор и обработка данных с помощью краудсорсинга</td>\n",
              "      <td>Дополнительные главы прикладной статистики</td>\n",
              "      <td>Дополнительные главы прикладной статистики</td>\n",
              "      <td>Дополнительные главы прикладной статистики</td>\n",
              "      <td>Да</td>\n",
              "      <td>0.008969</td>\n",
              "      <td>0.0</td>\n",
              "      <td></td>\n",
              "      <td>0.0</td>\n",
              "      <td>15</td>\n",
              "      <td>1</td>\n",
              "    </tr>\n",
              "    <tr>\n",
              "      <th>239</th>\n",
              "      <td>2020-05-14 23:33:21.310</td>\n",
              "      <td>e0fceae1e285f737630bb6123a1bd85d</td>\n",
              "      <td>1203</td>\n",
              "      <td>0.0</td>\n",
              "      <td>0.0</td>\n",
              "      <td>Высокопроизводительные вычисления</td>\n",
              "      <td>Высокопроизводительные вычисления</td>\n",
              "      <td>Высокопроизводительные вычисления</td>\n",
              "      <td>Проектирование и разработка высоконагруженных ...</td>\n",
              "      <td>Проектирование и разработка высоконагруженных ...</td>\n",
              "      <td>Символьные вычисления</td>\n",
              "      <td>Да</td>\n",
              "      <td>0.311594</td>\n",
              "      <td>173.0</td>\n",
              "      <td>DevOps</td>\n",
              "      <td>0.0</td>\n",
              "      <td>14</td>\n",
              "      <td>2</td>\n",
              "    </tr>\n",
              "    <tr>\n",
              "      <th>283</th>\n",
              "      <td>2020-05-18 14:55:38.053</td>\n",
              "      <td>0d85933f07516e8871e9415c1d95ddbe</td>\n",
              "      <td>1202</td>\n",
              "      <td>0.0</td>\n",
              "      <td>0.0</td>\n",
              "      <td>Высокопроизводительные вычисления</td>\n",
              "      <td>Высокопроизводительные вычисления</td>\n",
              "      <td>Высокопроизводительные вычисления</td>\n",
              "      <td>Методы сжатия и передачи медиаданных</td>\n",
              "      <td>Проектирование и разработка высоконагруженных ...</td>\n",
              "      <td>Методы сжатия и передачи медиаданных</td>\n",
              "      <td>Да</td>\n",
              "      <td>0.318841</td>\n",
              "      <td>175.0</td>\n",
              "      <td>DevOps</td>\n",
              "      <td>0.0</td>\n",
              "      <td>18</td>\n",
              "      <td>1</td>\n",
              "    </tr>\n",
              "    <tr>\n",
              "      <th>295</th>\n",
              "      <td>2020-05-18 18:27:32.822</td>\n",
              "      <td>7fcf56aae6836855a689000a50e80360</td>\n",
              "      <td>1145</td>\n",
              "      <td>0.0</td>\n",
              "      <td>0.0</td>\n",
              "      <td>Безопасность компьютерных систем</td>\n",
              "      <td>Безопасность компьютерных систем</td>\n",
              "      <td>Безопасность компьютерных систем</td>\n",
              "      <td>Символьные вычисления</td>\n",
              "      <td>Символьные вычисления</td>\n",
              "      <td>Символьные вычисления</td>\n",
              "      <td>Да</td>\n",
              "      <td>0.536232</td>\n",
              "      <td>173.0</td>\n",
              "      <td>Введение в дифференциальную геометрию</td>\n",
              "      <td>0.0</td>\n",
              "      <td>18</td>\n",
              "      <td>2</td>\n",
              "    </tr>\n",
              "  </tbody>\n",
              "</table>\n",
              "</div>\n",
              "      <button class=\"colab-df-convert\" onclick=\"convertToInteractive('df-b3e22af1-ef40-4465-82a8-551d92b81d94')\"\n",
              "              title=\"Convert this dataframe to an interactive table.\"\n",
              "              style=\"display:none;\">\n",
              "        \n",
              "  <svg xmlns=\"http://www.w3.org/2000/svg\" height=\"24px\"viewBox=\"0 0 24 24\"\n",
              "       width=\"24px\">\n",
              "    <path d=\"M0 0h24v24H0V0z\" fill=\"none\"/>\n",
              "    <path d=\"M18.56 5.44l.94 2.06.94-2.06 2.06-.94-2.06-.94-.94-2.06-.94 2.06-2.06.94zm-11 1L8.5 8.5l.94-2.06 2.06-.94-2.06-.94L8.5 2.5l-.94 2.06-2.06.94zm10 10l.94 2.06.94-2.06 2.06-.94-2.06-.94-.94-2.06-.94 2.06-2.06.94z\"/><path d=\"M17.41 7.96l-1.37-1.37c-.4-.4-.92-.59-1.43-.59-.52 0-1.04.2-1.43.59L10.3 9.45l-7.72 7.72c-.78.78-.78 2.05 0 2.83L4 21.41c.39.39.9.59 1.41.59.51 0 1.02-.2 1.41-.59l7.78-7.78 2.81-2.81c.8-.78.8-2.07 0-2.86zM5.41 20L4 18.59l7.72-7.72 1.47 1.35L5.41 20z\"/>\n",
              "  </svg>\n",
              "      </button>\n",
              "      \n",
              "  <style>\n",
              "    .colab-df-container {\n",
              "      display:flex;\n",
              "      flex-wrap:wrap;\n",
              "      gap: 12px;\n",
              "    }\n",
              "\n",
              "    .colab-df-convert {\n",
              "      background-color: #E8F0FE;\n",
              "      border: none;\n",
              "      border-radius: 50%;\n",
              "      cursor: pointer;\n",
              "      display: none;\n",
              "      fill: #1967D2;\n",
              "      height: 32px;\n",
              "      padding: 0 0 0 0;\n",
              "      width: 32px;\n",
              "    }\n",
              "\n",
              "    .colab-df-convert:hover {\n",
              "      background-color: #E2EBFA;\n",
              "      box-shadow: 0px 1px 2px rgba(60, 64, 67, 0.3), 0px 1px 3px 1px rgba(60, 64, 67, 0.15);\n",
              "      fill: #174EA6;\n",
              "    }\n",
              "\n",
              "    [theme=dark] .colab-df-convert {\n",
              "      background-color: #3B4455;\n",
              "      fill: #D2E3FC;\n",
              "    }\n",
              "\n",
              "    [theme=dark] .colab-df-convert:hover {\n",
              "      background-color: #434B5C;\n",
              "      box-shadow: 0px 1px 3px 1px rgba(0, 0, 0, 0.15);\n",
              "      filter: drop-shadow(0px 1px 2px rgba(0, 0, 0, 0.3));\n",
              "      fill: #FFFFFF;\n",
              "    }\n",
              "  </style>\n",
              "\n",
              "      <script>\n",
              "        const buttonEl =\n",
              "          document.querySelector('#df-b3e22af1-ef40-4465-82a8-551d92b81d94 button.colab-df-convert');\n",
              "        buttonEl.style.display =\n",
              "          google.colab.kernel.accessAllowed ? 'block' : 'none';\n",
              "\n",
              "        async function convertToInteractive(key) {\n",
              "          const element = document.querySelector('#df-b3e22af1-ef40-4465-82a8-551d92b81d94');\n",
              "          const dataTable =\n",
              "            await google.colab.kernel.invokeFunction('convertToInteractive',\n",
              "                                                     [key], {});\n",
              "          if (!dataTable) return;\n",
              "\n",
              "          const docLinkHtml = 'Like what you see? Visit the ' +\n",
              "            '<a target=\"_blank\" href=https://colab.research.google.com/notebooks/data_table.ipynb>data table notebook</a>'\n",
              "            + ' to learn more about interactive tables.';\n",
              "          element.innerHTML = '';\n",
              "          dataTable['output_type'] = 'display_data';\n",
              "          await google.colab.output.renderOutput(dataTable, element);\n",
              "          const docLink = document.createElement('div');\n",
              "          docLink.innerHTML = docLinkHtml;\n",
              "          element.appendChild(docLink);\n",
              "        }\n",
              "      </script>\n",
              "    </div>\n",
              "  </div>\n",
              "  "
            ]
          },
          "metadata": {},
          "execution_count": 701
        }
      ]
    },
    {
      "cell_type": "code",
      "source": [
        "print(set(data1['fall_1']).difference(set(data1['fall_2'])))\n",
        "print(set(data1['fall_1']).difference(set(data1['fall_3'])))\n",
        "print(set(data1['fall_2']).difference(set(data1['fall_3'])))"
      ],
      "metadata": {
        "colab": {
          "base_uri": "https://localhost:8080/"
        },
        "id": "l-Ut5usqcMca",
        "outputId": "d9698724-e7fd-4ced-b4b3-891961b6b184"
      },
      "execution_count": 702,
      "outputs": [
        {
          "output_type": "stream",
          "name": "stdout",
          "text": [
            "set()\n",
            "set()\n",
            "set()\n"
          ]
        }
      ]
    },
    {
      "cell_type": "markdown",
      "source": [
        "Убедились, что fall_1 включает в себя все курсы."
      ],
      "metadata": {
        "id": "HfKWiXv2daEg"
      }
    },
    {
      "cell_type": "code",
      "source": [
        "data1['course1'] = 'a'\n",
        "data1['course2'] = 'a'\n",
        "data1['ID'] = ''\n",
        "\n",
        "data1"
      ],
      "metadata": {
        "colab": {
          "base_uri": "https://localhost:8080/",
          "height": 1000
        },
        "id": "3rG8At_sdrEF",
        "outputId": "bda5d0e6-6285-4a31-d7da-8f27d8dd456d"
      },
      "execution_count": 703,
      "outputs": [
        {
          "output_type": "stream",
          "name": "stderr",
          "text": [
            "/usr/local/lib/python3.7/dist-packages/ipykernel_launcher.py:1: SettingWithCopyWarning: \n",
            "A value is trying to be set on a copy of a slice from a DataFrame.\n",
            "Try using .loc[row_indexer,col_indexer] = value instead\n",
            "\n",
            "See the caveats in the documentation: https://pandas.pydata.org/pandas-docs/stable/user_guide/indexing.html#returning-a-view-versus-a-copy\n",
            "  \"\"\"Entry point for launching an IPython kernel.\n",
            "/usr/local/lib/python3.7/dist-packages/ipykernel_launcher.py:2: SettingWithCopyWarning: \n",
            "A value is trying to be set on a copy of a slice from a DataFrame.\n",
            "Try using .loc[row_indexer,col_indexer] = value instead\n",
            "\n",
            "See the caveats in the documentation: https://pandas.pydata.org/pandas-docs/stable/user_guide/indexing.html#returning-a-view-versus-a-copy\n",
            "  \n",
            "/usr/local/lib/python3.7/dist-packages/ipykernel_launcher.py:3: SettingWithCopyWarning: \n",
            "A value is trying to be set on a copy of a slice from a DataFrame.\n",
            "Try using .loc[row_indexer,col_indexer] = value instead\n",
            "\n",
            "See the caveats in the documentation: https://pandas.pydata.org/pandas-docs/stable/user_guide/indexing.html#returning-a-view-versus-a-copy\n",
            "  This is separate from the ipykernel package so we can avoid doing imports until\n"
          ]
        },
        {
          "output_type": "execute_result",
          "data": {
            "text/plain": [
              "                  timestamp                                id  rating  \\\n",
              "0   2020-05-15 01:12:50.543  93ff79a51cd602f1dd3028ba2c129503     698   \n",
              "1   2020-05-15 02:46:48.066  26b01b1c4cd5656bab18d24c548834fb     647   \n",
              "2   2020-05-15 03:12:41.480  30f3653fc176d54e89ac3179c455c6dd     624   \n",
              "3   2020-05-15 04:43:08.994  1528f0eaa027580820ccf0d92a53ad68     579   \n",
              "4   2020-05-15 07:47:17.197  496ea4f0d4abe264b1bb1b80eb3830c5     572   \n",
              "..                      ...                               ...     ...   \n",
              "356 2020-05-19 19:04:17.873  c5870b37ee3f672e4259dfb2fc02ed8f    1029   \n",
              "357 2020-05-19 20:19:25.815  f44aea1095f9f5b8e2f5f0ed2b17891b    1060   \n",
              "358 2020-05-20 11:54:38.318  d7118b44c7e8fdbbaaca226d2da6fef1    1111   \n",
              "359 2020-05-23 21:16:40.916  79d14db48e4737af731960ae212d5134     966   \n",
              "360 2020-05-23 21:16:40.916  f2d210ace25a841e1e58036b257d5d47    1195   \n",
              "\n",
              "     18_group  is_mi                                           fall_1  \\\n",
              "0       181.0    0.0                                         Язык SQL   \n",
              "1       181.0    0.0                Высокопроизводительные вычисления   \n",
              "2       185.0    0.0                 Безопасность компьютерных систем   \n",
              "3       182.0    0.0                      Statistical Learning Theory   \n",
              "4       183.0    0.0                Высокопроизводительные вычисления   \n",
              "..        ...    ...                                              ...   \n",
              "356       0.0    0.0                      Statistical Learning Theory   \n",
              "357       0.0    0.0                Анализ неструктурированных данных   \n",
              "358       0.0    0.0  Сбор и обработка данных с помощью краудсорсинга   \n",
              "359       0.0    0.0                 Безопасность компьютерных систем   \n",
              "360       0.0    0.0                Анализ неструктурированных данных   \n",
              "\n",
              "                                                fall_2  \\\n",
              "0                    Высокопроизводительные вычисления   \n",
              "1                     Безопасность компьютерных систем   \n",
              "2                                 Матричные вычисления   \n",
              "3                    Высокопроизводительные вычисления   \n",
              "4                     Безопасность компьютерных систем   \n",
              "..                                                 ...   \n",
              "356                  Анализ неструктурированных данных   \n",
              "357                  Высокопроизводительные вычисления   \n",
              "358                        Statistical Learning Theory   \n",
              "359  Принятие решений в условиях риска и неопределё...   \n",
              "360                      Моделирование временных рядов   \n",
              "\n",
              "                                              fall_3  \\\n",
              "0                               Матричные вычисления   \n",
              "1                                           Язык SQL   \n",
              "2                      Моделирование временных рядов   \n",
              "3                               Матричные вычисления   \n",
              "4                                  Теория баз данных   \n",
              "..                                               ...   \n",
              "356  Сбор и обработка данных с помощью краудсорсинга   \n",
              "357                    Моделирование временных рядов   \n",
              "358                Анализ неструктурированных данных   \n",
              "359                Анализ неструктурированных данных   \n",
              "360                Высокопроизводительные вычисления   \n",
              "\n",
              "                                              spring_1  \\\n",
              "0                               Дискретная оптимизация   \n",
              "1                               Дискретная оптимизация   \n",
              "2                               Дискретная оптимизация   \n",
              "3                               Дискретная оптимизация   \n",
              "4                                    Компьютерные сети   \n",
              "..                                                 ...   \n",
              "356                           Обучение с подкреплением   \n",
              "357                             Конфликты и кооперация   \n",
              "358  Проектирование и разработка высоконагруженных ...   \n",
              "359  Проектирование и разработка высоконагруженных ...   \n",
              "360                           Обучение с подкреплением   \n",
              "\n",
              "                                 spring_2  ... is_first_time percentile  \\\n",
              "0                        Численные методы  ...            Да   0.183857   \n",
              "1                        Численные методы  ...           Нет   0.426009   \n",
              "2                     Машинное обучение 2  ...            Да   0.538117   \n",
              "3                        Численные методы  ...            Да   0.744395   \n",
              "4                  Дискретная оптимизация  ...            Да   0.780269   \n",
              "..                                    ...  ...           ...        ...   \n",
              "356                Конфликты и кооперация  ...            Да   0.920290   \n",
              "357              Обучение с подкреплением  ...            Да   0.840580   \n",
              "358  Методы сжатия и передачи медиаданных  ...            Да   0.652174   \n",
              "359  Методы сжатия и передачи медиаданных  ...            Да   0.985507   \n",
              "360                   Компьютерное зрение  ...                 0.369565   \n",
              "\n",
              "     17_group                         blended is_ml_student  day format  \\\n",
              "0         0.0                                           0.0          15   \n",
              "1         0.0                                           0.0          15   \n",
              "2         0.0                                           0.0          15   \n",
              "3         0.0                                           0.0          15   \n",
              "4         0.0                                           0.0          15   \n",
              "..        ...                             ...           ...         ...   \n",
              "356     174.0                          DevOps           0.0          19   \n",
              "357     174.0                          DevOps           0.0          19   \n",
              "358     173.0  Соревновательный анализ данных           0.0          20   \n",
              "359     172.0                          DevOps           0.0          23   \n",
              "360     176.0  Соревновательный анализ данных           0.0          23   \n",
              "\n",
              "     Count of autumn courses  course1 course2 ID  \n",
              "0                          1        a       a     \n",
              "1                          1        a       a     \n",
              "2                          1        a       a     \n",
              "3                          1        a       a     \n",
              "4                          1        a       a     \n",
              "..                       ...      ...     ... ..  \n",
              "356                        1        a       a     \n",
              "357                        1        a       a     \n",
              "358                        2        a       a     \n",
              "359                        2        a       a     \n",
              "360                        1        a       a     \n",
              "\n",
              "[347 rows x 21 columns]"
            ],
            "text/html": [
              "\n",
              "  <div id=\"df-a1558c9a-9faa-43c9-af0a-1a518e97e18a\">\n",
              "    <div class=\"colab-df-container\">\n",
              "      <div>\n",
              "<style scoped>\n",
              "    .dataframe tbody tr th:only-of-type {\n",
              "        vertical-align: middle;\n",
              "    }\n",
              "\n",
              "    .dataframe tbody tr th {\n",
              "        vertical-align: top;\n",
              "    }\n",
              "\n",
              "    .dataframe thead th {\n",
              "        text-align: right;\n",
              "    }\n",
              "</style>\n",
              "<table border=\"1\" class=\"dataframe\">\n",
              "  <thead>\n",
              "    <tr style=\"text-align: right;\">\n",
              "      <th></th>\n",
              "      <th>timestamp</th>\n",
              "      <th>id</th>\n",
              "      <th>rating</th>\n",
              "      <th>18_group</th>\n",
              "      <th>is_mi</th>\n",
              "      <th>fall_1</th>\n",
              "      <th>fall_2</th>\n",
              "      <th>fall_3</th>\n",
              "      <th>spring_1</th>\n",
              "      <th>spring_2</th>\n",
              "      <th>...</th>\n",
              "      <th>is_first_time</th>\n",
              "      <th>percentile</th>\n",
              "      <th>17_group</th>\n",
              "      <th>blended</th>\n",
              "      <th>is_ml_student</th>\n",
              "      <th>day format</th>\n",
              "      <th>Count of autumn courses</th>\n",
              "      <th>course1</th>\n",
              "      <th>course2</th>\n",
              "      <th>ID</th>\n",
              "    </tr>\n",
              "  </thead>\n",
              "  <tbody>\n",
              "    <tr>\n",
              "      <th>0</th>\n",
              "      <td>2020-05-15 01:12:50.543</td>\n",
              "      <td>93ff79a51cd602f1dd3028ba2c129503</td>\n",
              "      <td>698</td>\n",
              "      <td>181.0</td>\n",
              "      <td>0.0</td>\n",
              "      <td>Язык SQL</td>\n",
              "      <td>Высокопроизводительные вычисления</td>\n",
              "      <td>Матричные вычисления</td>\n",
              "      <td>Дискретная оптимизация</td>\n",
              "      <td>Численные методы</td>\n",
              "      <td>...</td>\n",
              "      <td>Да</td>\n",
              "      <td>0.183857</td>\n",
              "      <td>0.0</td>\n",
              "      <td></td>\n",
              "      <td>0.0</td>\n",
              "      <td>15</td>\n",
              "      <td>1</td>\n",
              "      <td>a</td>\n",
              "      <td>a</td>\n",
              "      <td></td>\n",
              "    </tr>\n",
              "    <tr>\n",
              "      <th>1</th>\n",
              "      <td>2020-05-15 02:46:48.066</td>\n",
              "      <td>26b01b1c4cd5656bab18d24c548834fb</td>\n",
              "      <td>647</td>\n",
              "      <td>181.0</td>\n",
              "      <td>0.0</td>\n",
              "      <td>Высокопроизводительные вычисления</td>\n",
              "      <td>Безопасность компьютерных систем</td>\n",
              "      <td>Язык SQL</td>\n",
              "      <td>Дискретная оптимизация</td>\n",
              "      <td>Численные методы</td>\n",
              "      <td>...</td>\n",
              "      <td>Нет</td>\n",
              "      <td>0.426009</td>\n",
              "      <td>0.0</td>\n",
              "      <td></td>\n",
              "      <td>0.0</td>\n",
              "      <td>15</td>\n",
              "      <td>1</td>\n",
              "      <td>a</td>\n",
              "      <td>a</td>\n",
              "      <td></td>\n",
              "    </tr>\n",
              "    <tr>\n",
              "      <th>2</th>\n",
              "      <td>2020-05-15 03:12:41.480</td>\n",
              "      <td>30f3653fc176d54e89ac3179c455c6dd</td>\n",
              "      <td>624</td>\n",
              "      <td>185.0</td>\n",
              "      <td>0.0</td>\n",
              "      <td>Безопасность компьютерных систем</td>\n",
              "      <td>Матричные вычисления</td>\n",
              "      <td>Моделирование временных рядов</td>\n",
              "      <td>Дискретная оптимизация</td>\n",
              "      <td>Машинное обучение 2</td>\n",
              "      <td>...</td>\n",
              "      <td>Да</td>\n",
              "      <td>0.538117</td>\n",
              "      <td>0.0</td>\n",
              "      <td></td>\n",
              "      <td>0.0</td>\n",
              "      <td>15</td>\n",
              "      <td>1</td>\n",
              "      <td>a</td>\n",
              "      <td>a</td>\n",
              "      <td></td>\n",
              "    </tr>\n",
              "    <tr>\n",
              "      <th>3</th>\n",
              "      <td>2020-05-15 04:43:08.994</td>\n",
              "      <td>1528f0eaa027580820ccf0d92a53ad68</td>\n",
              "      <td>579</td>\n",
              "      <td>182.0</td>\n",
              "      <td>0.0</td>\n",
              "      <td>Statistical Learning Theory</td>\n",
              "      <td>Высокопроизводительные вычисления</td>\n",
              "      <td>Матричные вычисления</td>\n",
              "      <td>Дискретная оптимизация</td>\n",
              "      <td>Численные методы</td>\n",
              "      <td>...</td>\n",
              "      <td>Да</td>\n",
              "      <td>0.744395</td>\n",
              "      <td>0.0</td>\n",
              "      <td></td>\n",
              "      <td>0.0</td>\n",
              "      <td>15</td>\n",
              "      <td>1</td>\n",
              "      <td>a</td>\n",
              "      <td>a</td>\n",
              "      <td></td>\n",
              "    </tr>\n",
              "    <tr>\n",
              "      <th>4</th>\n",
              "      <td>2020-05-15 07:47:17.197</td>\n",
              "      <td>496ea4f0d4abe264b1bb1b80eb3830c5</td>\n",
              "      <td>572</td>\n",
              "      <td>183.0</td>\n",
              "      <td>0.0</td>\n",
              "      <td>Высокопроизводительные вычисления</td>\n",
              "      <td>Безопасность компьютерных систем</td>\n",
              "      <td>Теория баз данных</td>\n",
              "      <td>Компьютерные сети</td>\n",
              "      <td>Дискретная оптимизация</td>\n",
              "      <td>...</td>\n",
              "      <td>Да</td>\n",
              "      <td>0.780269</td>\n",
              "      <td>0.0</td>\n",
              "      <td></td>\n",
              "      <td>0.0</td>\n",
              "      <td>15</td>\n",
              "      <td>1</td>\n",
              "      <td>a</td>\n",
              "      <td>a</td>\n",
              "      <td></td>\n",
              "    </tr>\n",
              "    <tr>\n",
              "      <th>...</th>\n",
              "      <td>...</td>\n",
              "      <td>...</td>\n",
              "      <td>...</td>\n",
              "      <td>...</td>\n",
              "      <td>...</td>\n",
              "      <td>...</td>\n",
              "      <td>...</td>\n",
              "      <td>...</td>\n",
              "      <td>...</td>\n",
              "      <td>...</td>\n",
              "      <td>...</td>\n",
              "      <td>...</td>\n",
              "      <td>...</td>\n",
              "      <td>...</td>\n",
              "      <td>...</td>\n",
              "      <td>...</td>\n",
              "      <td>...</td>\n",
              "      <td>...</td>\n",
              "      <td>...</td>\n",
              "      <td>...</td>\n",
              "      <td>...</td>\n",
              "    </tr>\n",
              "    <tr>\n",
              "      <th>356</th>\n",
              "      <td>2020-05-19 19:04:17.873</td>\n",
              "      <td>c5870b37ee3f672e4259dfb2fc02ed8f</td>\n",
              "      <td>1029</td>\n",
              "      <td>0.0</td>\n",
              "      <td>0.0</td>\n",
              "      <td>Statistical Learning Theory</td>\n",
              "      <td>Анализ неструктурированных данных</td>\n",
              "      <td>Сбор и обработка данных с помощью краудсорсинга</td>\n",
              "      <td>Обучение с подкреплением</td>\n",
              "      <td>Конфликты и кооперация</td>\n",
              "      <td>...</td>\n",
              "      <td>Да</td>\n",
              "      <td>0.920290</td>\n",
              "      <td>174.0</td>\n",
              "      <td>DevOps</td>\n",
              "      <td>0.0</td>\n",
              "      <td>19</td>\n",
              "      <td>1</td>\n",
              "      <td>a</td>\n",
              "      <td>a</td>\n",
              "      <td></td>\n",
              "    </tr>\n",
              "    <tr>\n",
              "      <th>357</th>\n",
              "      <td>2020-05-19 20:19:25.815</td>\n",
              "      <td>f44aea1095f9f5b8e2f5f0ed2b17891b</td>\n",
              "      <td>1060</td>\n",
              "      <td>0.0</td>\n",
              "      <td>0.0</td>\n",
              "      <td>Анализ неструктурированных данных</td>\n",
              "      <td>Высокопроизводительные вычисления</td>\n",
              "      <td>Моделирование временных рядов</td>\n",
              "      <td>Конфликты и кооперация</td>\n",
              "      <td>Обучение с подкреплением</td>\n",
              "      <td>...</td>\n",
              "      <td>Да</td>\n",
              "      <td>0.840580</td>\n",
              "      <td>174.0</td>\n",
              "      <td>DevOps</td>\n",
              "      <td>0.0</td>\n",
              "      <td>19</td>\n",
              "      <td>1</td>\n",
              "      <td>a</td>\n",
              "      <td>a</td>\n",
              "      <td></td>\n",
              "    </tr>\n",
              "    <tr>\n",
              "      <th>358</th>\n",
              "      <td>2020-05-20 11:54:38.318</td>\n",
              "      <td>d7118b44c7e8fdbbaaca226d2da6fef1</td>\n",
              "      <td>1111</td>\n",
              "      <td>0.0</td>\n",
              "      <td>0.0</td>\n",
              "      <td>Сбор и обработка данных с помощью краудсорсинга</td>\n",
              "      <td>Statistical Learning Theory</td>\n",
              "      <td>Анализ неструктурированных данных</td>\n",
              "      <td>Проектирование и разработка высоконагруженных ...</td>\n",
              "      <td>Методы сжатия и передачи медиаданных</td>\n",
              "      <td>...</td>\n",
              "      <td>Да</td>\n",
              "      <td>0.652174</td>\n",
              "      <td>173.0</td>\n",
              "      <td>Соревновательный анализ данных</td>\n",
              "      <td>0.0</td>\n",
              "      <td>20</td>\n",
              "      <td>2</td>\n",
              "      <td>a</td>\n",
              "      <td>a</td>\n",
              "      <td></td>\n",
              "    </tr>\n",
              "    <tr>\n",
              "      <th>359</th>\n",
              "      <td>2020-05-23 21:16:40.916</td>\n",
              "      <td>79d14db48e4737af731960ae212d5134</td>\n",
              "      <td>966</td>\n",
              "      <td>0.0</td>\n",
              "      <td>0.0</td>\n",
              "      <td>Безопасность компьютерных систем</td>\n",
              "      <td>Принятие решений в условиях риска и неопределё...</td>\n",
              "      <td>Анализ неструктурированных данных</td>\n",
              "      <td>Проектирование и разработка высоконагруженных ...</td>\n",
              "      <td>Методы сжатия и передачи медиаданных</td>\n",
              "      <td>...</td>\n",
              "      <td>Да</td>\n",
              "      <td>0.985507</td>\n",
              "      <td>172.0</td>\n",
              "      <td>DevOps</td>\n",
              "      <td>0.0</td>\n",
              "      <td>23</td>\n",
              "      <td>2</td>\n",
              "      <td>a</td>\n",
              "      <td>a</td>\n",
              "      <td></td>\n",
              "    </tr>\n",
              "    <tr>\n",
              "      <th>360</th>\n",
              "      <td>2020-05-23 21:16:40.916</td>\n",
              "      <td>f2d210ace25a841e1e58036b257d5d47</td>\n",
              "      <td>1195</td>\n",
              "      <td>0.0</td>\n",
              "      <td>0.0</td>\n",
              "      <td>Анализ неструктурированных данных</td>\n",
              "      <td>Моделирование временных рядов</td>\n",
              "      <td>Высокопроизводительные вычисления</td>\n",
              "      <td>Обучение с подкреплением</td>\n",
              "      <td>Компьютерное зрение</td>\n",
              "      <td>...</td>\n",
              "      <td></td>\n",
              "      <td>0.369565</td>\n",
              "      <td>176.0</td>\n",
              "      <td>Соревновательный анализ данных</td>\n",
              "      <td>0.0</td>\n",
              "      <td>23</td>\n",
              "      <td>1</td>\n",
              "      <td>a</td>\n",
              "      <td>a</td>\n",
              "      <td></td>\n",
              "    </tr>\n",
              "  </tbody>\n",
              "</table>\n",
              "<p>347 rows × 21 columns</p>\n",
              "</div>\n",
              "      <button class=\"colab-df-convert\" onclick=\"convertToInteractive('df-a1558c9a-9faa-43c9-af0a-1a518e97e18a')\"\n",
              "              title=\"Convert this dataframe to an interactive table.\"\n",
              "              style=\"display:none;\">\n",
              "        \n",
              "  <svg xmlns=\"http://www.w3.org/2000/svg\" height=\"24px\"viewBox=\"0 0 24 24\"\n",
              "       width=\"24px\">\n",
              "    <path d=\"M0 0h24v24H0V0z\" fill=\"none\"/>\n",
              "    <path d=\"M18.56 5.44l.94 2.06.94-2.06 2.06-.94-2.06-.94-.94-2.06-.94 2.06-2.06.94zm-11 1L8.5 8.5l.94-2.06 2.06-.94-2.06-.94L8.5 2.5l-.94 2.06-2.06.94zm10 10l.94 2.06.94-2.06 2.06-.94-2.06-.94-.94-2.06-.94 2.06-2.06.94z\"/><path d=\"M17.41 7.96l-1.37-1.37c-.4-.4-.92-.59-1.43-.59-.52 0-1.04.2-1.43.59L10.3 9.45l-7.72 7.72c-.78.78-.78 2.05 0 2.83L4 21.41c.39.39.9.59 1.41.59.51 0 1.02-.2 1.41-.59l7.78-7.78 2.81-2.81c.8-.78.8-2.07 0-2.86zM5.41 20L4 18.59l7.72-7.72 1.47 1.35L5.41 20z\"/>\n",
              "  </svg>\n",
              "      </button>\n",
              "      \n",
              "  <style>\n",
              "    .colab-df-container {\n",
              "      display:flex;\n",
              "      flex-wrap:wrap;\n",
              "      gap: 12px;\n",
              "    }\n",
              "\n",
              "    .colab-df-convert {\n",
              "      background-color: #E8F0FE;\n",
              "      border: none;\n",
              "      border-radius: 50%;\n",
              "      cursor: pointer;\n",
              "      display: none;\n",
              "      fill: #1967D2;\n",
              "      height: 32px;\n",
              "      padding: 0 0 0 0;\n",
              "      width: 32px;\n",
              "    }\n",
              "\n",
              "    .colab-df-convert:hover {\n",
              "      background-color: #E2EBFA;\n",
              "      box-shadow: 0px 1px 2px rgba(60, 64, 67, 0.3), 0px 1px 3px 1px rgba(60, 64, 67, 0.15);\n",
              "      fill: #174EA6;\n",
              "    }\n",
              "\n",
              "    [theme=dark] .colab-df-convert {\n",
              "      background-color: #3B4455;\n",
              "      fill: #D2E3FC;\n",
              "    }\n",
              "\n",
              "    [theme=dark] .colab-df-convert:hover {\n",
              "      background-color: #434B5C;\n",
              "      box-shadow: 0px 1px 3px 1px rgba(0, 0, 0, 0.15);\n",
              "      filter: drop-shadow(0px 1px 2px rgba(0, 0, 0, 0.3));\n",
              "      fill: #FFFFFF;\n",
              "    }\n",
              "  </style>\n",
              "\n",
              "      <script>\n",
              "        const buttonEl =\n",
              "          document.querySelector('#df-a1558c9a-9faa-43c9-af0a-1a518e97e18a button.colab-df-convert');\n",
              "        buttonEl.style.display =\n",
              "          google.colab.kernel.accessAllowed ? 'block' : 'none';\n",
              "\n",
              "        async function convertToInteractive(key) {\n",
              "          const element = document.querySelector('#df-a1558c9a-9faa-43c9-af0a-1a518e97e18a');\n",
              "          const dataTable =\n",
              "            await google.colab.kernel.invokeFunction('convertToInteractive',\n",
              "                                                     [key], {});\n",
              "          if (!dataTable) return;\n",
              "\n",
              "          const docLinkHtml = 'Like what you see? Visit the ' +\n",
              "            '<a target=\"_blank\" href=https://colab.research.google.com/notebooks/data_table.ipynb>data table notebook</a>'\n",
              "            + ' to learn more about interactive tables.';\n",
              "          element.innerHTML = '';\n",
              "          dataTable['output_type'] = 'display_data';\n",
              "          await google.colab.output.renderOutput(dataTable, element);\n",
              "          const docLink = document.createElement('div');\n",
              "          docLink.innerHTML = docLinkHtml;\n",
              "          element.appendChild(docLink);\n",
              "        }\n",
              "      </script>\n",
              "    </div>\n",
              "  </div>\n",
              "  "
            ]
          },
          "metadata": {},
          "execution_count": 703
        }
      ]
    },
    {
      "cell_type": "markdown",
      "source": [
        "Добавили новые столбцы, куда будем выводить данные. Теперь заведём словарь с максимально доступным количеством мест для каждого курса по выбору."
      ],
      "metadata": {
        "id": "9T3p92Sfd5AT"
      }
    },
    {
      "cell_type": "code",
      "source": [
        "set(data1['fall_1'])"
      ],
      "metadata": {
        "colab": {
          "base_uri": "https://localhost:8080/"
        },
        "id": "Gfv7k8N12gmb",
        "outputId": "1fea7f5f-f23c-4fe7-e0df-f49d3d61c634"
      },
      "execution_count": 704,
      "outputs": [
        {
          "output_type": "execute_result",
          "data": {
            "text/plain": [
              "{'Statistical Learning Theory',\n",
              " 'Анализ неструктурированных данных',\n",
              " 'Байесовские методы машинного обучения',\n",
              " 'Безопасность компьютерных систем',\n",
              " 'Высокопроизводительные вычисления',\n",
              " 'Глубинное обучение в обработке звука',\n",
              " 'Матричные вычисления',\n",
              " 'Моделирование временных рядов',\n",
              " 'Принятие решений в условиях риска и неопределённости',\n",
              " 'Сбор и обработка данных с помощью краудсорсинга',\n",
              " 'Теория баз данных',\n",
              " 'Язык SQL'}"
            ]
          },
          "metadata": {},
          "execution_count": 704
        }
      ]
    },
    {
      "cell_type": "code",
      "source": [
        "dict1 = {}\n",
        "dict1 = dict1.fromkeys(set(data1['fall_1']), 30)\n",
        "\n",
        "# Начальные условия\n",
        "\n",
        "dict1['Statistical Learning Theory'] = 60\n",
        "dict1['Высокопроизводительные вычисления'] = 60\n",
        "dict1['Анализ неструктурированных данных'] = data1.shape[0]\n",
        "\n",
        "data1 = data1.sort_values('percentile')\n",
        "\n",
        "data1['is_first_place'] = None\n",
        "data1['is_last_place'] = None\n",
        "\n",
        "\n",
        "for item in dict1.keys():\n",
        "\n",
        "\n",
        "  id_one = data1.loc[((data1['fall_1'] == item)) |\n",
        "                     ((data1['Count of autumn courses'] == 2) & ((data1['fall_1'] == item)\n",
        "                     | (data1['fall_2'] == item)) & (data1['course1'] != item))].index\n",
        "\n",
        "  id_one = id_one[:dict1[item]]\n",
        "\n",
        "  id_cource_1 = data1.loc[id_one].loc[data1['course1'] == 'a'].index\n",
        "\n",
        "  id_cource_2 = data1.loc[id_one].loc[(data1['course1'] != 'a') & (data1['course2'] == 'a')].index\n",
        "\n",
        "  data1.loc[id_cource_1, 'course1'] = item\n",
        "  data1.loc[id_cource_2, 'course2'] = item\n",
        "\n",
        "\n",
        "  if id_one.shape[0] > 0:\n",
        "    data1.loc[id_one[0], 'is_first_place'] = True\n",
        "    data1.loc[id_one[-1], 'is_last_place'] = True\n",
        "\n",
        "\n",
        "\n",
        "# data1.loc[data1['course2'] != 2]"
      ],
      "metadata": {
        "id": "tSXTQ6dvQyK6"
      },
      "execution_count": 705,
      "outputs": []
    },
    {
      "cell_type": "code",
      "source": [
        "# id_list = list(data1['id'])"
      ],
      "metadata": {
        "id": "DPT72Ki-e_pH"
      },
      "execution_count": 706,
      "outputs": []
    },
    {
      "cell_type": "markdown",
      "source": [
        "Ограничения по количеству мест на курсах по выбору:\n",
        "Осенние: везде 30 мест, кроме Statistical Learning Theory (60 мест), \n",
        "\n",
        "Высокопроизводительных вычислений (60 мест), Анализа неструктурированных данных ($\\infty$ мест)\n",
        "\n",
        "Весенние: везде 30 мест, кроме Обучения с подкреплением (60 мест), Анализа данных в бизнесе (60 мест).\n",
        "\n",
        "Кстати, убедитесь, что в данных больше нет пропусков и повторных записей."
      ],
      "metadata": {
        "id": "rvimKdww5oN6"
      }
    },
    {
      "cell_type": "markdown",
      "source": [
        "Синтаксис взял отсюда: https://pythonz.net/references/named/dict.fromkeys/"
      ],
      "metadata": {
        "id": "IyDB3ubQ6FMe"
      }
    },
    {
      "cell_type": "markdown",
      "source": [
        "Три колонки: ID, course1, course2\n",
        "\n",
        "Если студент не попал на курс, но должен был, то вместо названия курса в ячейке должна быть строка \"???\"\n",
        "\n",
        "Если студент должен выбрать только один курс, то в колонке course2 для него должна стоять строка \"-\"\n",
        "\n",
        "Если студент должен выбрать два курса по выбору, то порядок в колонках course1 и course2 не важен."
      ],
      "metadata": {
        "id": "V_V4dCf_JfH0"
      }
    },
    {
      "cell_type": "code",
      "execution_count": 707,
      "metadata": {
        "id": "6gWfT3vqhLu5"
      },
      "outputs": [],
      "source": [
        "autumn_fall = data1[['id', 'fall_1', 'rating', 'percentile']]"
      ]
    },
    {
      "cell_type": "markdown",
      "metadata": {
        "id": "vc5zXP5hhLu5"
      },
      "source": [
        "Здесь для проверки приведена таблица, в которой есть 2 дополнительные колонки:\n",
        "    \n",
        "    1) is_first_place - является ли студент лучшим по перцентили хотя бы на одном из курсов, куда он был зачислен \n",
        "    (True / NaN)\n",
        "    \n",
        "    2) is_last_place  - является ли студент худшим по перцентили хотя бы на одном из курсов, куда он был зачислен (True / NaN)"
      ]
    },
    {
      "cell_type": "code",
      "execution_count": 708,
      "metadata": {
        "id": "uZTkGEq5hLu5"
      },
      "outputs": [],
      "source": [
        "!wget  -O '2_task_check.csv' -q 'https://www.dropbox.com/s/v8o2zzq3iz5gc9w/_2_task_check.csv?dl=0'\n",
        "check_df = pd.read_csv('2_task_check.csv')"
      ]
    },
    {
      "cell_type": "code",
      "source": [
        "data1.info()"
      ],
      "metadata": {
        "colab": {
          "base_uri": "https://localhost:8080/"
        },
        "id": "WVNDR-0qxJoH",
        "outputId": "6038c8cb-4170-4355-f4ba-801217d98452"
      },
      "execution_count": 709,
      "outputs": [
        {
          "output_type": "stream",
          "name": "stdout",
          "text": [
            "<class 'pandas.core.frame.DataFrame'>\n",
            "Int64Index: 347 entries, 80 to 217\n",
            "Data columns (total 23 columns):\n",
            " #   Column                   Non-Null Count  Dtype         \n",
            "---  ------                   --------------  -----         \n",
            " 0   timestamp                347 non-null    datetime64[ns]\n",
            " 1   id                       347 non-null    object        \n",
            " 2   rating                   347 non-null    int64         \n",
            " 3   18_group                 347 non-null    float64       \n",
            " 4   is_mi                    347 non-null    float64       \n",
            " 5   fall_1                   347 non-null    object        \n",
            " 6   fall_2                   347 non-null    object        \n",
            " 7   fall_3                   347 non-null    object        \n",
            " 8   spring_1                 347 non-null    object        \n",
            " 9   spring_2                 347 non-null    object        \n",
            " 10  spring_3                 347 non-null    object        \n",
            " 11  is_first_time            347 non-null    object        \n",
            " 12  percentile               347 non-null    float64       \n",
            " 13  17_group                 347 non-null    float64       \n",
            " 14  blended                  347 non-null    object        \n",
            " 15  is_ml_student            347 non-null    float64       \n",
            " 16  day format               347 non-null    int64         \n",
            " 17  Count of autumn courses  347 non-null    int64         \n",
            " 18  course1                  347 non-null    object        \n",
            " 19  course2                  347 non-null    object        \n",
            " 20  ID                       347 non-null    object        \n",
            " 21  is_first_place           10 non-null     object        \n",
            " 22  is_last_place            12 non-null     object        \n",
            "dtypes: datetime64[ns](1), float64(5), int64(3), object(14)\n",
            "memory usage: 73.2+ KB\n"
          ]
        }
      ]
    },
    {
      "cell_type": "markdown",
      "metadata": {
        "id": "E_fbyB9qhLu5"
      },
      "source": [
        "После распределения студентов в соответствии с первым приоритетом добавьте в свой датафрейм аналогичные признаки и запустите проверку:"
      ]
    },
    {
      "cell_type": "code",
      "execution_count": 710,
      "metadata": {
        "id": "GOAzQeYehLu6"
      },
      "outputs": [],
      "source": [
        "fir_col_name = 'is_first_place'      # insert name of your new column with is_first_place as str\n",
        "last_col_name = 'is_last_place'     # insert name of your new column with is_last_place as str\n",
        "\n",
        "\n",
        "assert((data1[data1[fir_col_name].isna() == False][['id']].sort_values('id').reset_index(drop=True)\n",
        "        ==\n",
        "        check_df[check_df['is_first_place'].isna() == False][['id']].sort_values('id').reset_index(drop=True)\n",
        "       ).id.values).all()\n",
        "\n",
        "\n",
        "assert((data1[data1[last_col_name].isna() == False][['id']].sort_values('id').reset_index(drop=True)\n",
        "       == \n",
        "       check_df[check_df['is_last_place'].isna() == False][['id']].sort_values('id').reset_index(drop=True)\n",
        "      ).id.values).all()"
      ]
    },
    {
      "cell_type": "markdown",
      "metadata": {
        "id": "RO6DwNNFhLu6"
      },
      "source": [
        "#### 3. [3 балла] Проведите все три волны отбора студентов на курсы по выбору"
      ]
    },
    {
      "cell_type": "code",
      "execution_count": 711,
      "metadata": {
        "id": "jn2OOrLjhLu6"
      },
      "outputs": [],
      "source": [
        "# (￣^￣)ゞ"
      ]
    },
    {
      "cell_type": "markdown",
      "metadata": {
        "id": "1xQjV9BuhLu6"
      },
      "source": [
        "**Отправьте свой файл res_fall.csv в контест (https://contest.yandex.ru/contest/40211/problems/A/) и прикрепите/укажите ниже ваш никнейм и ссылку на успешную посылку.**"
      ]
    },
    {
      "cell_type": "markdown",
      "metadata": {
        "id": "QRTbPrgbhLu6"
      },
      "source": [
        "*Дисклеймер:*\n",
        "\n",
        "Успешная посылка в контесте является **обязательным** условием получения полного балла за этот (и следующий) пункт. Если добиться успешной посылки не удастся, баллы будут выставляться на усмотрение проверяюшего. \n",
        "\n",
        "При этом ОК в контесте не гарантирует полный балл. Оценка всё равно может быть снижена в случае обнаружения неэффективностей или ошибок в коде. Если вы сдадите в AnyTask очевидно неработающий код или ноутбук без кода, но при этом в контест будет сдан корректный файл, то это будет расцениваться как плагиат."
      ]
    },
    {
      "cell_type": "markdown",
      "metadata": {
        "id": "1IkQa_gdhLu6"
      },
      "source": [
        "На всякий случай просим вас сдать вместе с ноутбуком файл res_fall.csv в anytask"
      ]
    },
    {
      "cell_type": "markdown",
      "metadata": {
        "id": "k8d711qGhLu7"
      },
      "source": [
        "**Дополнительное задание. [2 бонусных балла] Распределите таким же образом студентов еще и на весенние курсы по выбору.**\n",
        "\n",
        "Если ваш код был хорошо структурирован, то это не составит проблем. \n",
        "\n",
        "Если вы выполнили это задание, сдайте среди прочего файл res_spring.csv в таком же формате, как и res_fall.csv."
      ]
    },
    {
      "cell_type": "code",
      "execution_count": 712,
      "metadata": {
        "id": "hwmusOGThLu7"
      },
      "outputs": [],
      "source": [
        "# (￣^'￣)ゞ"
      ]
    },
    {
      "cell_type": "markdown",
      "metadata": {
        "id": "It7QQZLYhLu7"
      },
      "source": [
        "**Отправьте свой файл res_spring.csv в контест (https://contest.yandex.ru/contest/40211/problems/B/) и прикрепите/укажите ниже ваш никнейм и ссылку на успешную посылку.**"
      ]
    },
    {
      "cell_type": "markdown",
      "metadata": {
        "id": "1YcouVTihLu7"
      },
      "source": [
        "На всякий случай просим вас сдать вместе с ноутбуком файл res_spring.csv в anytask"
      ]
    },
    {
      "cell_type": "markdown",
      "metadata": {
        "id": "uY_OY6inhLu7"
      },
      "source": [
        "Вставьте картинку, описывающую ваш опыт выполнения этого задания:"
      ]
    },
    {
      "cell_type": "code",
      "execution_count": 712,
      "metadata": {
        "id": "R9_7CnSFhLu7"
      },
      "outputs": [],
      "source": []
    }
  ],
  "metadata": {
    "colab": {
      "collapsed_sections": [
        "gDD85M7bhLux",
        "jPiMwyqHhLuy",
        "Jhk3tVpVhLuy",
        "IlzHp3HVhLuz",
        "IU_FLt8HhLu0",
        "spu3r3vchLu0",
        "kikwLpxfhLu1",
        "o5t55IcQhLu4",
        "LTGSwwvAhLu4",
        "VtQYhwuPhLu5",
        "RO6DwNNFhLu6"
      ],
      "provenance": []
    },
    "kernelspec": {
      "display_name": "Python 3 (ipykernel)",
      "language": "python",
      "name": "python3"
    },
    "language_info": {
      "codemirror_mode": {
        "name": "ipython",
        "version": 3
      },
      "file_extension": ".py",
      "mimetype": "text/x-python",
      "name": "python",
      "nbconvert_exporter": "python",
      "pygments_lexer": "ipython3",
      "version": "3.10.4"
    },
    "varInspector": {
      "cols": {
        "lenName": 16,
        "lenType": 16,
        "lenVar": 40
      },
      "kernels_config": {
        "python": {
          "delete_cmd_postfix": "",
          "delete_cmd_prefix": "del ",
          "library": "var_list.py",
          "varRefreshCmd": "print(var_dic_list())"
        },
        "r": {
          "delete_cmd_postfix": ") ",
          "delete_cmd_prefix": "rm(",
          "library": "var_list.r",
          "varRefreshCmd": "cat(var_dic_list()) "
        }
      },
      "types_to_exclude": [
        "module",
        "function",
        "builtin_function_or_method",
        "instance",
        "_Feature"
      ],
      "window_display": false
    },
    "vscode": {
      "interpreter": {
        "hash": "e7370f93d1d0cde622a1f8e1c04877d8463912d04d973331ad4851f04de6915a"
      }
    }
  },
  "nbformat": 4,
  "nbformat_minor": 0
}
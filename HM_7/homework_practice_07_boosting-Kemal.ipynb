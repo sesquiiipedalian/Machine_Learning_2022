{
  "cells": [
    {
      "cell_type": "markdown",
      "metadata": {
        "id": "K7ecealrx4M0"
      },
      "source": [
        "# Машинное обучение, ФКН ВШЭ\n",
        "\n",
        "# Практическое задание 7. Бустинговое\n",
        "\n",
        "## Общая информация\n",
        "\n",
        "Дата выдачи: 13.12.2022\n",
        "\n",
        "Мягкий дедлайн: 20.12.2022 23:59 MSK\n",
        "\n",
        "Жёсткий дедлайн: 20.12.2022 23:59 MSK\n",
        "\n",
        "## Оценивание и штрафы\n",
        "\n",
        "Каждая из задач имеет определенную «стоимость» (указана в скобках около задачи). Максимально допустимая оценка за работу — 10 баллов.\n",
        "\n",
        "Сдавать задание после указанного срока сдачи нельзя. При выставлении неполного балла за задание в связи с наличием ошибок на усмотрение проверяющего предусмотрена возможность исправить работу на указанных в ответном письме условиях.\n",
        "\n",
        "Задание выполняется самостоятельно. «Похожие» решения считаются плагиатом и все задействованные студенты (в том числе те, у кого списали) не могут получить за него больше 0 баллов (подробнее о плагиате см. на странице курса). Если вы нашли решение какого-то из заданий (или его часть) в открытом источнике, необходимо указать ссылку на этот источник в отдельном блоке в конце вашей работы (скорее всего вы будете не единственным, кто это нашел, поэтому чтобы исключить подозрение в плагиате, необходима ссылка на источник).\n",
        "\n",
        "Неэффективная реализация кода может негативно отразиться на оценке.\n",
        "\n",
        "## Формат сдачи\n",
        "Задания сдаются через систему anytask. Посылка должна содержать:\n",
        "* Ноутбук homework-practice-07-Username.ipynb\n",
        "\n",
        "Username — ваша фамилия на латинице"
      ]
    },
    {
      "cell_type": "markdown",
      "metadata": {
        "id": "0foal03ox4M5"
      },
      "source": [
        "## О задании\n",
        "\n",
        "В этом задании вам предстоит вручную запрограммировать один из самых мощных алгоритмов машинного обучения — бустинг."
      ]
    },
    {
      "cell_type": "code",
      "execution_count": 1,
      "metadata": {
        "id": "LjypfHUYx4M6"
      },
      "outputs": [],
      "source": [
        "from warnings import filterwarnings\n",
        "\n",
        "import matplotlib.pyplot as plt\n",
        "import numpy as np\n",
        "import seaborn as sns\n",
        "from scipy.sparse import load_npz\n",
        "from sklearn.model_selection import train_test_split\n",
        "\n",
        "\n",
        "sns.set(style='darkgrid')\n",
        "filterwarnings('ignore')"
      ]
    },
    {
      "cell_type": "code",
      "execution_count": 2,
      "metadata": {
        "id": "fsdZcr2Zx4M7"
      },
      "outputs": [],
      "source": [
        "x = load_npz('x.npz')\n",
        "y = np.load('y.npy')"
      ]
    },
    {
      "cell_type": "markdown",
      "metadata": {
        "id": "kjreWv6ax4M8"
      },
      "source": [
        "Разделим на обучающую, валидационную и тестовую выборки (`random_state` оставьте равным 1337 для воспроизводимости)."
      ]
    },
    {
      "cell_type": "code",
      "execution_count": 3,
      "metadata": {
        "colab": {
          "base_uri": "https://localhost:8080/"
        },
        "id": "--OyiVeXx4M8",
        "outputId": "da83b1ca-fd5a-4a59-c137-3a5dd0457264"
      },
      "outputs": [
        {
          "output_type": "execute_result",
          "data": {
            "text/plain": [
              "((18825, 169), (2354, 169), (2353, 169))"
            ]
          },
          "metadata": {},
          "execution_count": 3
        }
      ],
      "source": [
        "x_train, x_test, y_train, y_test = train_test_split(x, y, test_size=0.2, random_state=1337)\n",
        "\n",
        "x_test, x_valid, y_test, y_valid = train_test_split(x_test, y_test, test_size=0.5, random_state=1337)\n",
        "\n",
        "x_train.shape, x_valid.shape, x_test.shape"
      ]
    },
    {
      "cell_type": "markdown",
      "metadata": {
        "id": "kg7ZpLpDx4M9"
      },
      "source": [
        "## Задание 1. Реализация градиентного бустингового (4 балла)\n",
        "\n",
        "Вам нужно дописать код в файлике `boosting.py`. Для вас уже подготовлен шаблон класса `Boosting`, вы можете менять его по своему усмотрению.\n",
        "\n",
        "### Инструкции для функций:\n",
        "\n",
        "#### `__init__`\n",
        "\n",
        "В `__init__` приходит кучка параметров, распишем что есть что:\n",
        "\n",
        " - `base_model_class` - класс базовой модели нашего бустинга\n",
        " - `base_model_params` - словарь с гиперпараметрами для базовой модели\n",
        " - `n_estimators` - какое количество базовых моделей нужно обучить\n",
        " - `learning_rate` - темп обучения, должен быть из полуинтервала $(0, 1]$\n",
        " - `subsample` - доля объектов, на которой будет обучаться базовая модель (какую часть составляет бутстрапная выборка от исходной обучающей)\n",
        " - `early_stopping_rounds` - число итераций, после которых при отсутствии улучшения качества на валидационной выборке обучение останавливается\n",
        " - `plot` - строить ли после обучения всех базовых моделей график с качеством\n",
        "\n",
        "#### `fit`\n",
        "\n",
        "В `fit` приходит две выборки, обучающая и валидационная. На обучающей мы обучаем новые базовые модели, на валидационной считаем качество для ранней остановки (если это предусматривают параметры).\n",
        "\n",
        "Сначала нам нужно сделать какую-то нулевую модель, сделать предсказания для обучающей и валидационной выборок (в шаблоне это нулевая модель, соответственно предсказания это просто `np.zeros`). После этого нужно обучить `n_estimators` базовых моделей (как и на что обучаются базовые модели смотрите в лекциях и семинарах). После каждой обученной базовой модели мы должны обновить текущие предсказания, посчитать ошибку на обучающей и валидационной выборках (используем `loss_fn` для этого), проверить на раннюю остановку.\n",
        "\n",
        "После всего цикла обучения надо нарисовать график (если `plot`).\n",
        "\n",
        "\n",
        "#### `fit_new_base_model`\n",
        "\n",
        "В `fit_new_base_model` приходит обучающая выборка (целиком) и текущие предсказания для неё. Мы должны сгенерировать бутстрап выборку для обучения базовой модели и обучить базовую модель. После обучения модели запускаем поиск оптимальной гаммы, добавляем новую модель и гамму (не забываем про темп обучения) в соответствующие списки.\n",
        "\n",
        "#### `predict_proba`\n",
        "\n",
        "В `predict_proba` приходит выборка, нужно предсказать вероятности для неё. Суммируем предсказания базовых моделей на этой выборке (не забываем про гаммы) и накидываем сигмоиду."
      ]
    },
    {
      "cell_type": "code",
      "execution_count": 4,
      "metadata": {
        "id": "7_xjc6j2x4M9"
      },
      "outputs": [],
      "source": [
        "%load_ext autoreload"
      ]
    },
    {
      "cell_type": "code",
      "execution_count": 5,
      "metadata": {
        "id": "lt7ddSRLx4M-"
      },
      "outputs": [],
      "source": [
        "%autoreload 2\n",
        "\n",
        "from boosting import Boosting"
      ]
    },
    {
      "cell_type": "markdown",
      "metadata": {
        "id": "Ifpdigocx4M-"
      },
      "source": [
        "### Проверка кода\n",
        "\n",
        "У автора задания всё учится около одной секунды."
      ]
    },
    {
      "cell_type": "code",
      "execution_count": 6,
      "metadata": {
        "colab": {
          "base_uri": "https://localhost:8080/"
        },
        "id": "GvfIww-Dx4M_",
        "outputId": "5f4a947f-1cba-4adf-e889-760c452c581c"
      },
      "outputs": [
        {
          "output_type": "stream",
          "name": "stdout",
          "text": [
            "CPU times: user 1.45 s, sys: 12.4 ms, total: 1.46 s\n",
            "Wall time: 1.77 s\n",
            "Train ROC-AUC 0.9890\n",
            "Valid ROC-AUC 0.9171\n",
            "Test ROC-AUC 0.9117\n"
          ]
        }
      ],
      "source": [
        "boosting = Boosting()\n",
        "\n",
        "%time boosting.fit(x_train, y_train, x_valid, y_valid)\n",
        "\n",
        "assert len(boosting.models) == boosting.n_estimators\n",
        "assert len(boosting.gammas) == boosting.n_estimators\n",
        "\n",
        "assert boosting.predict_proba(x_test).shape == (x_test.shape[0], 2)\n",
        "\n",
        "print(f'Train ROC-AUC {boosting.score(x_train, y_train):.4f}')\n",
        "print(f'Valid ROC-AUC {boosting.score(x_valid, y_valid):.4f}')\n",
        "print(f'Test ROC-AUC {boosting.score(x_test, y_test):.4f}')"
      ]
    },
    {
      "cell_type": "markdown",
      "metadata": {
        "id": "Sevz8o-lx4NA"
      },
      "source": [
        "## Задание 2. Обучение градиентного бустингового (1 балл)\n",
        "\n",
        "Оцените качество на тестовой выборке вашей имплементации бустинга для различной максимальной глубины решающего дерева в качестве базовой модели. Здесь и далее мы будем использовать метрику ROC-AUC.\n",
        "\n",
        "Перебирайте максимальную глубину от 1 до 30 с шагом 2 (остальные параметры бустинга стоит оставить равными по умолчанию). Постройте график зависимости качества на обучающей и тестовой выборке в зависимости от глубины."
      ]
    },
    {
      "cell_type": "code",
      "execution_count": 7,
      "metadata": {
        "id": "uqavoGV95jGy"
      },
      "outputs": [],
      "source": [
        "from collections import defaultdict"
      ]
    },
    {
      "cell_type": "code",
      "execution_count": 66,
      "metadata": {
        "colab": {
          "base_uri": "https://localhost:8080/",
          "height": 609
        },
        "id": "jmdrmnt1x4NA",
        "outputId": "ca35ea88-201e-423c-e7a7-a930aefade6b"
      },
      "outputs": [
        {
          "output_type": "display_data",
          "data": {
            "text/plain": [
              "<Figure size 720x720 with 1 Axes>"
            ],
            "image/png": "[encoded data removed]"
          },
          "metadata": {}
        }
      ],
      "source": [
        "results = defaultdict(list)\n",
        "\n",
        "depths = range(1, 30, 2)\n",
        "\n",
        "for i in depths:\n",
        "    boosting = Boosting(base_model_params={'max_depth': i})\n",
        "    boosting.fit(x_train, y_train, x_valid, y_valid)\n",
        "    boosting.score(x_test, y_test)\n",
        "    results['test'].append(boosting.score(x_test, y_test))\n",
        "    results['train'].append(boosting.score(x_train, y_train))\n",
        "\n",
        "\n",
        "plt.figure(figsize=(10, 10))\n",
        "plt.plot(depths, results['test'])\n",
        "plt.title('test')\n",
        "plt.show()"
      ]
    },
    {
      "cell_type": "code",
      "source": [
        "plt.figure(figsize=(10, 10))\n",
        "plt.plot(depths, results['train'])\n",
        "plt.title('train')\n",
        "plt.show()"
      ],
      "metadata": {
        "colab": {
          "base_uri": "https://localhost:8080/",
          "height": 609
        },
        "id": "O8tlB62_VfYL",
        "outputId": "d83dfba8-3976-4276-b959-f201889fc1df"
      },
      "execution_count": 67,
      "outputs": [
        {
          "output_type": "display_data",
          "data": {
            "text/plain": [
              "<Figure size 720x720 with 1 Axes>"
            ],
            "image/png": "[encoded data removed]"
          },
          "metadata": {}
        }
      ]
    },
    {
      "cell_type": "markdown",
      "metadata": {
        "id": "-OQPhhobx4NB"
      },
      "source": [
        "**Какая из моделей имеет лучшее качество? Как вы можете это объяснить?**\n",
        "\n",
        "На тренировочной можно заметить рост качества.\n",
        "На валидационной - рост, а с какого-то момента качество начинает ухудшаться. \n",
        "\n",
        "Очевидно, что из-за переобучения, а из-за того, что деревься не подстроились под глубину, больше > и т.д. "
      ]
    },
    {
      "cell_type": "markdown",
      "metadata": {
        "id": "chCQ5WQux4NC"
      },
      "source": [
        "## Задание 3. Подбираем гиперпараметры и ищем лучшую модель (3 балла)\n",
        "\n",
        "Подберите по валидационной выборке основные гиперпараметры для вашей модели бустинга. Следует подобрать все основные параметры для самого градиентного бустинга и для самих базовых моделей. Существуют библиотеки для подбора гиперпараметров, попробуйте использовать какую-нибудь из следующих двух - [Hyperopt](https://github.com/hyperopt/hyperopt), [Optuna](https://optuna.org/)."
      ]
    },
    {
      "cell_type": "code",
      "execution_count": 9,
      "metadata": {
        "colab": {
          "base_uri": "https://localhost:8080/"
        },
        "id": "wr1SultY71LG",
        "outputId": "6529fae8-bb22-46ed-c4ff-bf007e4f4e9f"
      },
      "outputs": [
        {
          "output_type": "stream",
          "name": "stdout",
          "text": [
            "Looking in indexes: https://pypi.org/simple, https://us-python.pkg.dev/colab-wheels/public/simple/\n",
            "Requirement already satisfied: optuna in /usr/local/lib/python3.8/dist-packages (3.0.5)\n",
            "Requirement already satisfied: importlib-metadata<5.0.0 in /usr/local/lib/python3.8/dist-packages (from optuna) (4.13.0)\n",
            "Requirement already satisfied: scipy<1.9.0,>=1.7.0 in /usr/local/lib/python3.8/dist-packages (from optuna) (1.7.3)\n",
            "Requirement already satisfied: packaging>=20.0 in /usr/local/lib/python3.8/dist-packages (from optuna) (21.3)\n",
            "Requirement already satisfied: alembic>=1.5.0 in /usr/local/lib/python3.8/dist-packages (from optuna) (1.9.0)\n",
            "Requirement already satisfied: sqlalchemy>=1.3.0 in /usr/local/lib/python3.8/dist-packages (from optuna) (1.4.45)\n",
            "Requirement already satisfied: tqdm in /usr/local/lib/python3.8/dist-packages (from optuna) (4.64.1)\n",
            "Requirement already satisfied: colorlog in /usr/local/lib/python3.8/dist-packages (from optuna) (6.7.0)\n",
            "Requirement already satisfied: cliff in /usr/local/lib/python3.8/dist-packages (from optuna) (4.1.0)\n",
            "Requirement already satisfied: numpy in /usr/local/lib/python3.8/dist-packages (from optuna) (1.21.6)\n",
            "Requirement already satisfied: cmaes>=0.8.2 in /usr/local/lib/python3.8/dist-packages (from optuna) (0.9.0)\n",
            "Requirement already satisfied: PyYAML in /usr/local/lib/python3.8/dist-packages (from optuna) (6.0)\n",
            "Requirement already satisfied: Mako in /usr/local/lib/python3.8/dist-packages (from alembic>=1.5.0->optuna) (1.2.4)\n",
            "Requirement already satisfied: importlib-resources in /usr/local/lib/python3.8/dist-packages (from alembic>=1.5.0->optuna) (5.10.1)\n",
            "Requirement already satisfied: zipp>=0.5 in /usr/local/lib/python3.8/dist-packages (from importlib-metadata<5.0.0->optuna) (3.11.0)\n",
            "Requirement already satisfied: pyparsing!=3.0.5,>=2.0.2 in /usr/local/lib/python3.8/dist-packages (from packaging>=20.0->optuna) (3.0.9)\n",
            "Requirement already satisfied: greenlet!=0.4.17 in /usr/local/lib/python3.8/dist-packages (from sqlalchemy>=1.3.0->optuna) (2.0.1)\n",
            "Requirement already satisfied: autopage>=0.4.0 in /usr/local/lib/python3.8/dist-packages (from cliff->optuna) (0.5.1)\n",
            "Requirement already satisfied: stevedore>=2.0.1 in /usr/local/lib/python3.8/dist-packages (from cliff->optuna) (4.1.1)\n",
            "Requirement already satisfied: PrettyTable>=0.7.2 in /usr/local/lib/python3.8/dist-packages (from cliff->optuna) (3.5.0)\n",
            "Requirement already satisfied: cmd2>=1.0.0 in /usr/local/lib/python3.8/dist-packages (from cliff->optuna) (2.4.2)\n",
            "Requirement already satisfied: wcwidth>=0.1.7 in /usr/local/lib/python3.8/dist-packages (from cmd2>=1.0.0->cliff->optuna) (0.2.5)\n",
            "Requirement already satisfied: pyperclip>=1.6 in /usr/local/lib/python3.8/dist-packages (from cmd2>=1.0.0->cliff->optuna) (1.8.2)\n",
            "Requirement already satisfied: attrs>=16.3.0 in /usr/local/lib/python3.8/dist-packages (from cmd2>=1.0.0->cliff->optuna) (22.1.0)\n",
            "Requirement already satisfied: pbr!=2.1.0,>=2.0.0 in /usr/local/lib/python3.8/dist-packages (from stevedore>=2.0.1->cliff->optuna) (5.11.0)\n",
            "Requirement already satisfied: MarkupSafe>=0.9.2 in /usr/local/lib/python3.8/dist-packages (from Mako->alembic>=1.5.0->optuna) (2.0.1)\n"
          ]
        }
      ],
      "source": [
        "!pip3 install optuna"
      ]
    },
    {
      "cell_type": "code",
      "execution_count": 26,
      "metadata": {
        "id": "JnxQzugwx4NC"
      },
      "outputs": [],
      "source": [
        "# YOUR CODE:\n",
        "\n",
        "import xgboost as xgb\n",
        "\n",
        "import optuna\n",
        "\n",
        "\n",
        "def objective(trial):\n",
        "\n",
        "    param = {\n",
        "        \"n_estimators\": trial.suggest_int(\"n_estimators\", 5, 20),\n",
        "        \"learning_rate\": trial.suggest_loguniform(\"learning_rate\", 0.01, 0.1),\n",
        "    }\n",
        "\n",
        "    # bst = xgb.train(param, x_train)\n",
        "    model = Boosting(**param)\n",
        "\n",
        "    model.fit((x_train.toarray()).reshape(18825, 169),\n",
        "              y_train,\n",
        "              (x_valid.toarray()).reshape(2354, 169),\n",
        "              y_valid)\n",
        "\n",
        "    return model.score((x_valid.toarray()).reshape(2354, 169), y_valid)\n",
        "    # return accuracy\n"
      ]
    },
    {
      "cell_type": "code",
      "execution_count": 52,
      "metadata": {
        "colab": {
          "base_uri": "https://localhost:8080/"
        },
        "id": "LmgZXCTd_MJC",
        "outputId": "8fb7b907-c550-4cef-97fd-893cf7babd85"
      },
      "outputs": [
        {
          "output_type": "stream",
          "name": "stderr",
          "text": [
            "\u001b[32m[I 2022-12-21 19:57:55,060]\u001b[0m A new study created in memory with name: no-name-afeec2ba-fa90-4c7a-91de-a4f39644d321\u001b[0m\n",
            "\u001b[32m[I 2022-12-21 19:57:56,806]\u001b[0m Trial 0 finished with value: 0.9205536571913417 and parameters: {'n_estimators': 12, 'learning_rate': 0.045312401224786886}. Best is trial 0 with value: 0.9205536571913417.\u001b[0m\n",
            "\u001b[32m[I 2022-12-21 19:57:59,209]\u001b[0m Trial 1 finished with value: 0.9223060854878503 and parameters: {'n_estimators': 17, 'learning_rate': 0.02391875695500127}. Best is trial 1 with value: 0.9223060854878503.\u001b[0m\n",
            "\u001b[32m[I 2022-12-21 19:58:01,708]\u001b[0m Trial 2 finished with value: 0.9256908143383834 and parameters: {'n_estimators': 17, 'learning_rate': 0.05624345023386074}. Best is trial 2 with value: 0.9256908143383834.\u001b[0m\n",
            "\u001b[32m[I 2022-12-21 19:58:03,088]\u001b[0m Trial 3 finished with value: 0.9114890013273915 and parameters: {'n_estimators': 10, 'learning_rate': 0.09330996018882748}. Best is trial 2 with value: 0.9256908143383834.\u001b[0m\n",
            "\u001b[32m[I 2022-12-21 19:58:03,915]\u001b[0m Trial 4 finished with value: 0.9083401379114374 and parameters: {'n_estimators': 6, 'learning_rate': 0.08820561007172441}. Best is trial 2 with value: 0.9256908143383834.\u001b[0m\n",
            "\u001b[32m[I 2022-12-21 19:58:05,605]\u001b[0m Trial 5 finished with value: 0.913053056552629 and parameters: {'n_estimators': 12, 'learning_rate': 0.08193970216792244}. Best is trial 2 with value: 0.9256908143383834.\u001b[0m\n",
            "\u001b[32m[I 2022-12-21 19:58:07,614]\u001b[0m Trial 6 finished with value: 0.9216635417489801 and parameters: {'n_estimators': 14, 'learning_rate': 0.09841662818660706}. Best is trial 2 with value: 0.9256908143383834.\u001b[0m\n",
            "\u001b[32m[I 2022-12-21 19:58:10,643]\u001b[0m Trial 7 finished with value: 0.9187469519081952 and parameters: {'n_estimators': 20, 'learning_rate': 0.0718032609484498}. Best is trial 2 with value: 0.9256908143383834.\u001b[0m\n",
            "\u001b[32m[I 2022-12-21 19:58:12,949]\u001b[0m Trial 8 finished with value: 0.9243263068581368 and parameters: {'n_estimators': 16, 'learning_rate': 0.08308905861086814}. Best is trial 2 with value: 0.9256908143383834.\u001b[0m\n",
            "\u001b[32m[I 2022-12-21 19:58:14,207]\u001b[0m Trial 9 finished with value: 0.9180565167105272 and parameters: {'n_estimators': 9, 'learning_rate': 0.014889672202920957}. Best is trial 2 with value: 0.9256908143383834.\u001b[0m\n",
            "\u001b[32m[I 2022-12-21 19:58:17,155]\u001b[0m Trial 10 finished with value: 0.9279548830530486 and parameters: {'n_estimators': 20, 'learning_rate': 0.04087355610874654}. Best is trial 10 with value: 0.9279548830530486.\u001b[0m\n",
            "\u001b[32m[I 2022-12-21 19:58:20,176]\u001b[0m Trial 11 finished with value: 0.9229087196777224 and parameters: {'n_estimators': 20, 'learning_rate': 0.0410820515762387}. Best is trial 10 with value: 0.9279548830530486.\u001b[0m\n",
            "\u001b[32m[I 2022-12-21 19:58:22,762]\u001b[0m Trial 12 finished with value: 0.9219181646715884 and parameters: {'n_estimators': 17, 'learning_rate': 0.050192284944835304}. Best is trial 10 with value: 0.9279548830530486.\u001b[0m\n",
            "\u001b[32m[I 2022-12-21 19:58:26,136]\u001b[0m Trial 13 finished with value: 0.9253296329199503 and parameters: {'n_estimators': 19, 'learning_rate': 0.02637966288541503}. Best is trial 10 with value: 0.9279548830530486.\u001b[0m\n",
            "\u001b[32m[I 2022-12-21 19:58:28,509]\u001b[0m Trial 14 finished with value: 0.9254242185510759 and parameters: {'n_estimators': 16, 'learning_rate': 0.059345868969921826}. Best is trial 10 with value: 0.9279548830530486.\u001b[0m\n",
            "\u001b[32m[I 2022-12-21 19:58:31,163]\u001b[0m Trial 15 finished with value: 0.9222198808620143 and parameters: {'n_estimators': 18, 'learning_rate': 0.031927382393826954}. Best is trial 10 with value: 0.9279548830530486.\u001b[0m\n",
            "\u001b[32m[I 2022-12-21 19:58:33,124]\u001b[0m Trial 16 finished with value: 0.9169518203942584 and parameters: {'n_estimators': 14, 'learning_rate': 0.016755407061771446}. Best is trial 10 with value: 0.9279548830530486.\u001b[0m\n",
            "\u001b[32m[I 2022-12-21 19:58:35,236]\u001b[0m Trial 17 finished with value: 0.9177089045387533 and parameters: {'n_estimators': 15, 'learning_rate': 0.010011259784782098}. Best is trial 10 with value: 0.9279548830530486.\u001b[0m\n",
            "\u001b[32m[I 2022-12-21 19:58:37,920]\u001b[0m Trial 18 finished with value: 0.9255427499116002 and parameters: {'n_estimators': 18, 'learning_rate': 0.03427482574436289}. Best is trial 10 with value: 0.9279548830530486.\u001b[0m\n",
            "\u001b[32m[I 2022-12-21 19:58:40,979]\u001b[0m Trial 19 finished with value: 0.9265955638141716 and parameters: {'n_estimators': 20, 'learning_rate': 0.05848826128156939}. Best is trial 10 with value: 0.9279548830530486.\u001b[0m\n",
            "\u001b[32m[I 2022-12-21 19:58:44,576]\u001b[0m Trial 20 finished with value: 0.9249983836632656 and parameters: {'n_estimators': 20, 'learning_rate': 0.03921405013393825}. Best is trial 10 with value: 0.9279548830530486.\u001b[0m\n",
            "\u001b[32m[I 2022-12-21 19:58:47,334]\u001b[0m Trial 21 finished with value: 0.9260224626905581 and parameters: {'n_estimators': 18, 'learning_rate': 0.059590456476711434}. Best is trial 10 with value: 0.9279548830530486.\u001b[0m\n",
            "\u001b[32m[I 2022-12-21 19:58:50,911]\u001b[0m Trial 22 finished with value: 0.9230424166668663 and parameters: {'n_estimators': 19, 'learning_rate': 0.06515547655192912}. Best is trial 10 with value: 0.9279548830530486.\u001b[0m\n",
            "\u001b[32m[I 2022-12-21 19:58:54,052]\u001b[0m Trial 23 finished with value: 0.9267939142726925 and parameters: {'n_estimators': 19, 'learning_rate': 0.05214005106271839}. Best is trial 10 with value: 0.9279548830530486.\u001b[0m\n",
            "\u001b[32m[I 2022-12-21 19:58:57,030]\u001b[0m Trial 24 finished with value: 0.9209016684586054 and parameters: {'n_estimators': 20, 'learning_rate': 0.049858692203962884}. Best is trial 10 with value: 0.9279548830530486.\u001b[0m\n",
            "\u001b[32m[I 2022-12-21 19:58:59,761]\u001b[0m Trial 25 finished with value: 0.9256269590599864 and parameters: {'n_estimators': 19, 'learning_rate': 0.025936772633811944}. Best is trial 10 with value: 0.9279548830530486.\u001b[0m\n",
            "\u001b[32m[I 2022-12-21 19:59:01,993]\u001b[0m Trial 26 finished with value: 0.9220259204538832 and parameters: {'n_estimators': 15, 'learning_rate': 0.03592232495517233}. Best is trial 10 with value: 0.9279548830530486.\u001b[0m\n",
            "\u001b[32m[I 2022-12-21 19:59:02,942]\u001b[0m Trial 27 finished with value: 0.9135036353608182 and parameters: {'n_estimators': 7, 'learning_rate': 0.07349810279530511}. Best is trial 10 with value: 0.9279548830530486.\u001b[0m\n",
            "\u001b[32m[I 2022-12-21 19:59:05,806]\u001b[0m Trial 28 finished with value: 0.9213259069644557 and parameters: {'n_estimators': 19, 'learning_rate': 0.045605737367318495}. Best is trial 10 with value: 0.9279548830530486.\u001b[0m\n",
            "\u001b[32m[I 2022-12-21 19:59:07,186]\u001b[0m Trial 29 finished with value: 0.9214759668686887 and parameters: {'n_estimators': 10, 'learning_rate': 0.04326705204974025}. Best is trial 10 with value: 0.9279548830530486.\u001b[0m\n",
            "\u001b[32m[I 2022-12-21 19:59:09,815]\u001b[0m Trial 30 finished with value: 0.9200994865237426 and parameters: {'n_estimators': 18, 'learning_rate': 0.028706916935341314}. Best is trial 10 with value: 0.9279548830530486.\u001b[0m\n",
            "\u001b[32m[I 2022-12-21 19:59:12,447]\u001b[0m Trial 31 finished with value: 0.9267224761799856 and parameters: {'n_estimators': 18, 'learning_rate': 0.0576645788688121}. Best is trial 10 with value: 0.9279548830530486.\u001b[0m\n",
            "\u001b[32m[I 2022-12-21 19:59:15,478]\u001b[0m Trial 32 finished with value: 0.9217238051679673 and parameters: {'n_estimators': 20, 'learning_rate': 0.052517007395158924}. Best is trial 10 with value: 0.9279548830530486.\u001b[0m\n",
            "\u001b[32m[I 2022-12-21 19:59:17,999]\u001b[0m Trial 33 finished with value: 0.9265476723553738 and parameters: {'n_estimators': 17, 'learning_rate': 0.06775833146027825}. Best is trial 10 with value: 0.9279548830530486.\u001b[0m\n",
            "\u001b[32m[I 2022-12-21 19:59:20,377]\u001b[0m Trial 34 finished with value: 0.9191887506156047 and parameters: {'n_estimators': 16, 'learning_rate': 0.048361050951433296}. Best is trial 10 with value: 0.9279548830530486.\u001b[0m\n",
            "\u001b[32m[I 2022-12-21 19:59:23,049]\u001b[0m Trial 35 finished with value: 0.9206147188013086 and parameters: {'n_estimators': 18, 'learning_rate': 0.0592344023833417}. Best is trial 10 with value: 0.9279548830530486.\u001b[0m\n",
            "\u001b[32m[I 2022-12-21 19:59:25,943]\u001b[0m Trial 36 finished with value: 0.9267775513576031 and parameters: {'n_estimators': 19, 'learning_rate': 0.03976729696943016}. Best is trial 10 with value: 0.9279548830530486.\u001b[0m\n",
            "\u001b[32m[I 2022-12-21 19:59:27,779]\u001b[0m Trial 37 finished with value: 0.9191903469975646 and parameters: {'n_estimators': 13, 'learning_rate': 0.021097444623306753}. Best is trial 10 with value: 0.9279548830530486.\u001b[0m\n",
            "\u001b[32m[I 2022-12-21 19:59:30,266]\u001b[0m Trial 38 finished with value: 0.913593032750574 and parameters: {'n_estimators': 17, 'learning_rate': 0.03899087553750251}. Best is trial 10 with value: 0.9279548830530486.\u001b[0m\n",
            "\u001b[32m[I 2022-12-21 19:59:33,032]\u001b[0m Trial 39 finished with value: 0.9225834568533875 and parameters: {'n_estimators': 19, 'learning_rate': 0.030936498152018994}. Best is trial 10 with value: 0.9279548830530486.\u001b[0m\n",
            "\u001b[32m[I 2022-12-21 19:59:33,683]\u001b[0m Trial 40 finished with value: 0.9007928431003973 and parameters: {'n_estimators': 5, 'learning_rate': 0.020879117893531984}. Best is trial 10 with value: 0.9279548830530486.\u001b[0m\n",
            "\u001b[32m[I 2022-12-21 19:59:36,508]\u001b[0m Trial 41 finished with value: 0.9204466996000266 and parameters: {'n_estimators': 19, 'learning_rate': 0.07571320590973506}. Best is trial 10 with value: 0.9279548830530486.\u001b[0m\n",
            "\u001b[32m[I 2022-12-21 19:59:39,587]\u001b[0m Trial 42 finished with value: 0.9184236845613102 and parameters: {'n_estimators': 20, 'learning_rate': 0.05359595894615967}. Best is trial 10 with value: 0.9279548830530486.\u001b[0m\n",
            "\u001b[32m[I 2022-12-21 19:59:42,289]\u001b[0m Trial 43 finished with value: 0.9228009638954273 and parameters: {'n_estimators': 18, 'learning_rate': 0.04565941869925455}. Best is trial 10 with value: 0.9279548830530486.\u001b[0m\n",
            "\u001b[32m[I 2022-12-21 19:59:45,237]\u001b[0m Trial 44 finished with value: 0.9280171419494857 and parameters: {'n_estimators': 20, 'learning_rate': 0.06382032692037819}. Best is trial 44 with value: 0.9280171419494857.\u001b[0m\n",
            "\u001b[32m[I 2022-12-21 19:59:48,125]\u001b[0m Trial 45 finished with value: 0.9273275049427977 and parameters: {'n_estimators': 19, 'learning_rate': 0.09086331668980552}. Best is trial 44 with value: 0.9280171419494857.\u001b[0m\n",
            "\u001b[32m[I 2022-12-21 19:59:51,025]\u001b[0m Trial 46 finished with value: 0.9245605759107557 and parameters: {'n_estimators': 19, 'learning_rate': 0.08662337369399786}. Best is trial 44 with value: 0.9280171419494857.\u001b[0m\n",
            "\u001b[32m[I 2022-12-21 19:59:53,400]\u001b[0m Trial 47 finished with value: 0.922183563172426 and parameters: {'n_estimators': 16, 'learning_rate': 0.09553681268365014}. Best is trial 44 with value: 0.9280171419494857.\u001b[0m\n",
            "\u001b[32m[I 2022-12-21 19:59:56,196]\u001b[0m Trial 48 finished with value: 0.9234894036156454 and parameters: {'n_estimators': 17, 'learning_rate': 0.07966329067276862}. Best is trial 44 with value: 0.9280171419494857.\u001b[0m\n",
            "\u001b[32m[I 2022-12-21 19:59:57,513]\u001b[0m Trial 49 finished with value: 0.9151275549095529 and parameters: {'n_estimators': 8, 'learning_rate': 0.06469638914098985}. Best is trial 44 with value: 0.9280171419494857.\u001b[0m\n",
            "\u001b[32m[I 2022-12-21 19:59:59,261]\u001b[0m Trial 50 finished with value: 0.9175728129766697 and parameters: {'n_estimators': 12, 'learning_rate': 0.08670707149949645}. Best is trial 44 with value: 0.9280171419494857.\u001b[0m\n",
            "\u001b[32m[I 2022-12-21 20:00:02,197]\u001b[0m Trial 51 finished with value: 0.9203297646214619 and parameters: {'n_estimators': 20, 'learning_rate': 0.03688810199481826}. Best is trial 44 with value: 0.9280171419494857.\u001b[0m\n",
            "\u001b[32m[I 2022-12-21 20:00:05,061]\u001b[0m Trial 52 finished with value: 0.9269020691504773 and parameters: {'n_estimators': 19, 'learning_rate': 0.05487096984357023}. Best is trial 44 with value: 0.9280171419494857.\u001b[0m\n",
            "\u001b[32m[I 2022-12-21 20:00:07,896]\u001b[0m Trial 53 finished with value: 0.9197570625933384 and parameters: {'n_estimators': 19, 'learning_rate': 0.04214227204504875}. Best is trial 44 with value: 0.9280171419494857.\u001b[0m\n",
            "\u001b[32m[I 2022-12-21 20:00:10,872]\u001b[0m Trial 54 finished with value: 0.9233269717512231 and parameters: {'n_estimators': 20, 'learning_rate': 0.06638751664852784}. Best is trial 44 with value: 0.9280171419494857.\u001b[0m\n",
            "\u001b[32m[I 2022-12-21 20:00:12,425]\u001b[0m Trial 55 finished with value: 0.9199905334549777 and parameters: {'n_estimators': 11, 'learning_rate': 0.046995910511003804}. Best is trial 44 with value: 0.9280171419494857.\u001b[0m\n",
            "\u001b[32m[I 2022-12-21 20:00:15,277]\u001b[0m Trial 56 finished with value: 0.9170691544683132 and parameters: {'n_estimators': 19, 'learning_rate': 0.09860273640905479}. Best is trial 44 with value: 0.9280171419494857.\u001b[0m\n",
            "\u001b[32m[I 2022-12-21 20:00:17,886]\u001b[0m Trial 57 finished with value: 0.9233888315521701 and parameters: {'n_estimators': 18, 'learning_rate': 0.05386830312751003}. Best is trial 44 with value: 0.9280171419494857.\u001b[0m\n",
            "\u001b[32m[I 2022-12-21 20:00:20,821]\u001b[0m Trial 58 finished with value: 0.9219293393453076 and parameters: {'n_estimators': 20, 'learning_rate': 0.03352890585033896}. Best is trial 44 with value: 0.9280171419494857.\u001b[0m\n",
            "\u001b[32m[I 2022-12-21 20:00:23,328]\u001b[0m Trial 59 finished with value: 0.926435127427199 and parameters: {'n_estimators': 17, 'learning_rate': 0.04147056669567468}. Best is trial 44 with value: 0.9280171419494857.\u001b[0m\n",
            "\u001b[32m[I 2022-12-21 20:00:25,467]\u001b[0m Trial 60 finished with value: 0.9231633426003305 and parameters: {'n_estimators': 15, 'learning_rate': 0.06223902340181111}. Best is trial 44 with value: 0.9280171419494857.\u001b[0m\n",
            "\u001b[32m[I 2022-12-21 20:00:28,074]\u001b[0m Trial 61 finished with value: 0.9200583796882745 and parameters: {'n_estimators': 18, 'learning_rate': 0.05625699782187905}. Best is trial 44 with value: 0.9280171419494857.\u001b[0m\n",
            "\u001b[32m[I 2022-12-21 20:00:30,976]\u001b[0m Trial 62 finished with value: 0.9234167682364689 and parameters: {'n_estimators': 19, 'learning_rate': 0.07130514258228907}. Best is trial 44 with value: 0.9280171419494857.\u001b[0m\n",
            "\u001b[32m[I 2022-12-21 20:00:33,651]\u001b[0m Trial 63 finished with value: 0.921124363742015 and parameters: {'n_estimators': 18, 'learning_rate': 0.051422908587336724}. Best is trial 44 with value: 0.9280171419494857.\u001b[0m\n",
            "\u001b[32m[I 2022-12-21 20:00:36,640]\u001b[0m Trial 64 finished with value: 0.9257399030836513 and parameters: {'n_estimators': 20, 'learning_rate': 0.05656129645302667}. Best is trial 44 with value: 0.9280171419494857.\u001b[0m\n",
            "\u001b[32m[I 2022-12-21 20:00:39,487]\u001b[0m Trial 65 finished with value: 0.9234802244193758 and parameters: {'n_estimators': 19, 'learning_rate': 0.07830155706248675}. Best is trial 44 with value: 0.9280171419494857.\u001b[0m\n",
            "\u001b[32m[I 2022-12-21 20:00:42,408]\u001b[0m Trial 66 finished with value: 0.9194717093180017 and parameters: {'n_estimators': 20, 'learning_rate': 0.038610145043383476}. Best is trial 44 with value: 0.9280171419494857.\u001b[0m\n",
            "\u001b[32m[I 2022-12-21 20:00:45,087]\u001b[0m Trial 67 finished with value: 0.92037326602987 and parameters: {'n_estimators': 18, 'learning_rate': 0.07073454269930098}. Best is trial 44 with value: 0.9280171419494857.\u001b[0m\n",
            "\u001b[32m[I 2022-12-21 20:00:47,562]\u001b[0m Trial 68 finished with value: 0.9221620120159668 and parameters: {'n_estimators': 17, 'learning_rate': 0.04365566436258314}. Best is trial 44 with value: 0.9280171419494857.\u001b[0m\n",
            "\u001b[32m[I 2022-12-21 20:00:50,377]\u001b[0m Trial 69 finished with value: 0.9284369904049463 and parameters: {'n_estimators': 19, 'learning_rate': 0.04938649262158599}. Best is trial 69 with value: 0.9284369904049463.\u001b[0m\n",
            "\u001b[32m[I 2022-12-21 20:00:53,173]\u001b[0m Trial 70 finished with value: 0.924104409765707 and parameters: {'n_estimators': 19, 'learning_rate': 0.03573536379453243}. Best is trial 69 with value: 0.9284369904049463.\u001b[0m\n",
            "\u001b[32m[I 2022-12-21 20:00:56,193]\u001b[0m Trial 71 finished with value: 0.9224453698138538 and parameters: {'n_estimators': 20, 'learning_rate': 0.049473187567601266}. Best is trial 69 with value: 0.9284369904049463.\u001b[0m\n",
            "\u001b[32m[I 2022-12-21 20:00:59,023]\u001b[0m Trial 72 finished with value: 0.9280706207451431 and parameters: {'n_estimators': 19, 'learning_rate': 0.04644834358746779}. Best is trial 69 with value: 0.9284369904049463.\u001b[0m\n",
            "\u001b[32m[I 2022-12-21 20:01:01,786]\u001b[0m Trial 73 finished with value: 0.920309011655983 and parameters: {'n_estimators': 19, 'learning_rate': 0.04558174805377231}. Best is trial 69 with value: 0.9284369904049463.\u001b[0m\n",
            "\u001b[32m[I 2022-12-21 20:01:04,758]\u001b[0m Trial 74 finished with value: 0.9209052603180153 and parameters: {'n_estimators': 20, 'learning_rate': 0.03942822856898361}. Best is trial 69 with value: 0.9284369904049463.\u001b[0m\n",
            "\u001b[32m[I 2022-12-21 20:01:07,402]\u001b[0m Trial 75 finished with value: 0.9205345006078225 and parameters: {'n_estimators': 18, 'learning_rate': 0.06256939038047002}. Best is trial 69 with value: 0.9284369904049463.\u001b[0m\n",
            "\u001b[32m[I 2022-12-21 20:01:10,107]\u001b[0m Trial 76 finished with value: 0.9206258934750282 and parameters: {'n_estimators': 19, 'learning_rate': 0.010665042179619118}. Best is trial 69 with value: 0.9284369904049463.\u001b[0m\n",
            "\u001b[32m[I 2022-12-21 20:01:12,893]\u001b[0m Trial 77 finished with value: 0.9259542173617712 and parameters: {'n_estimators': 19, 'learning_rate': 0.04913226860179693}. Best is trial 69 with value: 0.9284369904049463.\u001b[0m\n",
            "\u001b[32m[I 2022-12-21 20:01:15,339]\u001b[0m Trial 78 finished with value: 0.9263764603901716 and parameters: {'n_estimators': 17, 'learning_rate': 0.043484949934536325}. Best is trial 69 with value: 0.9284369904049463.\u001b[0m\n",
            "\u001b[32m[I 2022-12-21 20:01:18,313]\u001b[0m Trial 79 finished with value: 0.9226129899196459 and parameters: {'n_estimators': 20, 'learning_rate': 0.06125368472475497}. Best is trial 69 with value: 0.9284369904049463.\u001b[0m\n",
            "\u001b[32m[I 2022-12-21 20:01:21,094]\u001b[0m Trial 80 finished with value: 0.9232339825020573 and parameters: {'n_estimators': 19, 'learning_rate': 0.032316114469487706}. Best is trial 69 with value: 0.9284369904049463.\u001b[0m\n",
            "\u001b[32m[I 2022-12-21 20:01:23,724]\u001b[0m Trial 81 finished with value: 0.9243698082665446 and parameters: {'n_estimators': 18, 'learning_rate': 0.054630537810228474}. Best is trial 69 with value: 0.9284369904049463.\u001b[0m\n",
            "\u001b[32m[I 2022-12-21 20:01:26,687]\u001b[0m Trial 82 finished with value: 0.9243466607281258 and parameters: {'n_estimators': 20, 'learning_rate': 0.051009724071764725}. Best is trial 69 with value: 0.9284369904049463.\u001b[0m\n",
            "\u001b[32m[I 2022-12-21 20:01:29,333]\u001b[0m Trial 83 finished with value: 0.9202746894438445 and parameters: {'n_estimators': 18, 'learning_rate': 0.05918858493808909}. Best is trial 69 with value: 0.9284369904049463.\u001b[0m\n",
            "\u001b[32m[I 2022-12-21 20:01:32,028]\u001b[0m Trial 84 finished with value: 0.9233980107484396 and parameters: {'n_estimators': 19, 'learning_rate': 0.029399892076121075}. Best is trial 69 with value: 0.9284369904049463.\u001b[0m\n",
            "\u001b[32m[I 2022-12-21 20:01:35,005]\u001b[0m Trial 85 finished with value: 0.9180501311826875 and parameters: {'n_estimators': 20, 'learning_rate': 0.04834152485438743}. Best is trial 69 with value: 0.9284369904049463.\u001b[0m\n",
            "\u001b[32m[I 2022-12-21 20:01:37,076]\u001b[0m Trial 86 finished with value: 0.9244224888712222 and parameters: {'n_estimators': 13, 'learning_rate': 0.040519033984179935}. Best is trial 69 with value: 0.9284369904049463.\u001b[0m\n",
            "\u001b[32m[I 2022-12-21 20:01:39,961]\u001b[0m Trial 87 finished with value: 0.9228452634948153 and parameters: {'n_estimators': 16, 'learning_rate': 0.037536383779050275}. Best is trial 69 with value: 0.9284369904049463.\u001b[0m\n",
            "\u001b[32m[I 2022-12-21 20:01:42,570]\u001b[0m Trial 88 finished with value: 0.9205341015123324 and parameters: {'n_estimators': 18, 'learning_rate': 0.0573732503949452}. Best is trial 69 with value: 0.9284369904049463.\u001b[0m\n",
            "\u001b[32m[I 2022-12-21 20:01:45,443]\u001b[0m Trial 89 finished with value: 0.9204945910588243 and parameters: {'n_estimators': 19, 'learning_rate': 0.06720241743524939}. Best is trial 69 with value: 0.9284369904049463.\u001b[0m\n",
            "\u001b[32m[I 2022-12-21 20:01:48,436]\u001b[0m Trial 90 finished with value: 0.9284042645747678 and parameters: {'n_estimators': 20, 'learning_rate': 0.09166399530787567}. Best is trial 69 with value: 0.9284369904049463.\u001b[0m\n",
            "\u001b[32m[I 2022-12-21 20:01:51,504]\u001b[0m Trial 91 finished with value: 0.9247912531039653 and parameters: {'n_estimators': 20, 'learning_rate': 0.09244005615603737}. Best is trial 69 with value: 0.9284369904049463.\u001b[0m\n",
            "\u001b[32m[I 2022-12-21 20:01:54,357]\u001b[0m Trial 92 finished with value: 0.9199234854126608 and parameters: {'n_estimators': 19, 'learning_rate': 0.08892059002890089}. Best is trial 69 with value: 0.9284369904049463.\u001b[0m\n",
            "\u001b[32m[I 2022-12-21 20:01:57,401]\u001b[0m Trial 93 finished with value: 0.9235253222097439 and parameters: {'n_estimators': 20, 'learning_rate': 0.07478143773474911}. Best is trial 69 with value: 0.9284369904049463.\u001b[0m\n",
            "\u001b[32m[I 2022-12-21 20:02:00,217]\u001b[0m Trial 94 finished with value: 0.9283272391452012 and parameters: {'n_estimators': 19, 'learning_rate': 0.04635177067265313}. Best is trial 69 with value: 0.9284369904049463.\u001b[0m\n",
            "\u001b[32m[I 2022-12-21 20:02:03,223]\u001b[0m Trial 95 finished with value: 0.9199645922481288 and parameters: {'n_estimators': 20, 'learning_rate': 0.04621786011494091}. Best is trial 69 with value: 0.9284369904049463.\u001b[0m\n",
            "\u001b[32m[I 2022-12-21 20:02:06,100]\u001b[0m Trial 96 finished with value: 0.9253966809622671 and parameters: {'n_estimators': 19, 'learning_rate': 0.08393962167623983}. Best is trial 69 with value: 0.9284369904049463.\u001b[0m\n",
            "\u001b[32m[I 2022-12-21 20:02:08,900]\u001b[0m Trial 97 finished with value: 0.9259294734413925 and parameters: {'n_estimators': 19, 'learning_rate': 0.0437761349884713}. Best is trial 69 with value: 0.9284369904049463.\u001b[0m\n",
            "\u001b[32m[I 2022-12-21 20:02:11,937]\u001b[0m Trial 98 finished with value: 0.9255619064951194 and parameters: {'n_estimators': 20, 'learning_rate': 0.051743883826968554}. Best is trial 69 with value: 0.9284369904049463.\u001b[0m\n",
            "\u001b[32m[I 2022-12-21 20:02:14,548]\u001b[0m Trial 99 finished with value: 0.9251033457771307 and parameters: {'n_estimators': 18, 'learning_rate': 0.0475190331387299}. Best is trial 69 with value: 0.9284369904049463.\u001b[0m\n"
          ]
        }
      ],
      "source": [
        "# https://optuna.readthedocs.io/en/stable/tutorial/10_key_features/003_efficient_optimization_algorithms.html\n",
        "\n",
        "study = optuna.create_study(direction='maximize')\n",
        "study.optimize(objective, n_trials=100)"
      ]
    },
    {
      "cell_type": "code",
      "source": [
        "study.best_params"
      ],
      "metadata": {
        "colab": {
          "base_uri": "https://localhost:8080/"
        },
        "id": "BeareO58Jc9S",
        "outputId": "be87529a-b66c-4e0a-9669-a264dcce6e83"
      },
      "execution_count": 54,
      "outputs": [
        {
          "output_type": "execute_result",
          "data": {
            "text/plain": [
              "{'n_estimators': 19, 'learning_rate': 0.04938649262158599}"
            ]
          },
          "metadata": {},
          "execution_count": 54
        }
      ]
    },
    {
      "cell_type": "markdown",
      "source": [
        "Закинем их в бустинг и посчитаем на тестовой"
      ],
      "metadata": {
        "id": "H8gXcnX2Je48"
      }
    },
    {
      "cell_type": "code",
      "source": [
        "model = Boosting(**study.best_params)\n",
        "model.fit(x_train, y_train, x_valid, y_valid)\n",
        "model.score(x_test, y_test)"
      ],
      "metadata": {
        "colab": {
          "base_uri": "https://localhost:8080/"
        },
        "id": "j-ZX2264IO6Q",
        "outputId": "737cceba-c0fa-48ad-e0f8-475e82556b62"
      },
      "execution_count": 55,
      "outputs": [
        {
          "output_type": "execute_result",
          "data": {
            "text/plain": [
              "0.9268527513568239"
            ]
          },
          "metadata": {},
          "execution_count": 55
        }
      ]
    },
    {
      "cell_type": "markdown",
      "source": [
        "Неплохо)"
      ],
      "metadata": {
        "id": "VZNtybUQUY6r"
      }
    },
    {
      "cell_type": "markdown",
      "metadata": {
        "id": "buXP92lZx4ND"
      },
      "source": [
        "## Задание 4. Интерпретация бустингового (2 балл)\n",
        "\n",
        "Постройте калибровочную кривую для вашей лучшей модели бустинга. Насколько хорошо бустинг оценивает вероятности? Постройте также калибровочную кривую для логистической регрессии, сравните их между собой. Проанализируйте полученные результаты."
      ]
    },
    {
      "cell_type": "code",
      "execution_count": 56,
      "metadata": {
        "id": "w1-YZ9Hux4NE"
      },
      "outputs": [],
      "source": [
        "from sklearn.calibration import CalibratedClassifierCV, calibration_curve"
      ]
    },
    {
      "cell_type": "code",
      "source": [
        "plt.figure(figsize=(10, 10))\n",
        "\n",
        "true_prob, pred_prob = calibration_curve(y_test, model.predict_proba(x_test)[:, 1], n_bins=200)\n",
        "\n",
        "plt.plot(pred_prob, true_prob, label='Boosting', color='blue')\n",
        "plt.plot([0, 1], [0, 1], label='Perfect', linestyle='--', color='green')\n",
        "\n",
        "plt.xlabel('Mean predicted probability')\n",
        "plt.ylabel('Fraction of positives')\n",
        "plt.title('Calibration curves')\n",
        "plt.legend()\n",
        "plt.show()"
      ],
      "metadata": {
        "colab": {
          "base_uri": "https://localhost:8080/",
          "height": 627
        },
        "id": "7COFdMClOB9s",
        "outputId": "c15df775-9e51-4c12-f06f-d8866010e937"
      },
      "execution_count": 64,
      "outputs": [
        {
          "output_type": "display_data",
          "data": {
            "text/plain": [
              "<Figure size 720x720 with 1 Axes>"
            ],
            "image/png": "[encoded data removed]"
          },
          "metadata": {}
        }
      ]
    },
    {
      "cell_type": "markdown",
      "metadata": {
        "id": "EU-ibc9ox4NE"
      },
      "source": [
        "Теперь попробуем оценить важность признаков для бустинга.\n",
        "\n",
        "Поскольку наша базовая модель - это дерево из `sklearn`, мы можем вычислить важность признака отдельно для каждого дерева и усреднить (воспользуйтесь `feature_importances_` у `DecisionTreeRegressor`), после этого нормировать значения, чтобы они суммировались в единицу (обратите внимание, что они должны быть неотрицательными - иначе вы что-то сделали не так).\n",
        "\n",
        "Допишите в вашей реализации бустинга функцию `feature_importances_` чтобы она возвращала описанные выше важности признаков.\n",
        "\n",
        "Нарисуйте столбчатую диаграмму важности признаков. На соседнем графике нарисуйте важность признаков для логистической регрессии, для этого используйте модули весов. Сравните графики. Проанализируйте полученные результаты."
      ]
    },
    {
      "cell_type": "code",
      "source": [
        "from sklearn.preprocessing import normalize"
      ],
      "metadata": {
        "id": "ECbFYjDAedMW"
      },
      "execution_count": 90,
      "outputs": []
    },
    {
      "cell_type": "code",
      "execution_count": 91,
      "metadata": {
        "id": "YXmoi1Cqx4NF"
      },
      "outputs": [],
      "source": [
        "@property\n",
        "def feature_importances_(self):\n",
        "    zero = 0\n",
        "    for model in self.models:\n",
        "        zero += model.feature_importances_\n",
        "    zero /= len(self.models)\n",
        "    zero = normalize([zero], norm='l1')[0]\n",
        "    return zero"
      ]
    },
    {
      "cell_type": "markdown",
      "metadata": {
        "id": "ry69E6i1x4NG"
      },
      "source": [
        "Кстати, чаще всего излишние признаки могут вредить качеству бустинга. Попробуйте отфильтровать на основании диаграммы хвост наименее важных признаков и снова обучить модель (с теми же гиперпараметрами). Стало ли лучше?"
      ]
    },
    {
      "cell_type": "code",
      "execution_count": null,
      "metadata": {
        "id": "CsMBiDKox4NG"
      },
      "outputs": [],
      "source": [
        "# YOUR CODE:"
      ]
    },
    {
      "cell_type": "markdown",
      "metadata": {
        "id": "Kx9dukZnx4NH"
      },
      "source": [
        "## Задание 5 (бонус). Блендинговое (1 балл)\n",
        "\n",
        "Реализуйте блендинг над вашей лучшей моделью и логистической регрессией. Улучшилось ли качество?"
      ]
    },
    {
      "cell_type": "code",
      "source": [
        "study.best_params"
      ],
      "metadata": {
        "colab": {
          "base_uri": "https://localhost:8080/"
        },
        "id": "5_QzWQqXb6vT",
        "outputId": "ff8f000b-eccf-4c71-be37-29d4a9d367f9"
      },
      "execution_count": 84,
      "outputs": [
        {
          "output_type": "execute_result",
          "data": {
            "text/plain": [
              "{'n_estimators': 19, 'learning_rate': 0.04938649262158599}"
            ]
          },
          "metadata": {},
          "execution_count": 84
        }
      ]
    },
    {
      "cell_type": "markdown",
      "source": [
        "Прям как функция score из boost.py"
      ],
      "metadata": {
        "id": "-cVCU2WPcAT0"
      }
    },
    {
      "cell_type": "markdown",
      "source": [
        "Надо поделит x_train на две выборки, на первой половине обучить бустинг и сделать предсказание, на второй половине - логистическую регрессию. Сделать обеих моделях предсказание для x_train. Сложить предсказания и поделить на 2. Вроде понял всё правильно )"
      ],
      "metadata": {
        "id": "an3dDr1fc3v7"
      }
    },
    {
      "cell_type": "code",
      "source": [
        "from sklearn.linear_model import LogisticRegression"
      ],
      "metadata": {
        "id": "v33PCJljcNI1"
      },
      "execution_count": 85,
      "outputs": []
    },
    {
      "cell_type": "code",
      "source": [
        "point = x_test.shape[0] // 2\n",
        "point"
      ],
      "metadata": {
        "colab": {
          "base_uri": "https://localhost:8080/"
        },
        "id": "3yl0jVi6ceij",
        "outputId": "666a9b7f-62dc-456d-d5f6-664af7f1a3b1"
      },
      "execution_count": 88,
      "outputs": [
        {
          "output_type": "execute_result",
          "data": {
            "text/plain": [
              "1176"
            ]
          },
          "metadata": {},
          "execution_count": 88
        }
      ]
    },
    {
      "cell_type": "code",
      "execution_count": 89,
      "metadata": {
        "id": "oQvcmsk-x4NH",
        "colab": {
          "base_uri": "https://localhost:8080/"
        },
        "outputId": "bd32ae4f-c5be-4a2d-fd1b-3be0ca7e2685"
      },
      "outputs": [
        {
          "output_type": "execute_result",
          "data": {
            "text/plain": [
              "0.9387791813554225"
            ]
          },
          "metadata": {},
          "execution_count": 89
        }
      ],
      "source": [
        "model = Boosting(**study.best_params)\n",
        "model.fit(x_train[1176:, :], y_train[1176:], x_valid, y_valid)\n",
        "\n",
        "\n",
        "model_lr = LogisticRegression()\n",
        "model_lr.fit(x_train[:1176, :], y_train[:1176])\n",
        "\n",
        "\n",
        "roc_auc_score(y_test == 1, (model_lr.predict_proba(x_test)[:, 1] + model.predict_proba(x_test)[:, 1]) / 2)"
      ]
    },
    {
      "cell_type": "markdown",
      "metadata": {
        "collapsed": false,
        "id": "pBELJd98x4NI"
      },
      "source": [
        "## Задание 6 (бонус). Катбустовое (1 балл)\n",
        "\n",
        "Запустите [CatBoost](https://catboost.ai/en/docs/concepts/python-quickstart) на наших данных, сравните с вашей реализацией. Где получилось лучше?"
      ]
    },
    {
      "cell_type": "code",
      "source": [
        "!pip3 install catboost"
      ],
      "metadata": {
        "colab": {
          "base_uri": "https://localhost:8080/"
        },
        "id": "tjoWrH6fXJ7h",
        "outputId": "df86cc5a-fac0-4de2-db3f-733807a8fcf5"
      },
      "execution_count": 71,
      "outputs": [
        {
          "output_type": "stream",
          "name": "stdout",
          "text": [
            "Looking in indexes: https://pypi.org/simple, https://us-python.pkg.dev/colab-wheels/public/simple/\n",
            "Collecting catboost\n",
            "  Downloading catboost-1.1.1-cp38-none-manylinux1_x86_64.whl (76.6 MB)\n",
            "\u001b[K     |████████████████████████████████| 76.6 MB 1.2 MB/s \n",
            "\u001b[?25hRequirement already satisfied: pandas>=0.24.0 in /usr/local/lib/python3.8/dist-packages (from catboost) (1.3.5)\n",
            "Requirement already satisfied: scipy in /usr/local/lib/python3.8/dist-packages (from catboost) (1.7.3)\n",
            "Requirement already satisfied: plotly in /usr/local/lib/python3.8/dist-packages (from catboost) (5.5.0)\n",
            "Requirement already satisfied: six in /usr/local/lib/python3.8/dist-packages (from catboost) (1.15.0)\n",
            "Requirement already satisfied: matplotlib in /usr/local/lib/python3.8/dist-packages (from catboost) (3.2.2)\n",
            "Requirement already satisfied: graphviz in /usr/local/lib/python3.8/dist-packages (from catboost) (0.10.1)\n",
            "Requirement already satisfied: numpy>=1.16.0 in /usr/local/lib/python3.8/dist-packages (from catboost) (1.21.6)\n",
            "Requirement already satisfied: pytz>=2017.3 in /usr/local/lib/python3.8/dist-packages (from pandas>=0.24.0->catboost) (2022.6)\n",
            "Requirement already satisfied: python-dateutil>=2.7.3 in /usr/local/lib/python3.8/dist-packages (from pandas>=0.24.0->catboost) (2.8.2)\n",
            "Requirement already satisfied: kiwisolver>=1.0.1 in /usr/local/lib/python3.8/dist-packages (from matplotlib->catboost) (1.4.4)\n",
            "Requirement already satisfied: cycler>=0.10 in /usr/local/lib/python3.8/dist-packages (from matplotlib->catboost) (0.11.0)\n",
            "Requirement already satisfied: pyparsing!=2.0.4,!=2.1.2,!=2.1.6,>=2.0.1 in /usr/local/lib/python3.8/dist-packages (from matplotlib->catboost) (3.0.9)\n",
            "Requirement already satisfied: tenacity>=6.2.0 in /usr/local/lib/python3.8/dist-packages (from plotly->catboost) (8.1.0)\n",
            "Installing collected packages: catboost\n",
            "Successfully installed catboost-1.1.1\n"
          ]
        }
      ]
    },
    {
      "cell_type": "code",
      "execution_count": 80,
      "metadata": {
        "id": "TqZi5DRGx4NI"
      },
      "outputs": [],
      "source": [
        "from catboost import CatBoostClassifier, Pool, CatBoostRegressor"
      ]
    },
    {
      "cell_type": "code",
      "source": [
        "study.best_params"
      ],
      "metadata": {
        "colab": {
          "base_uri": "https://localhost:8080/"
        },
        "id": "VASLBlFxXszO",
        "outputId": "f0179a97-06c5-4b08-dcd9-17729cbab9b0"
      },
      "execution_count": 77,
      "outputs": [
        {
          "output_type": "execute_result",
          "data": {
            "text/plain": [
              "{'n_estimators': 19, 'learning_rate': 0.04938649262158599}"
            ]
          },
          "metadata": {},
          "execution_count": 77
        }
      ]
    },
    {
      "cell_type": "code",
      "source": [
        "from sklearn.metrics import roc_auc_score"
      ],
      "metadata": {
        "id": "UR3ONpKTZYI6"
      },
      "execution_count": 78,
      "outputs": []
    },
    {
      "cell_type": "code",
      "source": [
        "model = CatBoostClassifier(iterations=20, \n",
        "                          depth=8, \n",
        "                          learning_rate=0.04938649262158599,\n",
        "                          )\n",
        "\n",
        "model.fit(x_train, y_train)\n",
        "\n",
        "\n",
        "roc_auc_score(y_test == 1, model.predict_proba(x_test)[:, 1])"
      ],
      "metadata": {
        "colab": {
          "base_uri": "https://localhost:8080/"
        },
        "id": "1iG136EvXhVX",
        "outputId": "74f7d0c4-013a-4a8f-ca80-4016f0e3946c"
      },
      "execution_count": 83,
      "outputs": [
        {
          "output_type": "stream",
          "name": "stdout",
          "text": [
            "0:\tlearn: 0.6332824\ttotal: 32.9ms\tremaining: 625ms\n",
            "1:\tlearn: 0.5797619\ttotal: 81.3ms\tremaining: 731ms\n",
            "2:\tlearn: 0.5357626\ttotal: 117ms\tremaining: 660ms\n",
            "3:\tlearn: 0.5002154\ttotal: 130ms\tremaining: 518ms\n",
            "4:\tlearn: 0.4687324\ttotal: 151ms\tremaining: 453ms\n",
            "5:\tlearn: 0.4414433\ttotal: 171ms\tremaining: 398ms\n",
            "6:\tlearn: 0.4191353\ttotal: 192ms\tremaining: 356ms\n",
            "7:\tlearn: 0.3996451\ttotal: 213ms\tremaining: 320ms\n",
            "8:\tlearn: 0.3839899\ttotal: 244ms\tremaining: 299ms\n",
            "9:\tlearn: 0.3698000\ttotal: 265ms\tremaining: 265ms\n",
            "10:\tlearn: 0.3573243\ttotal: 282ms\tremaining: 231ms\n",
            "11:\tlearn: 0.3444279\ttotal: 305ms\tremaining: 203ms\n",
            "12:\tlearn: 0.3338550\ttotal: 328ms\tremaining: 177ms\n",
            "13:\tlearn: 0.3237727\ttotal: 348ms\tremaining: 149ms\n",
            "14:\tlearn: 0.3168108\ttotal: 363ms\tremaining: 121ms\n",
            "15:\tlearn: 0.3089502\ttotal: 387ms\tremaining: 96.8ms\n",
            "16:\tlearn: 0.3031583\ttotal: 413ms\tremaining: 72.8ms\n",
            "17:\tlearn: 0.2980529\ttotal: 421ms\tremaining: 46.8ms\n",
            "18:\tlearn: 0.2937745\ttotal: 429ms\tremaining: 22.6ms\n",
            "19:\tlearn: 0.2890221\ttotal: 442ms\tremaining: 0us\n"
          ]
        },
        {
          "output_type": "execute_result",
          "data": {
            "text/plain": [
              "0.9332806401279752"
            ]
          },
          "metadata": {},
          "execution_count": 83
        }
      ]
    },
    {
      "cell_type": "markdown",
      "source": [
        "Неплохо, апгрейднулись 0.01 :D"
      ],
      "metadata": {
        "id": "9q--YbYLaCKX"
      }
    },
    {
      "cell_type": "markdown",
      "metadata": {
        "collapsed": false,
        "id": "NJ9g3Scmx4NJ"
      },
      "source": [
        "## Социализационный бонус. Новогоднее 🎆 (0.5 балла)\n",
        "\n",
        "Сфотографируйтесь с наряженной новогодней или рождественской ёлкой! Приложите фотографию, опишите свои впечатления, чего вы ждете от нового 2023 года?"
      ]
    }
  ],
  "metadata": {
    "colab": {
      "provenance": []
    },
    "kernelspec": {
      "display_name": "Python 3 (ipykernel)",
      "language": "python",
      "name": "python3"
    },
    "language_info": {
      "codemirror_mode": {
        "name": "ipython",
        "version": 3
      },
      "file_extension": ".py",
      "mimetype": "text/x-python",
      "name": "python",
      "nbconvert_exporter": "python",
      "pygments_lexer": "ipython3",
      "version": "3.9.7"
    },
    "nbTranslate": {
      "displayLangs": [
        "*"
      ],
      "hotkey": "alt-t",
      "langInMainMenu": true,
      "sourceLang": "en",
      "targetLang": "fr",
      "useGoogleTranslate": true
    },
    "toc": {
      "base_numbering": 1,
      "nav_menu": {
        "height": "210px",
        "width": "492px"
      },
      "number_sections": false,
      "sideBar": true,
      "skip_h1_title": false,
      "title_cell": "Table of Contents",
      "title_sidebar": "Contents",
      "toc_cell": false,
      "toc_position": {},
      "toc_section_display": true,
      "toc_window_display": true
    },
    "varInspector": {
      "cols": {
        "lenName": 16,
        "lenType": 16,
        "lenVar": 40
      },
      "kernels_config": {
        "python": {
          "delete_cmd_postfix": "",
          "delete_cmd_prefix": "del ",
          "library": "var_list.py",
          "varRefreshCmd": "print(var_dic_list())"
        },
        "r": {
          "delete_cmd_postfix": ") ",
          "delete_cmd_prefix": "rm(",
          "library": "var_list.r",
          "varRefreshCmd": "cat(var_dic_list()) "
        }
      },
      "types_to_exclude": [
        "module",
        "function",
        "builtin_function_or_method",
        "instance",
        "_Feature"
      ],
      "window_display": false
    }
  },
  "nbformat": 4,
  "nbformat_minor": 0
}